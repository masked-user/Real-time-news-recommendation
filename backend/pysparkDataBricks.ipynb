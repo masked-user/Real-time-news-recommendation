{
 "cells": [
  {
   "cell_type": "code",
   "execution_count": null,
   "metadata": {
    "application/vnd.databricks.v1+cell": {
     "cellMetadata": {
      "byteLimit": 2048000,
      "rowLimit": 10000
     },
     "inputWidgets": {},
     "nuid": "8195bee1-31b8-4bd8-a810-122cc4c1f145",
     "showTitle": false,
     "tableResultSettingsMap": {},
     "title": ""
    }
   },
   "outputs": [],
   "source": [
    "from pyspark.sql import SparkSession\n",
    "from pyspark.sql.functions import col, length, lit\n",
    "from pyspark.sql.types import StringType\n",
    "import feedparser\n",
    "import requests\n",
    "from bs4 import BeautifulSoup\n",
    "from pyspark.sql.functions import udf\n",
    "from pyspark.sql.types import StringType\n",
    "from pyspark.sql import functions as F\n",
    "from pyspark.sql.functions import lit\n"
   ]
  },
  {
   "cell_type": "code",
   "execution_count": null,
   "metadata": {
    "application/vnd.databricks.v1+cell": {
     "cellMetadata": {
      "byteLimit": 2048000,
      "rowLimit": 10000
     },
     "inputWidgets": {},
     "nuid": "bc6f79a4-d81d-487d-a565-a042f639c4e6",
     "showTitle": false,
     "tableResultSettingsMap": {},
     "title": ""
    }
   },
   "outputs": [
    {
     "name": "stdout",
     "output_type": "stream",
     "text": [
      "Requirement already satisfied: google-cloud-bigquery in /local_disk0/.ephemeral_nfs/envs/pythonEnv-4ffb18ac-f91b-4aeb-927d-c97a695e6209/lib/python3.11/site-packages (3.27.0)\n",
      "Requirement already satisfied: google-api-core[grpc]<3.0.0dev,>=2.11.1 in /databricks/python3/lib/python3.11/site-packages (from google-cloud-bigquery) (2.18.0)\n",
      "Requirement already satisfied: google-auth<3.0.0dev,>=2.14.1 in /databricks/python3/lib/python3.11/site-packages (from google-cloud-bigquery) (2.31.0)\n",
      "Requirement already satisfied: google-cloud-core<3.0.0dev,>=2.4.1 in /databricks/python3/lib/python3.11/site-packages (from google-cloud-bigquery) (2.4.1)\n",
      "Requirement already satisfied: google-resumable-media<3.0dev,>=2.0.0 in /databricks/python3/lib/python3.11/site-packages (from google-cloud-bigquery) (2.7.1)\n",
      "Requirement already satisfied: packaging>=20.0.0 in /databricks/python3/lib/python3.11/site-packages (from google-cloud-bigquery) (23.2)\n",
      "Requirement already satisfied: python-dateutil<3.0dev,>=2.7.3 in /databricks/python3/lib/python3.11/site-packages (from google-cloud-bigquery) (2.8.2)\n",
      "Requirement already satisfied: requests<3.0.0dev,>=2.21.0 in /databricks/python3/lib/python3.11/site-packages (from google-cloud-bigquery) (2.31.0)\n",
      "Requirement already satisfied: googleapis-common-protos<2.0.dev0,>=1.56.2 in /databricks/python3/lib/python3.11/site-packages (from google-api-core[grpc]<3.0.0dev,>=2.11.1->google-cloud-bigquery) (1.63.2)\n",
      "Requirement already satisfied: protobuf!=3.20.0,!=3.20.1,!=4.21.0,!=4.21.1,!=4.21.2,!=4.21.3,!=4.21.4,!=4.21.5,<5.0.0.dev0,>=3.19.5 in /databricks/python3/lib/python3.11/site-packages (from google-api-core[grpc]<3.0.0dev,>=2.11.1->google-cloud-bigquery) (4.24.1)\n",
      "Requirement already satisfied: proto-plus<2.0.0dev,>=1.22.3 in /databricks/python3/lib/python3.11/site-packages (from google-api-core[grpc]<3.0.0dev,>=2.11.1->google-cloud-bigquery) (1.24.0)\n",
      "Requirement already satisfied: grpcio<2.0dev,>=1.33.2 in /databricks/python3/lib/python3.11/site-packages (from google-api-core[grpc]<3.0.0dev,>=2.11.1->google-cloud-bigquery) (1.60.0)\n",
      "Requirement already satisfied: grpcio-status<2.0.dev0,>=1.33.2 in /databricks/python3/lib/python3.11/site-packages (from google-api-core[grpc]<3.0.0dev,>=2.11.1->google-cloud-bigquery) (1.60.0)\n",
      "Requirement already satisfied: cachetools<6.0,>=2.0.0 in /databricks/python3/lib/python3.11/site-packages (from google-auth<3.0.0dev,>=2.14.1->google-cloud-bigquery) (5.3.3)\n",
      "Requirement already satisfied: pyasn1-modules>=0.2.1 in /databricks/python3/lib/python3.11/site-packages (from google-auth<3.0.0dev,>=2.14.1->google-cloud-bigquery) (0.2.8)\n",
      "Requirement already satisfied: rsa<5,>=3.1.4 in /databricks/python3/lib/python3.11/site-packages (from google-auth<3.0.0dev,>=2.14.1->google-cloud-bigquery) (4.9)\n",
      "Requirement already satisfied: google-crc32c<2.0dev,>=1.0 in /databricks/python3/lib/python3.11/site-packages (from google-resumable-media<3.0dev,>=2.0.0->google-cloud-bigquery) (1.5.0)\n",
      "Requirement already satisfied: six>=1.5 in /usr/lib/python3/dist-packages (from python-dateutil<3.0dev,>=2.7.3->google-cloud-bigquery) (1.16.0)\n",
      "Requirement already satisfied: charset-normalizer<4,>=2 in /databricks/python3/lib/python3.11/site-packages (from requests<3.0.0dev,>=2.21.0->google-cloud-bigquery) (2.0.4)\n",
      "Requirement already satisfied: idna<4,>=2.5 in /databricks/python3/lib/python3.11/site-packages (from requests<3.0.0dev,>=2.21.0->google-cloud-bigquery) (3.4)\n",
      "Requirement already satisfied: urllib3<3,>=1.21.1 in /databricks/python3/lib/python3.11/site-packages (from requests<3.0.0dev,>=2.21.0->google-cloud-bigquery) (1.26.16)\n",
      "Requirement already satisfied: certifi>=2017.4.17 in /databricks/python3/lib/python3.11/site-packages (from requests<3.0.0dev,>=2.21.0->google-cloud-bigquery) (2023.7.22)\n",
      "Requirement already satisfied: pyasn1<0.5.0,>=0.4.6 in /databricks/python3/lib/python3.11/site-packages (from pyasn1-modules>=0.2.1->google-auth<3.0.0dev,>=2.14.1->google-cloud-bigquery) (0.4.8)\n",
      "\u001b[43mNote: you may need to restart the kernel using %restart_python or dbutils.library.restartPython() to use updated packages.\u001b[0m\n"
     ]
    }
   ],
   "source": [
    "pip install google-cloud-bigquery"
   ]
  },
  {
   "cell_type": "code",
   "execution_count": null,
   "metadata": {
    "application/vnd.databricks.v1+cell": {
     "cellMetadata": {
      "byteLimit": 2048000,
      "rowLimit": 10000
     },
     "inputWidgets": {},
     "nuid": "936520e1-5e24-4e89-830f-a78c09af195f",
     "showTitle": false,
     "tableResultSettingsMap": {},
     "title": ""
    }
   },
   "outputs": [],
   "source": [
    "service_account_key_file = \"/Workspace/Users/ksaideepak2018@gmail.com/credentials.json\"\n",
    "import os\n",
    "os.environ['GOOGLE_APPLICATION_CREDENTIALS'] = service_account_key_file"
   ]
  },
  {
   "cell_type": "code",
   "execution_count": null,
   "metadata": {
    "application/vnd.databricks.v1+cell": {
     "cellMetadata": {
      "byteLimit": 2048000,
      "rowLimit": 10000
     },
     "inputWidgets": {},
     "nuid": "12dadac1-958e-4fcc-9464-ac23592b3d7a",
     "showTitle": false,
     "tableResultSettingsMap": {},
     "title": ""
    }
   },
   "outputs": [],
   "source": [
    "from google.cloud import bigquery\n",
    "\n",
    "client = bigquery.Client()\n",
    "\n",
    "table_id = \"dcsc-proj-442903.trail_dcsc.User_Clicks\""
   ]
  },
  {
   "cell_type": "code",
   "execution_count": null,
   "metadata": {
    "application/vnd.databricks.v1+cell": {
     "cellMetadata": {
      "byteLimit": 2048000,
      "rowLimit": 10000
     },
     "inputWidgets": {},
     "nuid": "e711fe03-9935-46fc-acb8-523ce675d65a",
     "showTitle": false,
     "tableResultSettingsMap": {},
     "title": ""
    }
   },
   "outputs": [],
   "source": [
    "table = client.get_table(table_id)"
   ]
  },
  {
   "cell_type": "code",
   "execution_count": null,
   "metadata": {
    "application/vnd.databricks.v1+cell": {
     "cellMetadata": {
      "byteLimit": 2048000,
      "rowLimit": 10000
     },
     "inputWidgets": {},
     "nuid": "b7030487-c848-4f6a-85a1-d618c637769f",
     "showTitle": false,
     "tableResultSettingsMap": {},
     "title": ""
    }
   },
   "outputs": [],
   "source": [
    "query = f'SELECT * FROM {table_id}'"
   ]
  },
  {
   "cell_type": "code",
   "execution_count": null,
   "metadata": {
    "application/vnd.databricks.v1+cell": {
     "cellMetadata": {
      "byteLimit": 2048000,
      "rowLimit": 10000
     },
     "inputWidgets": {},
     "nuid": "cf8cebef-1ee1-4d74-a207-e2491f830b70",
     "showTitle": false,
     "tableResultSettingsMap": {},
     "title": ""
    }
   },
   "outputs": [],
   "source": [
    "query_job = client.query(query)"
   ]
  },
  {
   "cell_type": "code",
   "execution_count": null,
   "metadata": {
    "application/vnd.databricks.v1+cell": {
     "cellMetadata": {
      "byteLimit": 2048000,
      "rowLimit": 10000
     },
     "inputWidgets": {},
     "nuid": "09b0da78-6265-453c-9ba8-3c475863949a",
     "showTitle": false,
     "tableResultSettingsMap": {},
     "title": ""
    }
   },
   "outputs": [
    {
     "name": "stdout",
     "output_type": "stream",
     "text": [
      "{'UserID': '', 'Title': 'Trump names former Sen. David Perdue of Georgia to be ambassador to China', 'URL': 'https://www.npr.org/2024/12/06/g-s1-37072/trump-names-former-sen-david-perdue-of-georgia-to-be-ambassador-to-china', 'Description': \"With his nomination, Trump is leaning on a former business executive-turned politician to serve as the administration's envoy to America's most potent economic and military adversary.\", 'Genre': 'business'}\n",
      "{'UserID': 'AD550951', 'Title': 'Lead Exposure Drove a Hidden Mental Health Crisis in the U.S., Study Reveals', 'URL': 'https://gizmodo.com/lead-exposure-drove-a-hidden-mental-health-crisis-in-the-u-s-study-reveals-2000533663', 'Description': \"New research estimates that lead exposure from gasoline has significantly affected Americans' mental health for the worse during the 20th century.\", 'Genre': 'health'}\n",
      "{'UserID': 'AD550951', 'Title': 'Every kind of F-35 has now seen combat after a carrier-based stealth fighter struck the Houthis', 'URL': 'https://www.businessinsider.com/f-35-variants-seen-combat-after-fighter-struck-houthis-2024-11', 'Description': 'A US defense official told Business Insider that the F-35C made its first operational combat flight last weekend.', 'Genre': 'business'}\n",
      "{'UserID': '', 'Title': \"'Everything a manager could wish for' - Guardiola signs new deal\", 'URL': 'https://www.bbc.com/sport/football/articles/czxv2e3r1dgo', 'Description': 'Manchester City manager Pep Guardiola signs a two-year contract extension to keep him at the club until 2027.', 'Genre': 'home'}\n",
      "{'UserID': 'Ad469118', 'Title': \"'Everything a manager could wish for' - Guardiola signs new deal\", 'URL': 'https://www.bbc.com/sport/football/articles/czxv2e3r1dgo', 'Description': 'Manchester City manager Pep Guardiola signs a two-year contract extension to keep him at the club until 2027.', 'Genre': 'home'}\n",
      "{'UserID': 'Ad469118', 'Title': 'The Worst People in the World Are Making a Ton of Money After Trump’s Victory', 'URL': 'https://gizmodo.com/the-worst-people-in-the-world-are-making-a-ton-of-money-after-trumps-victory-2000521095', 'Description': 'Private prisons, crypto, banks, and the stock-market in general are all soaring at the news of Trump’s return to the White House.', 'Genre': 'general'}\n",
      "{'UserID': 'Ad469118', 'Title': \"Who is Pam Bondi, Trump's nominee for attorney general?\", 'URL': 'https://www.bbc.com/news/articles/c079y0r1j8po', 'Description': \"The 59-year-old was the first woman to head Florida's justice system and she is a longtime Trump ally.\", 'Genre': 'general'}\n",
      "{'UserID': 'Ad469118', 'Title': 'Denis Villeneuve Responds to Quentin Tarantino Refusing to Watch Dune: ‘I Don’t Care’', 'URL': 'https://gizmodo.com/denis-villeneuve-responds-to-quentin-tarantino-refusing-to-watch-dune-i-dont-care-2000522377', 'Description': \"Tarantino's aversion to Dune ties into his general dislike of Hollywood telling the same stories over and over.\", 'Genre': 'general'}\n",
      "{'UserID': 'Ad469118', 'Title': 'Dozens of states ask Congress to un-doom the Kids Online Safety Act', 'URL': 'https://www.theverge.com/2024/11/18/24299941/state-ag-letter-congress-pass-child-safety-kosa-deadline', 'Description': 'The attorneys general of New York, New Mexico, and other states have signed a law urging Congress to pass the Kids Online Safety Act before the end of the year.', 'Genre': 'general'}\n",
      "{'UserID': 'Ad469118', 'Title': 'FCC passes auto safety spectrum rules', 'URL': 'https://www.theverge.com/2024/11/21/24302733/fcc-cv2x-cellular-vehicle-everything-spectrum-rules-final', 'Description': 'FCC has finalized Cellular Vehicle-to-Everying (C-V2X) technology spectrum rules by evolving the 5.9GHz band for Intelligent Transportation Systems (ITS).', 'Genre': 'technology'}\n",
      "{'UserID': 'Ad469118', 'Title': 'What Are Hall Effect Sensors and How Do They Work? (2024)', 'URL': 'https://www.wired.com/story/what-is-hall-effect/', 'Description': 'More and more keyboards and video game controllers employ Hall effect sensors, but what exactly is this technology? We break it down.', 'Genre': 'technology'}\n",
      "{'UserID': 'Ad469118', 'Title': 'Gary Lineker steps down as Sports Personality host', 'URL': 'https://www.bbc.com/news/articles/cvg4888xj06o', 'Description': \"The news comes a day after confirmation that he will leave the BBC's Match of the Day.\", 'Genre': 'sports'}\n",
      "{'UserID': 'Ad469118', 'Title': 'Meta’s mixed-reality attempt at a Wii Sports knockoff is coming', 'URL': 'https://www.theverge.com/2024/11/25/24305847/meta-quest-home-sports-vr-mr-tennis-bowling-hockey-game', 'Description': 'Home Sports is a cartoonish collection of games like bowling, badminton, and mini-golf, that can be played on Meta’s Quest 3 and 3S headsets.', 'Genre': 'sports'}\n",
      "{'UserID': 'Ad469118', 'Title': 'Canada Is Doing Its Own Extremely Weird TikTok Ban', 'URL': 'https://gizmodo.com/now-canada-is-doing-its-own-extremely-weird-tiktok-ban-2000521585', 'Description': \"Canada wants TikTok's parent company to stop doing business in Canada.\", 'Genre': 'business'}\n",
      "{'UserID': 'Ad469118', 'Title': 'Here’s Wassup With That Scary Movie Reboot', 'URL': 'https://gizmodo.com/scary-movie-reboot-wayans-brothers-2000518013', 'Description': \"After a tease earlier this year, it's official: the Wayans Brothers are back in the horror parody business.\", 'Genre': 'business'}\n",
      "{'UserID': 'Ad469118', 'Title': 'Stolen cheddar might be heading to Russia, supplier tells BBC', 'URL': 'https://www.bbc.com/news/articles/c5ygw9ye90po', 'Description': 'A supplier of cheese stolen in a £300,000 scam said the business was based on trust.', 'Genre': 'business'}\n",
      "{'UserID': 'Ad469118', 'Title': 'Meet the couple with 900 sheep but no farm', 'URL': 'https://www.bbc.com/news/articles/c0kjkev241mo', 'Description': 'Sam and Samantha Edwards run a successful livestock business but do not have a farm tenancy.', 'Genre': 'business'}\n",
      "{'UserID': 'Ad469118', 'Title': 'Canada Is Doing Its Own Extremely Weird TikTok Ban', 'URL': 'https://gizmodo.com/now-canada-is-doing-its-own-extremely-weird-tiktok-ban-2000521585', 'Description': \"Canada wants TikTok's parent company to stop doing business in Canada.\", 'Genre': 'business'}\n",
      "{'UserID': 'Ad469118', 'Title': 'Standing Desks Are Better for Your Health—but Still Not Enough', 'URL': 'https://www.wired.com/story/standing-desk-health-benefits/', 'Description': 'Two recent studies offer some of the most nuanced evidence yet about the potential benefits and risks of working on your feet.', 'Genre': 'health'}\n",
      "{'UserID': 'Ad469118', 'Title': 'Pay offer being considered by health unions', 'URL': 'https://www.bbc.com/news/articles/c7041zvxrdgo', 'Description': 'BBC News NI understands a pay award backdated to this August is currently being considered by union reps.', 'Genre': 'health'}\n",
      "{'UserID': 'Ad469118', 'Title': 'Standing Desks Are Better for Your Health—but Still Not Enough', 'URL': 'https://www.wired.com/story/standing-desk-health-benefits/', 'Description': 'Two recent studies offer some of the most nuanced evidence yet about the potential benefits and risks of working on your feet.', 'Genre': 'health'}\n",
      "{'UserID': 'Ad469118', 'Title': 'AirPods Pro 2 Hearing Health Features Hands-On', 'URL': 'https://gizmodo.com/airpods-pro-2-hearing-health-features-hands-on-2000519730', 'Description': \"The Apple AirPods Pro 2 hearing health features are finally live. Here's how to accessing the features as well as some troubleshooting tips, and what the results mean.\", 'Genre': 'health'}\n",
      "{'UserID': 'SU606820', 'Title': 'Everything You Need to Know About Apple Intelligence', 'URL': 'https://www.macrumors.com/guide/apple-intelligence/', 'Description': 'Apple Intelligence is what Apple is calling its artificial intelligence feature set, previewed at WWDC in June 2024. The first Apple Intelligence features launched with iOS 18.1, iPadOS 18.1, and macOS Sequoia 15.1, but this is only an initial taste of what A…', 'Genre': 'home'}\n",
      "{'UserID': 'SU606820', 'Title': 'Everything in Ultra-High-Def', 'URL': 'https://time.com/7094592/samsung-neo-qled-8k-tv/', 'Description': 'Old classics shown in standard- or high-definition can look not so great on today’s ultra-high definition televisions. So Samsung is putting AI to the task in its Neo QLED 8K TV, also called the QN900D. A built-in processor helps power an upscaling algorithm …', 'Genre': 'home'}\n",
      "{'UserID': 'SU606820', 'Title': 'Winter Storm Cheat Sheet: Experts Tips On Protecting Your Home', 'URL': 'https://www.cnet.com/home/winter-storm-cheat-sheet-experts-tips-on-protecting-your-home/', 'Description': \"As winter blizzards bring snow and ice, here's everything you need to know about protecting your house from the cold.\", 'Genre': 'home'}\n",
      "{'UserID': 'SU606820', 'Title': 'Bills vs. Seahawks Livestream: How to Watch NFL Week 8 Online Today', 'URL': 'https://www.cnet.com/tech/services-and-software/bills-vs-seahawks-livestream-how-to-watch-nfl-week-8-online-today/', 'Description': \"Want to watch Buffalo play Seattle? Here's everything you need to stream Sunday's 1:05 p.m. PT game on Fox.\", 'Genre': 'home'}\n",
      "{'UserID': 'SU606820', 'Title': \"Colts 'evaluating everything'; Richardson still QB1\", 'URL': 'https://www.espn.com/nfl/story/_/id/42057121/colts-evaluating-everything-amid-anthony-richardson-struggles', 'Description': 'Colts coach Shane Steichen said he\\'s \"evaluating everything\" amid Anthony Richardson\\'s struggles, but said the QB\\'s decision to rest for a play won\\'t be a factor.', 'Genre': 'home'}\n",
      "{'UserID': 'SU606820', 'Title': 'Everything Ariana Grande has worn this year, ranked from worst to best', 'URL': 'https://www.businessinsider.com/ariana-grande-outfits-ranked-worst-to-best-2024-11', 'Description': 'Ariana Grande has been traveling around the world while promoting \"Wicked.\" For each appearance, she\\'s worn one showstopping outfit after another.', 'Genre': 'home'}\n",
      "{'UserID': 'SU606820', 'Title': 'Alexa at 10: Amazon’s assistant is a winner and a failure', 'URL': 'https://www.theverge.com/2024/11/5/24288352/amazon-alexa-anniversary-ai-llm-assistant-vergecast', 'Description': 'Amazon’s Echo launched in 2014, and since then has helped create a voice-first revolution. But as AI takes over, the questions remain about what these devices are for.', 'Genre': 'home'}\n",
      "{'UserID': 'SU606820', 'Title': \"Ready to Join Bluesky? Here's How to Get Started\", 'URL': 'https://www.cnet.com/tech/services-and-software/ready-to-join-bluesky-heres-how-to-get-started/', 'Description': \"The alternative social network Bluesky is blowing up right now. Here's everything you need to know about posting, following, custom algorithmic feeds and moderation.\", 'Genre': 'home'}\n",
      "{'UserID': 'SU606820', 'Title': \"Cheat sheet: How RFK Jr., Trump's pick for HHS secretary, promises to 'Make America Healthy Again'\", 'URL': 'https://www.businessinsider.com/how-rfk-jr-plans-to-make-america-healthy-again-2024-11', 'Description': 'Robert F. Kennedy Jr. has promised to \"make America healthy again.\" But what does that actually mean? Here\\'s everything he promises to do.', 'Genre': 'home'}\n",
      "{'UserID': 'SU606820', 'Title': '13 Best Housewarming Gifts for Any New Home', 'URL': 'https://www.wired.com/gallery/best-housewarming-gifts-for-any-new-home/', 'Description': \"Make a house into a home with these gifts, whether they're moving into their first house or a great new apartment.\", 'Genre': 'home'}\n",
      "{'UserID': 'SU606820', 'Title': '27 Great Gifts for Mom: Ideas for the Best Mother (2024)', 'URL': 'https://www.wired.com/gallery/gifts-for-moms/', 'Description': \"Whether you're shopping for Mother's Day gifts, birthday gifts for Mom, or any special occasion, these WIRED-tested picks will not disappoint.\", 'Genre': 'home'}\n",
      "{'UserID': 'SU606820', 'Title': 'Reddit is becoming the new Google', 'URL': 'https://www.businessinsider.com/reddit-google-search-ceo-steve-huffman-2024-10', 'Description': \"Reddit CEO Steve Huffman says more people are coming to the site for search as they learn it has is 'everything you're looking for'\", 'Genre': 'home'}\n",
      "{'UserID': 'SU606820', 'Title': \"Today's NYT Connections: Sports Edition Hints and Answers for Nov. 26, #64\", 'URL': 'https://www.cnet.com/tech/gaming/todays-nyt-connections-sports-edition-hints-and-answers-for-nov-26-64/', 'Description': \"Here's today's Connections: Sports Edition answer and hints for groups. These clues will help you solve The New York Times' popular puzzle game, Connections: Sports Edition, every day.\", 'Genre': 'sports'}\n",
      "{'UserID': 'SU606820', 'Title': \"Today's NYT Connections: Sports Edition Hints and Answers for Nov. 15, #53\", 'URL': 'https://www.cnet.com/tech/gaming/todays-nyt-connections-sports-edition-hints-and-answers-for-nov-15-53/', 'Description': \"Here's today's Connections: Sports Edition answer and hints for groups. These clues will help you solve The New York Times' popular puzzle game, Connections: Sports Edition, every day.\", 'Genre': 'sports'}\n",
      "{'UserID': 'SU606820', 'Title': 'NBA settles with WBD as it prepares to stream games on Amazon in 2025', 'URL': 'https://www.theverge.com/2024/11/18/24299485/nba-wbd-max-sports-live-streaming-amazon-2025', 'Description': 'Warner Bros. Discovery will settle its lawsuit against the NBA as it reaches a new deal that moves Inside the NBA to ESPN next year.', 'Genre': 'sports'}\n",
      "{'UserID': 'SU606820', 'Title': 'Clearly Hard Up for Cash, Nvidia to Limit GeForce Now Users to 100 Hours of Playtime a Month', 'URL': 'https://gizmodo.com/clearly-hard-up-for-cash-nvidia-to-limit-geforce-now-users-to-100-hours-of-playtime-a-month-2000521590', 'Description': 'That comes out to about 3 hours of usage per day.', 'Genre': 'entertainment'}\n",
      "{'UserID': 'SU606820', 'Title': 'Steam’s built-in game recording is now available to all', 'URL': 'https://www.theverge.com/2024/11/5/24289138/steam-game-recording-now-available-all-users', 'Description': 'Steam’s built-in game recording feature gives players a way to record their gaming sessions without jumping into a different third-party app.', 'Genre': 'entertainment'}\n",
      "{'UserID': 'SU606820', 'Title': \"Linda McMahon's professional qualifications as Trump's choice for Dept. of Education\", 'URL': 'https://abcnews.go.com/Politics/linda-mcmahons-background-trumps-pick-education-secretary/story?id=116058197', 'Description': \"Linda McMahon's background -- in both education and as a co-founder of sports entertainment company World Wrestling Entertainment, Inc. -- has come under scrutiny.\", 'Genre': 'entertainment'}\n",
      "{'UserID': 'SU606820', 'Title': 'Riot’s Co-Founder Defends Arcane‘s Massive Budget', 'URL': 'https://gizmodo.com/arcane-season-2-budget-riot-league-of-legends-netflix-2000525834', 'Description': 'Marc Merrill says recent discussion around Arcane\\'s budget is actually complaining about Riot Games \"paying talent\" and \"putting art first\".', 'Genre': 'entertainment'}\n",
      "{'UserID': 'SU606820', 'Title': 'Better Than a Chromebook, This Acer Laptop With Windows 11 Is Now Just $279 For Black Friday', 'URL': 'https://gizmodo.com/better-than-a-chromebook-this-acer-laptop-with-windows-11-is-now-just-279-for-black-friday-2000529636', 'Description': \"It's a great laptop for web browsing, word processing and light multi-tasking\", 'Genre': 'entertainment'}\n",
      "{'UserID': 'SU606820', 'Title': 'Sony Finally Turns the PlayStation Portal Into the Handheld Streamer We Always Wanted', 'URL': 'https://gizmodo.com/playstation-portal-handheld-streamer-2000526956', 'Description': 'But the PlayStation Portal won’t stream any PS4 or PS3 games, nor any PS5 game you bought from the PlayStation Store.', 'Genre': 'entertainment'}\n",
      "{'UserID': '', 'Title': \"Early Voting Underway in New York, New Jersey, and Florida: Every State's Key Dates\", 'URL': 'https://www.cnet.com/news/politics/early-voting-underway-in-new-york-new-jersey-and-florida-every-states-key-dates/', 'Description': \"Early voting began in a handful of major states this weekend, so here's everything you need to know about it in each state.\", 'Genre': 'home'}\n",
      "{'UserID': '', 'Title': 'null', 'URL': 'null', 'Description': 'null', 'Genre': 'General'}\n",
      "{'UserID': '', 'Title': 'null', 'URL': 'null', 'Description': 'null', 'Genre': 'General'}\n",
      "{'UserID': '', 'Title': 'Patriots vs. Bears Livestream: How to Watch NFL Week 10 Online Today', 'URL': 'https://www.cnet.com/tech/services-and-software/patriots-vs-bears-livestream-how-to-watch-nfl-week-10-online-today/', 'Description': \"Want to watch New England play Chicago? Here's everything you need to stream Sunday's 1 p.m. ET game on Fox.\", 'Genre': 'General'}\n",
      "{'UserID': '', 'Title': 'Drake May Soon Find Out If the Law Can Settle a Rap Beef', 'URL': 'https://www.wired.com/story/drake-kendrick-lamar-beef-legal-umg-spotify-iheartradio/', 'Description': \"Drake and Kendrick Lamar's ongoing feud has mostly been a war of words, fought online. With several court filings this week, Drake aimed to take it to a different venue.\", 'Genre': 'technology'}\n",
      "{'UserID': '', 'Title': \"'Everything a manager could wish for' - Guardiola signs new deal\", 'URL': 'https://www.bbc.com/sport/football/articles/czxv2e3r1dgo', 'Description': 'Manchester City manager Pep Guardiola signs a two-year contract extension to keep him at the club until 2027.', 'Genre': 'General'}\n",
      "{'UserID': '', 'Title': \"'Everything a manager could wish for' - Guardiola signs new deal\", 'URL': 'https://www.bbc.com/sport/football/articles/czxv2e3r1dgo', 'Description': 'Manchester City manager Pep Guardiola signs a two-year contract extension to keep him at the club until 2027.', 'Genre': 'General'}\n",
      "{'UserID': '', 'Title': \"'Everything a manager could wish for' - Guardiola signs new deal\", 'URL': 'https://www.bbc.com/sport/football/articles/czxv2e3r1dgo', 'Description': 'Manchester City manager Pep Guardiola signs a two-year contract extension to keep him at the club until 2027.', 'Genre': 'General'}\n",
      "{'UserID': '', 'Title': \"'Everything a manager could wish for' - Guardiola signs new deal\", 'URL': 'https://www.bbc.com/sport/football/articles/czxv2e3r1dgo', 'Description': 'Manchester City manager Pep Guardiola signs a two-year contract extension to keep him at the club until 2027.', 'Genre': 'General'}\n",
      "{'UserID': '', 'Title': \"'Everything a manager could wish for' - Guardiola signs new deal\", 'URL': 'https://www.bbc.com/sport/football/articles/czxv2e3r1dgo', 'Description': 'Manchester City manager Pep Guardiola signs a two-year contract extension to keep him at the club until 2027.', 'Genre': 'General'}\n",
      "{'UserID': '', 'Title': \"'Everything a manager could wish for' - Guardiola signs new deal\", 'URL': 'https://www.bbc.com/sport/football/articles/czxv2e3r1dgo', 'Description': 'Manchester City manager Pep Guardiola signs a two-year contract extension to keep him at the club until 2027.', 'Genre': 'General'}\n",
      "{'UserID': '', 'Title': \"'Everything a manager could wish for' - Guardiola signs new deal\", 'URL': 'https://www.bbc.com/sport/football/articles/czxv2e3r1dgo', 'Description': 'Manchester City manager Pep Guardiola signs a two-year contract extension to keep him at the club until 2027.', 'Genre': 'General'}\n",
      "{'UserID': '', 'Title': 'Samsung Is Slashing Frame TV Prices Like Never Before, Everything Must Go By (Black) Friday', 'URL': 'https://gizmodo.com/samsung-is-slashing-frame-tv-prices-like-never-before-everything-must-go-by-black-friday-2000530006', 'Description': \"If you've been dreaming of a Frame TV, Samsung is offering it at an record-low price on its official store.\", 'Genre': 'General'}\n",
      "{'UserID': '', 'Title': 'Samsung Is Slashing Frame TV Prices Like Never Before, Everything Must Go By (Black) Friday', 'URL': 'https://gizmodo.com/samsung-is-slashing-frame-tv-prices-like-never-before-everything-must-go-by-black-friday-2000530006', 'Description': \"If you've been dreaming of a Frame TV, Samsung is offering it at an record-low price on its official store.\", 'Genre': 'General'}\n",
      "{'UserID': '', 'Title': 'Samsung Is Slashing Frame TV Prices Like Never Before, Everything Must Go By (Black) Friday', 'URL': 'https://gizmodo.com/samsung-is-slashing-frame-tv-prices-like-never-before-everything-must-go-by-black-friday-2000530006', 'Description': \"If you've been dreaming of a Frame TV, Samsung is offering it at an record-low price on its official store.\", 'Genre': 'General'}\n",
      "{'UserID': '', 'Title': 'I had good intentions - Letby safeguarding boss', 'URL': 'https://www.bbc.com/news/articles/cr4lvqk6d9qo', 'Description': 'Former director of nursing Alison Kelly acknowledges she \"didn’t get everything right at the time\".', 'Genre': 'General'}\n",
      "{'UserID': '', 'Title': 'I had good intentions - Letby safeguarding boss', 'URL': 'https://www.bbc.com/news/articles/cr4lvqk6d9qo', 'Description': 'Former director of nursing Alison Kelly acknowledges she \"didn’t get everything right at the time\".', 'Genre': 'General'}\n",
      "{'UserID': '', 'Title': 'I had good intentions - Letby safeguarding boss', 'URL': 'https://www.bbc.com/news/articles/cr4lvqk6d9qo', 'Description': 'Former director of nursing Alison Kelly acknowledges she \"didn’t get everything right at the time\".', 'Genre': 'General'}\n",
      "{'UserID': '', 'Title': 'I had good intentions - Letby safeguarding boss', 'URL': 'https://www.bbc.com/news/articles/cr4lvqk6d9qo', 'Description': 'Former director of nursing Alison Kelly acknowledges she \"didn’t get everything right at the time\".', 'Genre': 'General'}\n",
      "{'UserID': '', 'Title': 'Amazon Cuts The Price of This Asus Gaming Laptop to a Record Low, Everything Must Go by Midnight', 'URL': 'https://gizmodo.com/amazon-cuts-the-price-of-this-asus-gaming-laptop-to-a-record-low-everything-must-go-by-midnight-2000530768', 'Description': \"It's the perfect balance between performance and price.\", 'Genre': 'General'}\n",
      "{'UserID': '', 'Title': 'Amazon Cuts The Price of This Asus Gaming Laptop to a Record Low, Everything Must Go by Midnight', 'URL': 'https://gizmodo.com/amazon-cuts-the-price-of-this-asus-gaming-laptop-to-a-record-low-everything-must-go-by-midnight-2000530768', 'Description': \"It's the perfect balance between performance and price.\", 'Genre': 'General'}\n",
      "{'UserID': '', 'Title': 'Amazon Cuts The Price of This Asus Gaming Laptop to a Record Low, Everything Must Go by Midnight', 'URL': 'https://gizmodo.com/amazon-cuts-the-price-of-this-asus-gaming-laptop-to-a-record-low-everything-must-go-by-midnight-2000530768', 'Description': \"It's the perfect balance between performance and price.\", 'Genre': 'General'}\n",
      "{'UserID': '', 'Title': 'Amazon Cuts The Price of This Asus Gaming Laptop to a Record Low, Everything Must Go by Midnight', 'URL': 'https://gizmodo.com/amazon-cuts-the-price-of-this-asus-gaming-laptop-to-a-record-low-everything-must-go-by-midnight-2000530768', 'Description': \"It's the perfect balance between performance and price.\", 'Genre': 'General'}\n",
      "{'UserID': '', 'Title': 'Amazon Cuts The Price of This Asus Gaming Laptop to a Record Low, Everything Must Go by Midnight', 'URL': 'https://gizmodo.com/amazon-cuts-the-price-of-this-asus-gaming-laptop-to-a-record-low-everything-must-go-by-midnight-2000530768', 'Description': \"It's the perfect balance between performance and price.\", 'Genre': 'General'}\n",
      "{'UserID': '', 'Title': 'Amazon Cuts The Price of This Asus Gaming Laptop to a Record Low, Everything Must Go by Midnight', 'URL': 'https://gizmodo.com/amazon-cuts-the-price-of-this-asus-gaming-laptop-to-a-record-low-everything-must-go-by-midnight-2000530768', 'Description': \"It's the perfect balance between performance and price.\", 'Genre': 'General'}\n",
      "{'UserID': '', 'Title': 'Amazon Cuts The Price of This Asus Gaming Laptop to a Record Low, Everything Must Go by Midnight', 'URL': 'https://gizmodo.com/amazon-cuts-the-price-of-this-asus-gaming-laptop-to-a-record-low-everything-must-go-by-midnight-2000530768', 'Description': \"It's the perfect balance between performance and price.\", 'Genre': 'General'}\n",
      "{'UserID': '', 'Title': 'Samsung Is Slashing Frame TV Prices Like Never Before, Everything Must Go By (Black) Friday', 'URL': 'https://gizmodo.com/samsung-is-slashing-frame-tv-prices-like-never-before-everything-must-go-by-black-friday-2000530006', 'Description': \"If you've been dreaming of a Frame TV, Samsung is offering it at an record-low price on its official store.\", 'Genre': 'General'}\n",
      "{'UserID': '', 'Title': 'Samsung Is Slashing Frame TV Prices Like Never Before, Everything Must Go By (Black) Friday', 'URL': 'https://gizmodo.com/samsung-is-slashing-frame-tv-prices-like-never-before-everything-must-go-by-black-friday-2000530006', 'Description': \"If you've been dreaming of a Frame TV, Samsung is offering it at an record-low price on its official store.\", 'Genre': 'General'}\n",
      "{'UserID': '', 'Title': \"'Everything a manager could wish for' - Guardiola signs new deal\", 'URL': 'https://www.bbc.com/sport/football/articles/czxv2e3r1dgo', 'Description': 'Manchester City manager Pep Guardiola signs a two-year contract extension to keep him at the club until 2027.', 'Genre': 'General'}\n",
      "{'UserID': '', 'Title': \"'Everything a manager could wish for' - Guardiola signs new deal\", 'URL': 'https:\n",
      "\n",
      "*** WARNING: max output size exceeded, skipping output. ***\n",
      "\n",
      "lack) Friday', 'URL': 'https://gizmodo.com/samsung-is-slashing-frame-tv-prices-like-never-before-everything-must-go-by-black-friday-2000530006', 'Description': \"If you've been dreaming of a Frame TV, Samsung is offering it at an record-low price on its official store.\", 'Genre': 'General'}\n",
      "{'UserID': '', 'Title': \"iOS 18 Brought T9 Dialing to Your iPhone. Here's How It Works\", 'URL': 'https://www.cnet.com/tech/services-and-software/ios-18-brought-t9-dialing-to-your-iphone-heres-how-it-works/', 'Description': 'Everything old is new again.', 'Genre': 'General'}\n",
      "{'UserID': '', 'Title': 'I had good intentions - Letby safeguarding boss', 'URL': 'https://www.bbc.com/news/articles/cr4lvqk6d9qo', 'Description': 'Former director of nursing Alison Kelly acknowledges she \"didn’t get everything right at the time\".', 'Genre': 'General'}\n",
      "{'UserID': '', 'Title': 'Samsung Is Slashing Frame TV Prices Like Never Before, Everything Must Go By (Black) Friday', 'URL': 'https://gizmodo.com/samsung-is-slashing-frame-tv-prices-like-never-before-everything-must-go-by-black-friday-2000530006', 'Description': \"If you've been dreaming of a Frame TV, Samsung is offering it at an record-low price on its official store.\", 'Genre': 'General'}\n",
      "{'UserID': '', 'Title': 'Samsung Is Slashing Frame TV Prices Like Never Before, Everything Must Go By (Black) Friday', 'URL': 'https://gizmodo.com/samsung-is-slashing-frame-tv-prices-like-never-before-everything-must-go-by-black-friday-2000530006', 'Description': \"If you've been dreaming of a Frame TV, Samsung is offering it at an record-low price on its official store.\", 'Genre': 'General'}\n",
      "{'UserID': '', 'Title': 'I had good intentions - Letby safeguarding boss', 'URL': 'https://www.bbc.com/news/articles/cr4lvqk6d9qo', 'Description': 'Former director of nursing Alison Kelly acknowledges she \"didn’t get everything right at the time\".', 'Genre': 'General'}\n",
      "{'UserID': '', 'Title': 'I had good intentions - Letby safeguarding boss', 'URL': 'https://www.bbc.com/news/articles/cr4lvqk6d9qo', 'Description': 'Former director of nursing Alison Kelly acknowledges she \"didn’t get everything right at the time\".', 'Genre': 'General'}\n",
      "{'UserID': '', 'Title': \"Boston Dynamics' Atlas at Work: Everything We Know video\", 'URL': 'https://www.cnet.com/videos/boston-dynamics-atlas-at-work-everything-we-know/', 'Description': \"In the latest video of Boston Dynamics' Atlas, the humanoid robot demonstrates its first fully autonomous work tasks, using new grippers and self-correcting any errors along the way.\", 'Genre': 'General'}\n",
      "{'UserID': '', 'Title': \"Boston Dynamics' Atlas at Work: Everything We Know video\", 'URL': 'https://www.cnet.com/videos/boston-dynamics-atlas-at-work-everything-we-know/', 'Description': \"In the latest video of Boston Dynamics' Atlas, the humanoid robot demonstrates its first fully autonomous work tasks, using new grippers and self-correcting any errors along the way.\", 'Genre': 'General'}\n",
      "{'UserID': '', 'Title': \"Boston Dynamics' Atlas at Work: Everything We Know video\", 'URL': 'https://www.cnet.com/videos/boston-dynamics-atlas-at-work-everything-we-know/', 'Description': \"In the latest video of Boston Dynamics' Atlas, the humanoid robot demonstrates its first fully autonomous work tasks, using new grippers and self-correcting any errors along the way.\", 'Genre': 'General'}\n",
      "{'UserID': '', 'Title': \"Boston Dynamics' Atlas at Work: Everything We Know video\", 'URL': 'https://www.cnet.com/videos/boston-dynamics-atlas-at-work-everything-we-know/', 'Description': \"In the latest video of Boston Dynamics' Atlas, the humanoid robot demonstrates its first fully autonomous work tasks, using new grippers and self-correcting any errors along the way.\", 'Genre': 'General'}\n",
      "{'UserID': '', 'Title': \"iOS 18 Brought T9 Dialing to Your iPhone. Here's How It Works\", 'URL': 'https://www.cnet.com/tech/services-and-software/ios-18-brought-t9-dialing-to-your-iphone-heres-how-it-works/', 'Description': 'Everything old is new again.', 'Genre': 'General'}\n",
      "{'UserID': '', 'Title': 'Samsung Is Slashing Frame TV Prices Like Never Before, Everything Must Go By (Black) Friday', 'URL': 'https://gizmodo.com/samsung-is-slashing-frame-tv-prices-like-never-before-everything-must-go-by-black-friday-2000530006', 'Description': \"If you've been dreaming of a Frame TV, Samsung is offering it at an record-low price on its official store.\", 'Genre': 'General'}\n",
      "{'UserID': '', 'Title': 'Samsung Is Slashing Frame TV Prices Like Never Before, Everything Must Go By (Black) Friday', 'URL': 'https://gizmodo.com/samsung-is-slashing-frame-tv-prices-like-never-before-everything-must-go-by-black-friday-2000530006', 'Description': \"If you've been dreaming of a Frame TV, Samsung is offering it at an record-low price on its official store.\", 'Genre': 'General'}\n",
      "{'UserID': '', 'Title': 'Samsung Is Slashing Frame TV Prices Like Never Before, Everything Must Go By (Black) Friday', 'URL': 'https://gizmodo.com/samsung-is-slashing-frame-tv-prices-like-never-before-everything-must-go-by-black-friday-2000530006', 'Description': \"If you've been dreaming of a Frame TV, Samsung is offering it at an record-low price on its official store.\", 'Genre': 'General'}\n",
      "{'UserID': '', 'Title': 'Samsung Is Slashing Frame TV Prices Like Never Before, Everything Must Go By (Black) Friday', 'URL': 'https://gizmodo.com/samsung-is-slashing-frame-tv-prices-like-never-before-everything-must-go-by-black-friday-2000530006', 'Description': \"If you've been dreaming of a Frame TV, Samsung is offering it at an record-low price on its official store.\", 'Genre': 'General'}\n",
      "{'UserID': '', 'Title': 'Samsung Is Slashing Frame TV Prices Like Never Before, Everything Must Go By (Black) Friday', 'URL': 'https://gizmodo.com/samsung-is-slashing-frame-tv-prices-like-never-before-everything-must-go-by-black-friday-2000530006', 'Description': \"If you've been dreaming of a Frame TV, Samsung is offering it at an record-low price on its official store.\", 'Genre': 'General'}\n",
      "{'UserID': '', 'Title': 'Samsung Is Slashing Frame TV Prices Like Never Before, Everything Must Go By (Black) Friday', 'URL': 'https://gizmodo.com/samsung-is-slashing-frame-tv-prices-like-never-before-everything-must-go-by-black-friday-2000530006', 'Description': \"If you've been dreaming of a Frame TV, Samsung is offering it at an record-low price on its official store.\", 'Genre': 'General'}\n",
      "{'UserID': '', 'Title': \"This Little Gadget Is the Best Way I've Found to Control My Philips Hue Lights\", 'URL': 'https://www.cnet.com/deals/this-little-gadget-is-the-best-way-ive-found-to-control-my-philips-hue-lights/', 'Description': \"Once you see everything this little puck can do, you'll want one too.\", 'Genre': 'General'}\n",
      "{'UserID': '', 'Title': \"'Everything a manager could wish for' - Guardiola signs new deal\", 'URL': 'https://www.bbc.com/sport/football/articles/czxv2e3r1dgo', 'Description': 'Manchester City manager Pep Guardiola signs a two-year contract extension to keep him at the club until 2027.', 'Genre': 'General'}\n",
      "{'UserID': '', 'Title': 'Samsung Is Slashing Frame TV Prices Like Never Before, Everything Must Go By (Black) Friday', 'URL': 'https://gizmodo.com/samsung-is-slashing-frame-tv-prices-like-never-before-everything-must-go-by-black-friday-2000530006', 'Description': \"If you've been dreaming of a Frame TV, Samsung is offering it at an record-low price on its official store.\", 'Genre': 'General'}\n",
      "{'UserID': '', 'Title': 'I had good intentions - Letby safeguarding boss', 'URL': 'https://www.bbc.com/news/articles/cr4lvqk6d9qo', 'Description': 'Former director of nursing Alison Kelly acknowledges she \"didn’t get everything right at the time\".', 'Genre': 'General'}\n",
      "{'UserID': '', 'Title': 'Amazon Cuts The Price of This Asus Gaming Laptop to a Record Low, Everything Must Go by Midnight', 'URL': 'https://gizmodo.com/amazon-cuts-the-price-of-this-asus-gaming-laptop-to-a-record-low-everything-must-go-by-midnight-2000530768', 'Description': \"It's the perfect balance between performance and price.\", 'Genre': 'General'}\n",
      "{'UserID': '', 'Title': 'Amazon Cuts The Price of This Asus Gaming Laptop to a Record Low, Everything Must Go by Midnight', 'URL': 'https://gizmodo.com/amazon-cuts-the-price-of-this-asus-gaming-laptop-to-a-record-low-everything-must-go-by-midnight-2000530768', 'Description': \"It's the perfect balance between performance and price.\", 'Genre': 'General'}\n",
      "{'UserID': '', 'Title': 'Everything Revealed at Microsoft Ignite 2024 video', 'URL': 'https://www.cnet.com/videos/everything-revealed-at-microsoft-ignite-2024/', 'Description': \"At Microsoft Ignite in Chicago, CEO Satya Nadella announces new innovations for developers at the company's annual show. Watch all the highlights in 15 minutes.\", 'Genre': 'General'}\n",
      "{'UserID': '', 'Title': \"iOS 18 Brought T9 Dialing to Your iPhone. Here's How It Works\", 'URL': 'https://www.cnet.com/tech/services-and-software/ios-18-brought-t9-dialing-to-your-iphone-heres-how-it-works/', 'Description': 'Everything old is new again.', 'Genre': 'General'}\n",
      "{'UserID': '', 'Title': 'Winter Storm Cheat Sheet: Experts Tips On Protecting Your Home', 'URL': 'https://www.cnet.com/home/winter-storm-cheat-sheet-experts-tips-on-protecting-your-home/', 'Description': \"As winter blizzards bring snow and ice, here's everything you need to know about protecting your house from the cold.\", 'Genre': 'General'}\n",
      "{'UserID': '', 'Title': 'Patriots vs. Bears Livestream: How to Watch NFL Week 10 Online Today', 'URL': 'https://www.cnet.com/tech/services-and-software/patriots-vs-bears-livestream-how-to-watch-nfl-week-10-online-today/', 'Description': \"Want to watch New England play Chicago? Here's everything you need to stream Sunday's 1 p.m. ET game on Fox.\", 'Genre': 'General'}\n",
      "{'UserID': '', 'Title': 'Hollywood goes conservative as an economic shift fuels a turn toward faith and family-based shows', 'URL': 'https://www.businessinsider.com/hollywood-embracing-conservative-themes-after-playing-to-the-coasts-2024-11', 'Description': 'After playing to the coasts, Hollywood is leaning into faith-based, conservative-themed, and family-aimed entertainment.', 'Genre': 'entertainment'}\n",
      "{'UserID': '', 'Title': 'One in three T-level students drop out of health course', 'URL': 'https://www.bbc.com/news/articles/cy4g04j1l9xo', 'Description': 'Many health and science T-level students dropped out after an exam board sent out botched exam papers in 2022.', 'Genre': 'health'}\n",
      "{'UserID': '', 'Title': 'Health to get £600m boost in Welsh budget', 'URL': 'https://www.bbc.com/news/articles/cy53nk65py4o', 'Description': 'All Welsh government departments to be offered more cash from April under budget plans.', 'Genre': 'health'}\n",
      "{'UserID': '', 'Title': 'One in three T-level students drop out of health course', 'URL': 'https://www.bbc.com/news/articles/cy4g04j1l9xo', 'Description': 'Many health and science T-level students dropped out after an exam board sent out botched exam papers in 2022.', 'Genre': 'health'}\n",
      "{'UserID': '', 'Title': 'Health to get £600m boost in Welsh budget', 'URL': 'https://www.bbc.com/news/articles/cy53nk65py4o', 'Description': 'All Welsh government departments to be offered more cash from April under budget plans.', 'Genre': 'health'}\n",
      "{'UserID': '', 'Title': 'A Popular Asthma Drug May Be Causing Brain Damage', 'URL': 'https://gizmodo.com/a-popular-asthma-drug-may-be-causing-brain-damage-2000529453', 'Description': 'New data collected by the FDA has found that montelukast can bind to brain cells, which may explain the risk of mental health adverse effects linked to its use.', 'Genre': 'health'}\n",
      "{'UserID': '', 'Title': \"Boston Dynamics' Atlas at Work: Everything We Know video\", 'URL': 'https://www.cnet.com/videos/boston-dynamics-atlas-at-work-everything-we-know/', 'Description': \"In the latest video of Boston Dynamics' Atlas, the humanoid robot demonstrates its first fully autonomous work tasks, using new grippers and self-correcting any errors along the way.\", 'Genre': 'home'}\n",
      "{'UserID': '', 'Title': \"iOS 18 Brought T9 Dialing to Your iPhone. Here's How It Works\", 'URL': 'https://www.cnet.com/tech/services-and-software/ios-18-brought-t9-dialing-to-your-iphone-heres-how-it-works/', 'Description': 'Everything old is new again.', 'Genre': 'home'}\n",
      "{'UserID': '', 'Title': 'Amazon Deceived Black D.C. Neighborhoods With Slower Deliveries, City Alleges', 'URL': 'https://gizmodo.com/amazon-deceived-black-d-c-neighborhoods-with-slower-deliveries-city-alleges-2000534067', 'Description': \"Washington, D.C.'s attorney general has sued the retail giant for charging residents of two zip codes the same Prime price for significantly slower delivery speeds.\", 'Genre': 'general'}\n",
      "{'UserID': '', 'Title': 'Trump nominates Matt Gaetz for Attorney General', 'URL': 'https://www.businessinsider.com/trump-nominates-matt-gaetz-attorney-general-2024-11', 'Description': 'In a post on Truth Social, Trump said that Gaetz would \"root out the systemic corruption\" at the Department of Justice.', 'Genre': 'general'}\n",
      "{'UserID': '', 'Title': 'Harriet Tubman posthumously named a general in Veterans Day ceremony', 'URL': 'https://www.npr.org/2024/11/12/g-s1-33792/harriet-tubman-posthumously-named-a-general-in-veterans-day-ceremony', 'Description': 'Revered abolitionist Harriet Tubman, who was the first woman to oversee an American military action during a time of war, was posthumously awarded the rank of general on Monday.', 'Genre': 'general'}\n",
      "{'UserID': '', 'Title': 'Trump nominates Matt Gaetz for Attorney General', 'URL': 'https://www.businessinsider.com/trump-nominates-matt-gaetz-attorney-general-2024-11', 'Description': 'In a post on Truth Social, Trump said that Gaetz would \"root out the systemic corruption\" at the Department of Justice.', 'Genre': 'general'}\n",
      "{'UserID': '', 'Title': \"Spotify Wrapped is always a mess for parents. The new AI 'podcast' version just makes it worse.\", 'URL': 'https://www.businessinsider.com/spotify-wrapped-ai-podcast-weird-reviewed-2024-12', 'Description': 'Spotify is using Google AI technology to make a \"podcast\" about your listening habits. It\\'s fascinating technology, but it also weirds me out.', 'Genre': 'technology'}\n",
      "{'UserID': '', 'Title': \"Spotify Wrapped is always a mess for parents. The new AI 'podcast' version just makes it worse.\", 'URL': 'https://www.businessinsider.com/spotify-wrapped-ai-podcast-weird-reviewed-2024-12', 'Description': 'Spotify is using Google AI technology to make a \"podcast\" about your listening habits. It\\'s fascinating technology, but it also weirds me out.', 'Genre': 'technology'}\n",
      "{'UserID': '', 'Title': 'Everything Revealed at Microsoft Ignite 2024 video', 'URL': 'https://www.cnet.com/videos/everything-revealed-at-microsoft-ignite-2024/', 'Description': \"At Microsoft Ignite in Chicago, CEO Satya Nadella announces new innovations for developers at the company's annual show. Watch all the highlights in 15 minutes.\", 'Genre': 'home'}\n",
      "{'UserID': 'PA285472', 'Title': 'I had good intentions - Letby safeguarding boss', 'URL': 'https://www.bbc.com/news/articles/cr4lvqk6d9qo', 'Description': 'Former director of nursing Alison Kelly acknowledges she \"didn’t get everything right at the time\".', 'Genre': 'home'}\n",
      "{'UserID': 'PA285472', 'Title': \"'Everything a manager could wish for' - Guardiola signs new deal\", 'URL': 'https://www.bbc.com/sport/football/articles/czxv2e3r1dgo', 'Description': 'Manchester City manager Pep Guardiola signs a two-year contract extension to keep him at the club until 2027.', 'Genre': 'home'}\n",
      "{'UserID': 'PA285472', 'Title': \"This Little Gadget Is the Best Way I've Found to Control My Philips Hue Lights\", 'URL': 'https://www.cnet.com/deals/this-little-gadget-is-the-best-way-ive-found-to-control-my-philips-hue-lights/', 'Description': \"Once you see everything this little puck can do, you'll want one too.\", 'Genre': 'home'}\n",
      "{'UserID': 'PA285472', 'Title': \"Here's everything Garmin added to its smartwatches in the December 2024 update\", 'URL': 'https://www.androidcentral.com/wearables/heres-everything-garmin-added-to-its-smartwatches-in-the-december-2024-update', 'Description': 'Lactate threshold auto-detection, functional threshold power, and more are coming to select Garmin watches.', 'Genre': 'home'}\n",
      "{'UserID': 'PA285472', 'Title': 'We Break Down the Internet’s Future Under Trump 2.0', 'URL': 'https://www.wired.com/story/the-internets-future-under-donald-trump/', 'Description': 'WIRED global editorial director Katie Drummond joins this week to discuss what the fragmented internet did for the Trump campaign, and what the incoming Trump administration means for the internet.', 'Genre': 'home'}\n",
      "{'UserID': 'PA285472', 'Title': 'General Motors Says It’s Pulling Cruise Out of the Robotaxi Business', 'URL': 'https://gizmodo.com/general-motors-says-its-pulling-cruise-out-of-the-robotaxi-business-2000537015', 'Description': 'The company had invested billions into the self-driving car company.', 'Genre': 'business'}\n",
      "{'UserID': 'PA285472', 'Title': 'Every kind of F-35 has now seen combat after a carrier-based stealth fighter struck the Houthis', 'URL': 'https://www.businessinsider.com/f-35-variants-seen-combat-after-fighter-struck-houthis-2024-11', 'Description': 'A US defense official told Business Insider that the F-35C made its first operational combat flight last weekend.', 'Genre': 'business'}\n",
      "{'UserID': 'PA285472', 'Title': 'Black Friday Chromebook deals 2024 — score major savings on Acer, Lenovo, Samsung, and more', 'URL': 'https://www.androidcentral.com/chromebooks-laptops/black-friday-chromebook-deals-2024-score-major-savings-on-acer-lenovo-samsung-and-more', 'Description': \"Whether you're looking for a business solution or a couch companion, these are the best Chromebook deals of Black Friday 2024.\", 'Genre': 'business'}\n",
      "{'UserID': 'PA285472', 'Title': \"On a work trip, my kids ended up in the hospital while I had a stomach bug. It proved I'm stronger than I thought.\", 'URL': 'https://www.businessinsider.com/working-mom-kids-hospitalized-on-business-trip-2024-12', 'Description': \"I brought my kids on a business trip to learn about a new place. I didn't expect them to both end up in the hospital.\", 'Genre': 'business'}\n",
      "{'UserID': 'PA285472', 'Title': 'Post Office jobs and branches at risk in shake-up', 'URL': 'https://www.bbc.com/news/articles/cx24028d2dwo', 'Description': 'Hundreds of head office workers are facing cuts and loss-making branches are under threat of closure.', 'Genre': 'business'}\n",
      "{'UserID': 'PA285472', 'Title': \"Inside 'Project Black Walnut' that sheds light on how Google thinks about Apple's ad business\", 'URL': 'https://www.businessinsider.com/google-apple-ads-project-black-walnut-2024-11', 'Description': 'The newly surfaced report appears to have been assembled by Google strategists to try to imagine what kind of ad business Apple might build out.', 'Genre': 'business'}\n",
      "{'UserID': 'PA285472', 'Title': \"The founder of Shake Shack says there's a limit to how many times you should say 'yes' to the customer\", 'URL': 'https://www.businessinsider.com/shake-shack-founder-danny-meyer-limit-saying-yes-to-customer-2024-12', 'Description': 'Danny Meyer said too much customization may not work in the favor of the business, referencing the many \"permutations\" of coffee at Starbucks.', 'Genre': 'business'}\n",
      "{'UserID': 'PA285472', 'Title': \"I tried Dolly Parton's new mac and cheese recipe. It's the perfect Thanksgiving comfort dish.\", 'URL': 'https://www.businessinsider.com/dolly-parton-mac-and-cheese-thanksgiving-2024-11', 'Description': 'Dolly Parton told Business Insider that she loves making mac and cheese. Her Thanksgiving recipe features three different types of cheese.', 'Genre': 'business'}\n",
      "{'UserID': 'PA285472', 'Title': 'DOGE aims to cut the number of federal workers. Here are the 20 highest-paying government jobs.', 'URL': 'https://www.businessinsider.com/highest-paying-federal-government-jobs-salaries-employment-elon-musk-doge-2024-11', 'Description': \"Federal workers are at risk of losing their jobs under Musk's DOGE. Business Insider looked at which jobs have the highest average salaries.\", 'Genre': 'business'}\n",
      "{'UserID': 'PA285472', 'Title': \"I spent over $10K on a business coach who told me I was 'messy' and made me doubt myself. Here's my advice if you're considering coaching.\", 'URL': 'https://www.businessinsider.com/business-coach-self-doubt-tips-finding-right-fit-2024-12', 'Description': \"Alejandra Roja spend over $10,000 on a business coach who was a bad fit for Roja's needs when she was just starting her journey as an entrepreneur.\", 'Genre': 'business'}\n",
      "{'UserID': 'PA285472', 'Title': 'Why CEOs Are Cheering Donald Trump’s Pick for Treasury Secretary', 'URL': 'https://time.com/7178829/why-ceos-are-cheering-donald-trump-bessent-pick-for-treasury-secretary/', 'Description': 'The business community expects Bessent to work closely with business leaders, as well as policymakers from both sides of the aisle.', 'Genre': 'business'}\n",
      "{'UserID': 'PA285472', 'Title': 'The biggest news from Amazon re:Invent 2024', 'URL': 'https://venturebeat.com/ai/the-biggest-news-from-amazon-reinvent-2024/', 'Description': 'The most important news for business leaders and those looking to embrace and deploy the latest, most useful AWS technology.', 'Genre': 'business'}\n",
      "{'UserID': 'PA285472', 'Title': '‘An act of rebellion’: Haitian theatre persists amid political crisis and violence', 'URL': 'https://www.yahoo.com/news/act-rebellion-haitian-theatre-persists-100052707.html', 'Description': 'Thespians recognize continuing to rehearse is a perilous business – but they are determined to fight on', 'Genre': 'business'}\n",
      "{'UserID': 'PA285472', 'Title': 'Dr Disrespect veers right into Rumble', 'URL': 'https://www.theverge.com/2024/11/25/24305606/dr-disrespect-rumble-streaming-youtube-twitch', 'Description': 'Dr Disrespect has found a new home on the right-wing streaming platform Rumble after his ban from Twitch and de-monetization on YouTube.', 'Genre': 'business'}\n",
      "{'UserID': 'PA285472', 'Title': 'Bitcoin ATM Security Breach Compromised Social Security Numbers and Government IDs', 'URL': 'https://gizmodo.com/bitcoin-atm-security-breach-comprised-customers-price-of-bitcoin-2000537845', 'Description': \"Byte Federal operates 1,200 Bitcoin ATMs in the U.S. A data breach comprised 58,000 customer's information.\", 'Genre': 'business'}\n",
      "{'UserID': 'PA285472', 'Title': \"'I don't know how we'll survive': War-damaged Lebanese businesses face the unknown\", 'URL': 'https://www.bbc.com/news/articles/cdd64v77491o', 'Description': 'Traders and shop-owners lost their livelihoods as a result of destruction from Israeli attacks.', 'Genre': 'business'}\n",
      "{'UserID': 'PA285472', 'Title': 'Open Source, Forced Innovation, and Making Good Products', 'URL': 'https://hackaday.com/2024/11/23/open-source-forced-innovation-and-making-good-products/', 'Description': 'The open-source hardware business landscape is no doubt a tough one, but is it actually tougher than for closed-source hardware? That question has been on our minds since the announcement …read more', 'Genre': 'business'}\n",
      "{'UserID': 'PA285472', 'Title': 'Google will let you make AI clip art for your documents', 'URL': 'https://www.theverge.com/2024/11/15/24297524/google-docs-gemini-ai-image-generator-clip-art', 'Description': 'Google Docs is getting a Gemini AI-powered image generator sidebar that makes clip art-style images using the Imagen 3 model.', 'Genre': 'business'}\n",
      "{'UserID': 'PA285472', 'Title': \"Amazon's pharmacy business is expected to reach $2 billion in sales as shopper interest skyrockets, a top analyst says\", 'URL': 'https://www.businessinsider.com/amazon-to-reach-2-billion-pharma-sales-rising-customer-interest-2024-12', 'Description': 'Amazon Pharmacy is on track for $2 billion in sales, with consumer interest rising sharply.', 'Genre': 'business'}\n",
      "{'UserID': 'PA285472', 'Title': \"Three injured in Palm Desert crash after sheriff's deputies chase suspected thieves\", 'URL': 'https://www.desertsun.com/story/news/crime_courts/2024/11/25/three-injured-in-crash-after-pursuit-of-suspected-thieves-in-palm-desert/76576759007/', 'Description': 'The chase came after Riverside County deputies were dispatched to a business in the 72-000 block of Highway 111 in Palm Desert regarding a theft.', 'Genre': 'business'}\n",
      "{'UserID': 'PA285472', 'Title': 'We Break Down the Internet’s Future Under Trump 2.0', 'URL': 'https://www.wired.com/story/the-internets-future-under-donald-trump/', 'Description': 'WIRED global editorial director Katie Drummond joins this week to discuss what the fragmented internet did for the Trump campaign, and what the incoming Trump administration means for the internet.', 'Genre': 'business'}\n",
      "{'UserID': '', 'Title': 'I had good intentions - Letby safeguarding boss', 'URL': 'https://www.bbc.com/news/articles/cr4lvqk6d9qo', 'Description': 'Former director of nursing Alison Kelly acknowledges she \"didn’t get everything right at the time\".', 'Genre': 'home'}\n"
     ]
    }
   ],
   "source": [
    "spark = SparkSession.builder.appName(\"RecommendationSystem\").getOrCreate()\n",
    "\n",
    "rows = [dict(row) for row in query_job]\n",
    "df = spark.createDataFrame(rows)\n",
    "\n",
    "# Filter users with valid UserID\n",
    "users_data = df.filter(length(col(\"UserID\")) > 1)\n",
    "\n",
    "'''"
   ]
  },
  {
   "cell_type": "code",
   "execution_count": null,
   "metadata": {
    "application/vnd.databricks.v1+cell": {
     "cellMetadata": {
      "byteLimit": 2048000,
      "rowLimit": 10000
     },
     "inputWidgets": {},
     "nuid": "074e7f47-518b-49ed-8472-83805ec07cec",
     "showTitle": false,
     "tableResultSettingsMap": {},
     "title": ""
    }
   },
   "outputs": [],
   "source": [
    "pip install transformers"
   ]
  },
  {
   "cell_type": "code",
   "execution_count": null,
   "metadata": {
    "application/vnd.databricks.v1+cell": {
     "cellMetadata": {
      "byteLimit": 2048000,
      "rowLimit": 10000
     },
     "inputWidgets": {},
     "nuid": "cf2a2993-43a1-4c91-ab25-a78eda4c9c47",
     "showTitle": false,
     "tableResultSettingsMap": {},
     "title": ""
    }
   },
   "outputs": [],
   "source": [
    "%pip install torch"
   ]
  },
  {
   "cell_type": "code",
   "execution_count": null,
   "metadata": {
    "application/vnd.databricks.v1+cell": {
     "cellMetadata": {
      "byteLimit": 2048000,
      "rowLimit": 10000
     },
     "inputWidgets": {},
     "nuid": "8056e42f-ff4e-456c-ae53-276ed079f31c",
     "showTitle": false,
     "tableResultSettingsMap": {},
     "title": ""
    }
   },
   "outputs": [],
   "source": [
    "from transformers import pipeline"
   ]
  },
  {
   "cell_type": "code",
   "execution_count": null,
   "metadata": {
    "application/vnd.databricks.v1+cell": {
     "cellMetadata": {
      "byteLimit": 2048000,
      "rowLimit": 10000
     },
     "inputWidgets": {},
     "nuid": "da0f0880-b46a-41c4-bbff-46af76c07ac4",
     "showTitle": false,
     "tableResultSettingsMap": {},
     "title": ""
    }
   },
   "outputs": [
    {
     "name": "stdout",
     "output_type": "stream",
     "text": [
      "       UserID  ...       Genre\n",
      "1    AD550951  ...      health\n",
      "2    AD550951  ...    Business\n",
      "4    Ad469118  ...      sports\n",
      "5    Ad469118  ...    Business\n",
      "6    Ad469118  ...     General\n",
      "..        ...  ...         ...\n",
      "138  PA285472  ...    Business\n",
      "139  PA285472  ...  technology\n",
      "140  PA285472  ...  technology\n",
      "141  PA285472  ...    Business\n",
      "142  PA285472  ...  technology\n",
      "\n",
      "[67 rows x 5 columns]\n"
     ]
    },
    {
     "name": "stderr",
     "output_type": "stream",
     "text": [
      "/root/.ipykernel/2453/command-1710237259661339-3195791505:8: SettingWithCopyWarning: \n",
      "A value is trying to be set on a copy of a slice from a DataFrame.\n",
      "Try using .loc[row_indexer,col_indexer] = value instead\n",
      "\n",
      "See the caveats in the documentation: https://pandas.pydata.org/pandas-docs/stable/user_guide/indexing.html#returning-a-view-versus-a-copy\n",
      "  users_data['Genre'] = users_data['Description'].apply(lambda x: classifier(x, candidate_genres)['labels'][0])\n"
     ]
    }
   ],
   "source": [
    "from transformers import pipeline\n",
    "\n",
    "classifier = pipeline(\"zero-shot-classification\", model=\"facebook/bart-large-mnli\")\n",
    "candidate_genres = [\"entertainment\", \"sports\", \"technology\", \"health\",\"Business\",\"General\"]\n",
    "def classify_genre(description, candidate_genres):\n",
    "    result = classifier(description, candidate_labels=candidate_genres)\n",
    "    return result[\"labels\"][0]  # Return the top predicted label"
   ]
  },
  {
   "cell_type": "code",
   "execution_count": null,
   "metadata": {
    "application/vnd.databricks.v1+cell": {
     "cellMetadata": {
      "byteLimit": 2048000,
      "rowLimit": 10000
     },
     "inputWidgets": {},
     "nuid": "9d5659c0-2f02-4870-9cbd-4a34ef6871c7",
     "showTitle": false,
     "tableResultSettingsMap": {},
     "title": ""
    }
   },
   "outputs": [
    {
     "data": {
      "text/html": [
       "<style scoped>\n",
       "  .table-result-container {\n",
       "    max-height: 300px;\n",
       "    overflow: auto;\n",
       "  }\n",
       "  table, th, td {\n",
       "    border: 1px solid black;\n",
       "    border-collapse: collapse;\n",
       "  }\n",
       "  th, td {\n",
       "    padding: 5px;\n",
       "  }\n",
       "  th {\n",
       "    text-align: left;\n",
       "  }\n",
       "</style><div class='table-result-container'><table class='table-result'><thead style='background-color: white'><tr><th>UserID</th><th>Title</th><th>URL</th><th>Description</th><th>Genre</th></tr></thead><tbody><tr><td>AD550951</td><td>Lead Exposure Drove a Hidden Mental Health Crisis in the U.S., Study Reveals</td><td>https://gizmodo.com/lead-exposure-drove-a-hidden-mental-health-crisis-in-the-u-s-study-reveals-2000533663</td><td>New research estimates that lead exposure from gasoline has significantly affected Americans' mental health for the worse during the 20th century.</td><td>health</td></tr><tr><td>AD550951</td><td>Every kind of F-35 has now seen combat after a carrier-based stealth fighter struck the Houthis</td><td>https://www.businessinsider.com/f-35-variants-seen-combat-after-fighter-struck-houthis-2024-11</td><td>A US defense official told Business Insider that the F-35C made its first operational combat flight last weekend.</td><td>Business</td></tr><tr><td>Ad469118</td><td>'Everything a manager could wish for' - Guardiola signs new deal</td><td>https://www.bbc.com/sport/football/articles/czxv2e3r1dgo</td><td>Manchester City manager Pep Guardiola signs a two-year contract extension to keep him at the club until 2027.</td><td>sports</td></tr><tr><td>Ad469118</td><td>The Worst People in the World Are Making a Ton of Money After Trump’s Victory</td><td>https://gizmodo.com/the-worst-people-in-the-world-are-making-a-ton-of-money-after-trumps-victory-2000521095</td><td>Private prisons, crypto, banks, and the stock-market in general are all soaring at the news of Trump’s return to the White House.</td><td>Business</td></tr><tr><td>Ad469118</td><td>Who is Pam Bondi, Trump's nominee for attorney general?</td><td>https://www.bbc.com/news/articles/c079y0r1j8po</td><td>The 59-year-old was the first woman to head Florida's justice system and she is a longtime Trump ally.</td><td>General</td></tr><tr><td>Ad469118</td><td>Denis Villeneuve Responds to Quentin Tarantino Refusing to Watch Dune: ‘I Don’t Care’</td><td>https://gizmodo.com/denis-villeneuve-responds-to-quentin-tarantino-refusing-to-watch-dune-i-dont-care-2000522377</td><td>Tarantino's aversion to Dune ties into his general dislike of Hollywood telling the same stories over and over.</td><td>entertainment</td></tr><tr><td>Ad469118</td><td>Dozens of states ask Congress to un-doom the Kids Online Safety Act</td><td>https://www.theverge.com/2024/11/18/24299941/state-ag-letter-congress-pass-child-safety-kosa-deadline</td><td>The attorneys general of New York, New Mexico, and other states have signed a law urging Congress to pass the Kids Online Safety Act before the end of the year.</td><td>General</td></tr><tr><td>Ad469118</td><td>FCC passes auto safety spectrum rules</td><td>https://www.theverge.com/2024/11/21/24302733/fcc-cv2x-cellular-vehicle-everything-spectrum-rules-final</td><td>FCC has finalized Cellular Vehicle-to-Everying (C-V2X) technology spectrum rules by evolving the 5.9GHz band for Intelligent Transportation Systems (ITS).</td><td>technology</td></tr><tr><td>Ad469118</td><td>What Are Hall Effect Sensors and How Do They Work? (2024)</td><td>https://www.wired.com/story/what-is-hall-effect/</td><td>More and more keyboards and video game controllers employ Hall effect sensors, but what exactly is this technology? We break it down.</td><td>technology</td></tr><tr><td>Ad469118</td><td>Gary Lineker steps down as Sports Personality host</td><td>https://www.bbc.com/news/articles/cvg4888xj06o</td><td>The news comes a day after confirmation that he will leave the BBC's Match of the Day.</td><td>sports</td></tr><tr><td>Ad469118</td><td>Meta’s mixed-reality attempt at a Wii Sports knockoff is coming</td><td>https://www.theverge.com/2024/11/25/24305847/meta-quest-home-sports-vr-mr-tennis-bowling-hockey-game</td><td>Home Sports is a cartoonish collection of games like bowling, badminton, and mini-golf, that can be played on Meta’s Quest 3 and 3S headsets.</td><td>sports</td></tr><tr><td>Ad469118</td><td>Canada Is Doing Its Own Extremely Weird TikTok Ban</td><td>https://gizmodo.com/now-canada-is-doing-its-own-extremely-weird-tiktok-ban-2000521585</td><td>Canada wants TikTok's parent company to stop doing business in Canada.</td><td>Business</td></tr><tr><td>Ad469118</td><td>Here’s Wassup With That Scary Movie Reboot</td><td>https://gizmodo.com/scary-movie-reboot-wayans-brothers-2000518013</td><td>After a tease earlier this year, it's official: the Wayans Brothers are back in the horror parody business.</td><td>entertainment</td></tr><tr><td>Ad469118</td><td>Stolen cheddar might be heading to Russia, supplier tells BBC</td><td>https://www.bbc.com/news/articles/c5ygw9ye90po</td><td>A supplier of cheese stolen in a £300,000 scam said the business was based on trust.</td><td>Business</td></tr><tr><td>Ad469118</td><td>Meet the couple with 900 sheep but no farm</td><td>https://www.bbc.com/news/articles/c0kjkev241mo</td><td>Sam and Samantha Edwards run a successful livestock business but do not have a farm tenancy.</td><td>Business</td></tr><tr><td>Ad469118</td><td>Canada Is Doing Its Own Extremely Weird TikTok Ban</td><td>https://gizmodo.com/now-canada-is-doing-its-own-extremely-weird-tiktok-ban-2000521585</td><td>Canada wants TikTok's parent company to stop doing business in Canada.</td><td>Business</td></tr><tr><td>Ad469118</td><td>Standing Desks Are Better for Your Health—but Still Not Enough</td><td>https://www.wired.com/story/standing-desk-health-benefits/</td><td>Two recent studies offer some of the most nuanced evidence yet about the potential benefits and risks of working on your feet.</td><td>health</td></tr><tr><td>Ad469118</td><td>Pay offer being considered by health unions</td><td>https://www.bbc.com/news/articles/c7041zvxrdgo</td><td>BBC News NI understands a pay award backdated to this August is currently being considered by union reps.</td><td>Business</td></tr><tr><td>Ad469118</td><td>Standing Desks Are Better for Your Health—but Still Not Enough</td><td>https://www.wired.com/story/standing-desk-health-benefits/</td><td>Two recent studies offer some of the most nuanced evidence yet about the potential benefits and risks of working on your feet.</td><td>health</td></tr><tr><td>Ad469118</td><td>AirPods Pro 2 Hearing Health Features Hands-On</td><td>https://gizmodo.com/airpods-pro-2-hearing-health-features-hands-on-2000519730</td><td>The Apple AirPods Pro 2 hearing health features are finally live. Here's how to accessing the features as well as some troubleshooting tips, and what the results mean.</td><td>technology</td></tr><tr><td>SU606820</td><td>Everything You Need to Know About Apple Intelligence</td><td>https://www.macrumors.com/guide/apple-intelligence/</td><td>Apple Intelligence is what Apple is calling its artificial intelligence feature set, previewed at WWDC in June 2024. The first Apple Intelligence features launched with iOS 18.1, iPadOS 18.1, and macOS Sequoia 15.1, but this is only an initial taste of what A…</td><td>technology</td></tr><tr><td>SU606820</td><td>Everything in Ultra-High-Def</td><td>https://time.com/7094592/samsung-neo-qled-8k-tv/</td><td>Old classics shown in standard- or high-definition can look not so great on today’s ultra-high definition televisions. So Samsung is putting AI to the task in its Neo QLED 8K TV, also called the QN900D. A built-in processor helps power an upscaling algorithm …</td><td>technology</td></tr><tr><td>SU606820</td><td>Winter Storm Cheat Sheet: Experts Tips On Protecting Your Home</td><td>https://www.cnet.com/home/winter-storm-cheat-sheet-experts-tips-on-protecting-your-home/</td><td>As winter blizzards bring snow and ice, here's everything you need to know about protecting your house from the cold.</td><td>General</td></tr><tr><td>SU606820</td><td>Bills vs. Seahawks Livestream: How to Watch NFL Week 8 Online Today</td><td>https://www.cnet.com/tech/services-and-software/bills-vs-seahawks-livestream-how-to-watch-nfl-week-8-online-today/</td><td>Want to watch Buffalo play Seattle? Here's everything you need to stream Sunday's 1:05 p.m. PT game on Fox.</td><td>sports</td></tr><tr><td>SU606820</td><td>Colts 'evaluating everything'; Richardson still QB1</td><td>https://www.espn.com/nfl/story/_/id/42057121/colts-evaluating-everything-amid-anthony-richardson-struggles</td><td>Colts coach Shane Steichen said he's \"evaluating everything\" amid Anthony Richardson's struggles, but said the QB's decision to rest for a play won't be a factor.</td><td>General</td></tr><tr><td>SU606820</td><td>Everything Ariana Grande has worn this year, ranked from worst to best</td><td>https://www.businessinsider.com/ariana-grande-outfits-ranked-worst-to-best-2024-11</td><td>Ariana Grande has been traveling around the world while promoting \"Wicked.\" For each appearance, she's worn one showstopping outfit after another.</td><td>entertainment</td></tr><tr><td>SU606820</td><td>Alexa at 10: Amazon’s assistant is a winner and a failure</td><td>https://www.theverge.com/2024/11/5/24288352/amazon-alexa-anniversary-ai-llm-assistant-vergecast</td><td>Amazon’s Echo launched in 2014, and since then has helped create a voice-first revolution. But as AI takes over, the questions remain about what these devices are for.</td><td>technology</td></tr><tr><td>SU606820</td><td>Ready to Join Bluesky? Here's How to Get Started</td><td>https://www.cnet.com/tech/services-and-software/ready-to-join-bluesky-heres-how-to-get-started/</td><td>The alternative social network Bluesky is blowing up right now. Here's everything you need to know about posting, following, custom algorithmic feeds and moderation.</td><td>technology</td></tr><tr><td>SU606820</td><td>Cheat sheet: How RFK Jr., Trump's pick for HHS secretary, promises to 'Make America Healthy Again'</td><td>https://www.businessinsider.com/how-rfk-jr-plans-to-make-america-healthy-again-2024-11</td><td>Robert F. Kennedy Jr. has promised to \"make America healthy again.\" But what does that actually mean? Here's everything he promises to do.</td><td>health</td></tr><tr><td>SU606820</td><td>13 Best Housewarming Gifts for Any New Home</td><td>https://www.wired.com/gallery/best-housewarming-gifts-for-any-new-home/</td><td>Make a house into a home with these gifts, whether they're moving into their first house or a great new apartment.</td><td>General</td></tr><tr><td>SU606820</td><td>27 Great Gifts for Mom: Ideas for the Best Mother (2024)</td><td>https://www.wired.com/gallery/gifts-for-moms/</td><td>Whether you're shopping for Mother's Day gifts, birthday gifts for Mom, or any special occasion, these WIRED-tested picks will not disappoint.</td><td>General</td></tr><tr><td>SU606820</td><td>Reddit is becoming the new Google</td><td>https://www.businessinsider.com/reddit-google-search-ceo-steve-huffman-2024-10</td><td>Reddit CEO Steve Huffman says more people are coming to the site for search as they learn it has is 'everything you're looking for'</td><td>technology</td></tr><tr><td>SU606820</td><td>Today's NYT Connections: Sports Edition Hints and Answers for Nov. 26, #64</td><td>https://www.cnet.com/tech/gaming/todays-nyt-connections-sports-edition-hints-and-answers-for-nov-26-64/</td><td>Here's today's Connections: Sports Edition answer and hints for groups. These clues will help you solve The New York Times' popular puzzle game, Connections: Sports Edition, every day.</td><td>entertainment</td></tr><tr><td>SU606820</td><td>Today's NYT Connections: Sports Edition Hints and Answers for Nov. 15, #53</td><td>https://www.cnet.com/tech/gaming/todays-nyt-connections-sports-edition-hints-and-answers-for-nov-15-53/</td><td>Here's today's Connections: Sports Edition answer and hints for groups. These clues will help you solve The New York Times' popular puzzle game, Connections: Sports Edition, every day.</td><td>entertainment</td></tr><tr><td>SU606820</td><td>NBA settles with WBD as it prepares to stream games on Amazon in 2025</td><td>https://www.theverge.com/2024/11/18/24299485/nba-wbd-max-sports-live-streaming-amazon-2025</td><td>Warner Bros. Discovery will settle its lawsuit against the NBA as it reaches a new deal that moves Inside the NBA to ESPN next year.</td><td>sports</td></tr><tr><td>SU606820</td><td>Clearly Hard Up for Cash, Nvidia to Limit GeForce Now Users to 100 Hours of Playtime a Month</td><td>https://gizmodo.com/clearly-hard-up-for-cash-nvidia-to-limit-geforce-now-users-to-100-hours-of-playtime-a-month-2000521590</td><td>That comes out to about 3 hours of usage per day.</td><td>General</td></tr><tr><td>SU606820</td><td>Steam’s built-in game recording is now available to all</td><td>https://www.theverge.com/2024/11/5/24289138/steam-game-recording-now-available-all-users</td><td>Steam’s built-in game recording feature gives players a way to record their gaming sessions without jumping into a different third-party app.</td><td>technology</td></tr><tr><td>SU606820</td><td>Linda McMahon's professional qualifications as Trump's choice for Dept. of Education</td><td>https://abcnews.go.com/Politics/linda-mcmahons-background-trumps-pick-education-secretary/story?id=116058197</td><td>Linda McMahon's background -- in both education and as a co-founder of sports entertainment company World Wrestling Entertainment, Inc. -- has come under scrutiny.</td><td>sports</td></tr><tr><td>SU606820</td><td>Riot’s Co-Founder Defends Arcane‘s Massive Budget</td><td>https://gizmodo.com/arcane-season-2-budget-riot-league-of-legends-netflix-2000525834</td><td>Marc Merrill says recent discussion around Arcane's budget is actually complaining about Riot Games \"paying talent\" and \"putting art first\".</td><td>General</td></tr><tr><td>SU606820</td><td>Better Than a Chromebook, This Acer Laptop With Windows 11 Is Now Just $279 For Black Friday</td><td>https://gizmodo.com/better-than-a-chromebook-this-acer-laptop-with-windows-11-is-now-just-279-for-black-friday-2000529636</td><td>It's a great laptop for web browsing, word processing and light multi-tasking</td><td>technology</td></tr><tr><td>SU606820</td><td>Sony Finally Turns the PlayStation Portal Into the Handheld Streamer We Always Wanted</td><td>https://gizmodo.com/playstation-portal-handheld-streamer-2000526956</td><td>But the PlayStation Portal won’t stream any PS4 or PS3 games, nor any PS5 game you bought from the PlayStation Store.</td><td>technology</td></tr><tr><td>PA285472</td><td>I had good intentions - Letby safeguarding boss</td><td>https://www.bbc.com/news/articles/cr4lvqk6d9qo</td><td>Former director of nursing Alison Kelly acknowledges she \"didn’t get everything right at the time\".</td><td>health</td></tr><tr><td>PA285472</td><td>'Everything a manager could wish for' - Guardiola signs new deal</td><td>https://www.bbc.com/sport/football/articles/czxv2e3r1dgo</td><td>Manchester City manager Pep Guardiola signs a two-year contract extension to keep him at the club until 2027.</td><td>sports</td></tr><tr><td>PA285472</td><td>This Little Gadget Is the Best Way I've Found to Control My Philips Hue Lights</td><td>https://www.cnet.com/deals/this-little-gadget-is-the-best-way-ive-found-to-control-my-philips-hue-lights/</td><td>Once you see everything this little puck can do, you'll want one too.</td><td>entertainment</td></tr><tr><td>PA285472</td><td>Here's everything Garmin added to its smartwatches in the December 2024 update</td><td>https://www.androidcentral.com/wearables/heres-everything-garmin-added-to-its-smartwatches-in-the-december-2024-update</td><td>Lactate threshold auto-detection, functional threshold power, and more are coming to select Garmin watches.</td><td>technology</td></tr><tr><td>PA285472</td><td>We Break Down the Internet’s Future Under Trump 2.0</td><td>https://www.wired.com/story/the-internets-future-under-donald-trump/</td><td>WIRED global editorial director Katie Drummond joins this week to discuss what the fragmented internet did for the Trump campaign, and what the incoming Trump administration means for the internet.</td><td>technology</td></tr><tr><td>PA285472</td><td>General Motors Says It’s Pulling Cruise Out of the Robotaxi Business</td><td>https://gizmodo.com/general-motors-says-its-pulling-cruise-out-of-the-robotaxi-business-2000537015</td><td>The company had invested billions into the self-driving car company.</td><td>technology</td></tr><tr><td>PA285472</td><td>Every kind of F-35 has now seen combat after a carrier-based stealth fighter struck the Houthis</td><td>https://www.businessinsider.com/f-35-variants-seen-combat-after-fighter-struck-houthis-2024-11</td><td>A US defense official told Business Insider that the F-35C made its first operational combat flight last weekend.</td><td>Business</td></tr><tr><td>PA285472</td><td>Black Friday Chromebook deals 2024 — score major savings on Acer, Lenovo, Samsung, and more</td><td>https://www.androidcentral.com/chromebooks-laptops/black-friday-chromebook-deals-2024-score-major-savings-on-acer-lenovo-samsung-and-more</td><td>Whether you're looking for a business solution or a couch companion, these are the best Chromebook deals of Black Friday 2024.</td><td>technology</td></tr><tr><td>PA285472</td><td>On a work trip, my kids ended up in the hospital while I had a stomach bug. It proved I'm stronger than I thought.</td><td>https://www.businessinsider.com/working-mom-kids-hospitalized-on-business-trip-2024-12</td><td>I brought my kids on a business trip to learn about a new place. I didn't expect them to both end up in the hospital.</td><td>Business</td></tr><tr><td>PA285472</td><td>Post Office jobs and branches at risk in shake-up</td><td>https://www.bbc.com/news/articles/cx24028d2dwo</td><td>Hundreds of head office workers are facing cuts and loss-making branches are under threat of closure.</td><td>Business</td></tr><tr><td>PA285472</td><td>Inside 'Project Black Walnut' that sheds light on how Google thinks about Apple's ad business</td><td>https://www.businessinsider.com/google-apple-ads-project-black-walnut-2024-11</td><td>The newly surfaced report appears to have been assembled by Google strategists to try to imagine what kind of ad business Apple might build out.</td><td>technology</td></tr><tr><td>PA285472</td><td>The founder of Shake Shack says there's a limit to how many times you should say 'yes' to the customer</td><td>https://www.businessinsider.com/shake-shack-founder-danny-meyer-limit-saying-yes-to-customer-2024-12</td><td>Danny Meyer said too much customization may not work in the favor of the business, referencing the many \"permutations\" of coffee at Starbucks.</td><td>Business</td></tr><tr><td>PA285472</td><td>I tried Dolly Parton's new mac and cheese recipe. It's the perfect Thanksgiving comfort dish.</td><td>https://www.businessinsider.com/dolly-parton-mac-and-cheese-thanksgiving-2024-11</td><td>Dolly Parton told Business Insider that she loves making mac and cheese. Her Thanksgiving recipe features three different types of cheese.</td><td>Business</td></tr><tr><td>PA285472</td><td>DOGE aims to cut the number of federal workers. Here are the 20 highest-paying government jobs.</td><td>https://www.businessinsider.com/highest-paying-federal-government-jobs-salaries-employment-elon-musk-doge-2024-11</td><td>Federal workers are at risk of losing their jobs under Musk's DOGE. Business Insider looked at which jobs have the highest average salaries.</td><td>Business</td></tr><tr><td>PA285472</td><td>I spent over $10K on a business coach who told me I was 'messy' and made me doubt myself. Here's my advice if you're considering coaching.</td><td>https://www.businessinsider.com/business-coach-self-doubt-tips-finding-right-fit-2024-12</td><td>Alejandra Roja spend over $10,000 on a business coach who was a bad fit for Roja's needs when she was just starting her journey as an entrepreneur.</td><td>Business</td></tr><tr><td>PA285472</td><td>Why CEOs Are Cheering Donald Trump’s Pick for Treasury Secretary</td><td>https://time.com/7178829/why-ceos-are-cheering-donald-trump-bessent-pick-for-treasury-secretary/</td><td>The business community expects Bessent to work closely with business leaders, as well as policymakers from both sides of the aisle.</td><td>Business</td></tr><tr><td>PA285472</td><td>The biggest news from Amazon re:Invent 2024</td><td>https://venturebeat.com/ai/the-biggest-news-from-amazon-reinvent-2024/</td><td>The most important news for business leaders and those looking to embrace and deploy the latest, most useful AWS technology.</td><td>technology</td></tr><tr><td>PA285472</td><td>‘An act of rebellion’: Haitian theatre persists amid political crisis and violence</td><td>https://www.yahoo.com/news/act-rebellion-haitian-theatre-persists-100052707.html</td><td>Thespians recognize continuing to rehearse is a perilous business – but they are determined to fight on</td><td>Business</td></tr><tr><td>PA285472</td><td>Dr Disrespect veers right into Rumble</td><td>https://www.theverge.com/2024/11/25/24305606/dr-disrespect-rumble-streaming-youtube-twitch</td><td>Dr Disrespect has found a new home on the right-wing streaming platform Rumble after his ban from Twitch and de-monetization on YouTube.</td><td>technology</td></tr><tr><td>PA285472</td><td>Bitcoin ATM Security Breach Compromised Social Security Numbers and Government IDs</td><td>https://gizmodo.com/bitcoin-atm-security-breach-comprised-customers-price-of-bitcoin-2000537845</td><td>Byte Federal operates 1,200 Bitcoin ATMs in the U.S. A data breach comprised 58,000 customer's information.</td><td>technology</td></tr><tr><td>PA285472</td><td>'I don't know how we'll survive': War-damaged Lebanese businesses face the unknown</td><td>https://www.bbc.com/news/articles/cdd64v77491o</td><td>Traders and shop-owners lost their livelihoods as a result of destruction from Israeli attacks.</td><td>Business</td></tr><tr><td>PA285472</td><td>Open Source, Forced Innovation, and Making Good Products</td><td>https://hackaday.com/2024/11/23/open-source-forced-innovation-and-making-good-products/</td><td>The open-source hardware business landscape is no doubt a tough one, but is it actually tougher than for closed-source hardware? That question has been on our minds since the announcement …read more</td><td>Business</td></tr><tr><td>PA285472</td><td>Google will let you make AI clip art for your documents</td><td>https://www.theverge.com/2024/11/15/24297524/google-docs-gemini-ai-image-generator-clip-art</td><td>Google Docs is getting a Gemini AI-powered image generator sidebar that makes clip art-style images using the Imagen 3 model.</td><td>technology</td></tr><tr><td>PA285472</td><td>Amazon's pharmacy business is expected to reach $2 billion in sales as shopper interest skyrockets, a top analyst says</td><td>https://www.businessinsider.com/amazon-to-reach-2-billion-pharma-sales-rising-customer-interest-2024-12</td><td>Amazon Pharmacy is on track for $2 billion in sales, with consumer interest rising sharply.</td><td>technology</td></tr><tr><td>PA285472</td><td>Three injured in Palm Desert crash after sheriff's deputies chase suspected thieves</td><td>https://www.desertsun.com/story/news/crime_courts/2024/11/25/three-injured-in-crash-after-pursuit-of-suspected-thieves-in-palm-desert/76576759007/</td><td>The chase came after Riverside County deputies were dispatched to a business in the 72-000 block of Highway 111 in Palm Desert regarding a theft.</td><td>Business</td></tr><tr><td>PA285472</td><td>We Break Down the Internet’s Future Under Trump 2.0</td><td>https://www.wired.com/story/the-internets-future-under-donald-trump/</td><td>WIRED global editorial director Katie Drummond joins this week to discuss what the fragmented internet did for the Trump campaign, and what the incoming Trump administration means for the internet.</td><td>technology</td></tr></tbody></table></div>"
      ]
     },
     "metadata": {
      "application/vnd.databricks.v1+output": {
       "addedWidgets": {},
       "aggData": [],
       "aggError": "",
       "aggOverflow": false,
       "aggSchema": [],
       "aggSeriesLimitReached": false,
       "aggType": "",
       "arguments": {},
       "columnCustomDisplayInfos": {},
       "data": [
        [
         "AD550951",
         "Lead Exposure Drove a Hidden Mental Health Crisis in the U.S., Study Reveals",
         "https://gizmodo.com/lead-exposure-drove-a-hidden-mental-health-crisis-in-the-u-s-study-reveals-2000533663",
         "New research estimates that lead exposure from gasoline has significantly affected Americans' mental health for the worse during the 20th century.",
         "health"
        ],
        [
         "AD550951",
         "Every kind of F-35 has now seen combat after a carrier-based stealth fighter struck the Houthis",
         "https://www.businessinsider.com/f-35-variants-seen-combat-after-fighter-struck-houthis-2024-11",
         "A US defense official told Business Insider that the F-35C made its first operational combat flight last weekend.",
         "Business"
        ],
        [
         "Ad469118",
         "'Everything a manager could wish for' - Guardiola signs new deal",
         "https://www.bbc.com/sport/football/articles/czxv2e3r1dgo",
         "Manchester City manager Pep Guardiola signs a two-year contract extension to keep him at the club until 2027.",
         "sports"
        ],
        [
         "Ad469118",
         "The Worst People in the World Are Making a Ton of Money After Trump’s Victory",
         "https://gizmodo.com/the-worst-people-in-the-world-are-making-a-ton-of-money-after-trumps-victory-2000521095",
         "Private prisons, crypto, banks, and the stock-market in general are all soaring at the news of Trump’s return to the White House.",
         "Business"
        ],
        [
         "Ad469118",
         "Who is Pam Bondi, Trump's nominee for attorney general?",
         "https://www.bbc.com/news/articles/c079y0r1j8po",
         "The 59-year-old was the first woman to head Florida's justice system and she is a longtime Trump ally.",
         "General"
        ],
        [
         "Ad469118",
         "Denis Villeneuve Responds to Quentin Tarantino Refusing to Watch Dune: ‘I Don’t Care’",
         "https://gizmodo.com/denis-villeneuve-responds-to-quentin-tarantino-refusing-to-watch-dune-i-dont-care-2000522377",
         "Tarantino's aversion to Dune ties into his general dislike of Hollywood telling the same stories over and over.",
         "entertainment"
        ],
        [
         "Ad469118",
         "Dozens of states ask Congress to un-doom the Kids Online Safety Act",
         "https://www.theverge.com/2024/11/18/24299941/state-ag-letter-congress-pass-child-safety-kosa-deadline",
         "The attorneys general of New York, New Mexico, and other states have signed a law urging Congress to pass the Kids Online Safety Act before the end of the year.",
         "General"
        ],
        [
         "Ad469118",
         "FCC passes auto safety spectrum rules",
         "https://www.theverge.com/2024/11/21/24302733/fcc-cv2x-cellular-vehicle-everything-spectrum-rules-final",
         "FCC has finalized Cellular Vehicle-to-Everying (C-V2X) technology spectrum rules by evolving the 5.9GHz band for Intelligent Transportation Systems (ITS).",
         "technology"
        ],
        [
         "Ad469118",
         "What Are Hall Effect Sensors and How Do They Work? (2024)",
         "https://www.wired.com/story/what-is-hall-effect/",
         "More and more keyboards and video game controllers employ Hall effect sensors, but what exactly is this technology? We break it down.",
         "technology"
        ],
        [
         "Ad469118",
         "Gary Lineker steps down as Sports Personality host",
         "https://www.bbc.com/news/articles/cvg4888xj06o",
         "The news comes a day after confirmation that he will leave the BBC's Match of the Day.",
         "sports"
        ],
        [
         "Ad469118",
         "Meta’s mixed-reality attempt at a Wii Sports knockoff is coming",
         "https://www.theverge.com/2024/11/25/24305847/meta-quest-home-sports-vr-mr-tennis-bowling-hockey-game",
         "Home Sports is a cartoonish collection of games like bowling, badminton, and mini-golf, that can be played on Meta’s Quest 3 and 3S headsets.",
         "sports"
        ],
        [
         "Ad469118",
         "Canada Is Doing Its Own Extremely Weird TikTok Ban",
         "https://gizmodo.com/now-canada-is-doing-its-own-extremely-weird-tiktok-ban-2000521585",
         "Canada wants TikTok's parent company to stop doing business in Canada.",
         "Business"
        ],
        [
         "Ad469118",
         "Here’s Wassup With That Scary Movie Reboot",
         "https://gizmodo.com/scary-movie-reboot-wayans-brothers-2000518013",
         "After a tease earlier this year, it's official: the Wayans Brothers are back in the horror parody business.",
         "entertainment"
        ],
        [
         "Ad469118",
         "Stolen cheddar might be heading to Russia, supplier tells BBC",
         "https://www.bbc.com/news/articles/c5ygw9ye90po",
         "A supplier of cheese stolen in a £300,000 scam said the business was based on trust.",
         "Business"
        ],
        [
         "Ad469118",
         "Meet the couple with 900 sheep but no farm",
         "https://www.bbc.com/news/articles/c0kjkev241mo",
         "Sam and Samantha Edwards run a successful livestock business but do not have a farm tenancy.",
         "Business"
        ],
        [
         "Ad469118",
         "Canada Is Doing Its Own Extremely Weird TikTok Ban",
         "https://gizmodo.com/now-canada-is-doing-its-own-extremely-weird-tiktok-ban-2000521585",
         "Canada wants TikTok's parent company to stop doing business in Canada.",
         "Business"
        ],
        [
         "Ad469118",
         "Standing Desks Are Better for Your Health—but Still Not Enough",
         "https://www.wired.com/story/standing-desk-health-benefits/",
         "Two recent studies offer some of the most nuanced evidence yet about the potential benefits and risks of working on your feet.",
         "health"
        ],
        [
         "Ad469118",
         "Pay offer being considered by health unions",
         "https://www.bbc.com/news/articles/c7041zvxrdgo",
         "BBC News NI understands a pay award backdated to this August is currently being considered by union reps.",
         "Business"
        ],
        [
         "Ad469118",
         "Standing Desks Are Better for Your Health—but Still Not Enough",
         "https://www.wired.com/story/standing-desk-health-benefits/",
         "Two recent studies offer some of the most nuanced evidence yet about the potential benefits and risks of working on your feet.",
         "health"
        ],
        [
         "Ad469118",
         "AirPods Pro 2 Hearing Health Features Hands-On",
         "https://gizmodo.com/airpods-pro-2-hearing-health-features-hands-on-2000519730",
         "The Apple AirPods Pro 2 hearing health features are finally live. Here's how to accessing the features as well as some troubleshooting tips, and what the results mean.",
         "technology"
        ],
        [
         "SU606820",
         "Everything You Need to Know About Apple Intelligence",
         "https://www.macrumors.com/guide/apple-intelligence/",
         "Apple Intelligence is what Apple is calling its artificial intelligence feature set, previewed at WWDC in June 2024. The first Apple Intelligence features launched with iOS 18.1, iPadOS 18.1, and macOS Sequoia 15.1, but this is only an initial taste of what A…",
         "technology"
        ],
        [
         "SU606820",
         "Everything in Ultra-High-Def",
         "https://time.com/7094592/samsung-neo-qled-8k-tv/",
         "Old classics shown in standard- or high-definition can look not so great on today’s ultra-high definition televisions. So Samsung is putting AI to the task in its Neo QLED 8K TV, also called the QN900D. A built-in processor helps power an upscaling algorithm …",
         "technology"
        ],
        [
         "SU606820",
         "Winter Storm Cheat Sheet: Experts Tips On Protecting Your Home",
         "https://www.cnet.com/home/winter-storm-cheat-sheet-experts-tips-on-protecting-your-home/",
         "As winter blizzards bring snow and ice, here's everything you need to know about protecting your house from the cold.",
         "General"
        ],
        [
         "SU606820",
         "Bills vs. Seahawks Livestream: How to Watch NFL Week 8 Online Today",
         "https://www.cnet.com/tech/services-and-software/bills-vs-seahawks-livestream-how-to-watch-nfl-week-8-online-today/",
         "Want to watch Buffalo play Seattle? Here's everything you need to stream Sunday's 1:05 p.m. PT game on Fox.",
         "sports"
        ],
        [
         "SU606820",
         "Colts 'evaluating everything'; Richardson still QB1",
         "https://www.espn.com/nfl/story/_/id/42057121/colts-evaluating-everything-amid-anthony-richardson-struggles",
         "Colts coach Shane Steichen said he's \"evaluating everything\" amid Anthony Richardson's struggles, but said the QB's decision to rest for a play won't be a factor.",
         "General"
        ],
        [
         "SU606820",
         "Everything Ariana Grande has worn this year, ranked from worst to best",
         "https://www.businessinsider.com/ariana-grande-outfits-ranked-worst-to-best-2024-11",
         "Ariana Grande has been traveling around the world while promoting \"Wicked.\" For each appearance, she's worn one showstopping outfit after another.",
         "entertainment"
        ],
        [
         "SU606820",
         "Alexa at 10: Amazon’s assistant is a winner and a failure",
         "https://www.theverge.com/2024/11/5/24288352/amazon-alexa-anniversary-ai-llm-assistant-vergecast",
         "Amazon’s Echo launched in 2014, and since then has helped create a voice-first revolution. But as AI takes over, the questions remain about what these devices are for.",
         "technology"
        ],
        [
         "SU606820",
         "Ready to Join Bluesky? Here's How to Get Started",
         "https://www.cnet.com/tech/services-and-software/ready-to-join-bluesky-heres-how-to-get-started/",
         "The alternative social network Bluesky is blowing up right now. Here's everything you need to know about posting, following, custom algorithmic feeds and moderation.",
         "technology"
        ],
        [
         "SU606820",
         "Cheat sheet: How RFK Jr., Trump's pick for HHS secretary, promises to 'Make America Healthy Again'",
         "https://www.businessinsider.com/how-rfk-jr-plans-to-make-america-healthy-again-2024-11",
         "Robert F. Kennedy Jr. has promised to \"make America healthy again.\" But what does that actually mean? Here's everything he promises to do.",
         "health"
        ],
        [
         "SU606820",
         "13 Best Housewarming Gifts for Any New Home",
         "https://www.wired.com/gallery/best-housewarming-gifts-for-any-new-home/",
         "Make a house into a home with these gifts, whether they're moving into their first house or a great new apartment.",
         "General"
        ],
        [
         "SU606820",
         "27 Great Gifts for Mom: Ideas for the Best Mother (2024)",
         "https://www.wired.com/gallery/gifts-for-moms/",
         "Whether you're shopping for Mother's Day gifts, birthday gifts for Mom, or any special occasion, these WIRED-tested picks will not disappoint.",
         "General"
        ],
        [
         "SU606820",
         "Reddit is becoming the new Google",
         "https://www.businessinsider.com/reddit-google-search-ceo-steve-huffman-2024-10",
         "Reddit CEO Steve Huffman says more people are coming to the site for search as they learn it has is 'everything you're looking for'",
         "technology"
        ],
        [
         "SU606820",
         "Today's NYT Connections: Sports Edition Hints and Answers for Nov. 26, #64",
         "https://www.cnet.com/tech/gaming/todays-nyt-connections-sports-edition-hints-and-answers-for-nov-26-64/",
         "Here's today's Connections: Sports Edition answer and hints for groups. These clues will help you solve The New York Times' popular puzzle game, Connections: Sports Edition, every day.",
         "entertainment"
        ],
        [
         "SU606820",
         "Today's NYT Connections: Sports Edition Hints and Answers for Nov. 15, #53",
         "https://www.cnet.com/tech/gaming/todays-nyt-connections-sports-edition-hints-and-answers-for-nov-15-53/",
         "Here's today's Connections: Sports Edition answer and hints for groups. These clues will help you solve The New York Times' popular puzzle game, Connections: Sports Edition, every day.",
         "entertainment"
        ],
        [
         "SU606820",
         "NBA settles with WBD as it prepares to stream games on Amazon in 2025",
         "https://www.theverge.com/2024/11/18/24299485/nba-wbd-max-sports-live-streaming-amazon-2025",
         "Warner Bros. Discovery will settle its lawsuit against the NBA as it reaches a new deal that moves Inside the NBA to ESPN next year.",
         "sports"
        ],
        [
         "SU606820",
         "Clearly Hard Up for Cash, Nvidia to Limit GeForce Now Users to 100 Hours of Playtime a Month",
         "https://gizmodo.com/clearly-hard-up-for-cash-nvidia-to-limit-geforce-now-users-to-100-hours-of-playtime-a-month-2000521590",
         "That comes out to about 3 hours of usage per day.",
         "General"
        ],
        [
         "SU606820",
         "Steam’s built-in game recording is now available to all",
         "https://www.theverge.com/2024/11/5/24289138/steam-game-recording-now-available-all-users",
         "Steam’s built-in game recording feature gives players a way to record their gaming sessions without jumping into a different third-party app.",
         "technology"
        ],
        [
         "SU606820",
         "Linda McMahon's professional qualifications as Trump's choice for Dept. of Education",
         "https://abcnews.go.com/Politics/linda-mcmahons-background-trumps-pick-education-secretary/story?id=116058197",
         "Linda McMahon's background -- in both education and as a co-founder of sports entertainment company World Wrestling Entertainment, Inc. -- has come under scrutiny.",
         "sports"
        ],
        [
         "SU606820",
         "Riot’s Co-Founder Defends Arcane‘s Massive Budget",
         "https://gizmodo.com/arcane-season-2-budget-riot-league-of-legends-netflix-2000525834",
         "Marc Merrill says recent discussion around Arcane's budget is actually complaining about Riot Games \"paying talent\" and \"putting art first\".",
         "General"
        ],
        [
         "SU606820",
         "Better Than a Chromebook, This Acer Laptop With Windows 11 Is Now Just $279 For Black Friday",
         "https://gizmodo.com/better-than-a-chromebook-this-acer-laptop-with-windows-11-is-now-just-279-for-black-friday-2000529636",
         "It's a great laptop for web browsing, word processing and light multi-tasking",
         "technology"
        ],
        [
         "SU606820",
         "Sony Finally Turns the PlayStation Portal Into the Handheld Streamer We Always Wanted",
         "https://gizmodo.com/playstation-portal-handheld-streamer-2000526956",
         "But the PlayStation Portal won’t stream any PS4 or PS3 games, nor any PS5 game you bought from the PlayStation Store.",
         "technology"
        ],
        [
         "PA285472",
         "I had good intentions - Letby safeguarding boss",
         "https://www.bbc.com/news/articles/cr4lvqk6d9qo",
         "Former director of nursing Alison Kelly acknowledges she \"didn’t get everything right at the time\".",
         "health"
        ],
        [
         "PA285472",
         "'Everything a manager could wish for' - Guardiola signs new deal",
         "https://www.bbc.com/sport/football/articles/czxv2e3r1dgo",
         "Manchester City manager Pep Guardiola signs a two-year contract extension to keep him at the club until 2027.",
         "sports"
        ],
        [
         "PA285472",
         "This Little Gadget Is the Best Way I've Found to Control My Philips Hue Lights",
         "https://www.cnet.com/deals/this-little-gadget-is-the-best-way-ive-found-to-control-my-philips-hue-lights/",
         "Once you see everything this little puck can do, you'll want one too.",
         "entertainment"
        ],
        [
         "PA285472",
         "Here's everything Garmin added to its smartwatches in the December 2024 update",
         "https://www.androidcentral.com/wearables/heres-everything-garmin-added-to-its-smartwatches-in-the-december-2024-update",
         "Lactate threshold auto-detection, functional threshold power, and more are coming to select Garmin watches.",
         "technology"
        ],
        [
         "PA285472",
         "We Break Down the Internet’s Future Under Trump 2.0",
         "https://www.wired.com/story/the-internets-future-under-donald-trump/",
         "WIRED global editorial director Katie Drummond joins this week to discuss what the fragmented internet did for the Trump campaign, and what the incoming Trump administration means for the internet.",
         "technology"
        ],
        [
         "PA285472",
         "General Motors Says It’s Pulling Cruise Out of the Robotaxi Business",
         "https://gizmodo.com/general-motors-says-its-pulling-cruise-out-of-the-robotaxi-business-2000537015",
         "The company had invested billions into the self-driving car company.",
         "technology"
        ],
        [
         "PA285472",
         "Every kind of F-35 has now seen combat after a carrier-based stealth fighter struck the Houthis",
         "https://www.businessinsider.com/f-35-variants-seen-combat-after-fighter-struck-houthis-2024-11",
         "A US defense official told Business Insider that the F-35C made its first operational combat flight last weekend.",
         "Business"
        ],
        [
         "PA285472",
         "Black Friday Chromebook deals 2024 — score major savings on Acer, Lenovo, Samsung, and more",
         "https://www.androidcentral.com/chromebooks-laptops/black-friday-chromebook-deals-2024-score-major-savings-on-acer-lenovo-samsung-and-more",
         "Whether you're looking for a business solution or a couch companion, these are the best Chromebook deals of Black Friday 2024.",
         "technology"
        ],
        [
         "PA285472",
         "On a work trip, my kids ended up in the hospital while I had a stomach bug. It proved I'm stronger than I thought.",
         "https://www.businessinsider.com/working-mom-kids-hospitalized-on-business-trip-2024-12",
         "I brought my kids on a business trip to learn about a new place. I didn't expect them to both end up in the hospital.",
         "Business"
        ],
        [
         "PA285472",
         "Post Office jobs and branches at risk in shake-up",
         "https://www.bbc.com/news/articles/cx24028d2dwo",
         "Hundreds of head office workers are facing cuts and loss-making branches are under threat of closure.",
         "Business"
        ],
        [
         "PA285472",
         "Inside 'Project Black Walnut' that sheds light on how Google thinks about Apple's ad business",
         "https://www.businessinsider.com/google-apple-ads-project-black-walnut-2024-11",
         "The newly surfaced report appears to have been assembled by Google strategists to try to imagine what kind of ad business Apple might build out.",
         "technology"
        ],
        [
         "PA285472",
         "The founder of Shake Shack says there's a limit to how many times you should say 'yes' to the customer",
         "https://www.businessinsider.com/shake-shack-founder-danny-meyer-limit-saying-yes-to-customer-2024-12",
         "Danny Meyer said too much customization may not work in the favor of the business, referencing the many \"permutations\" of coffee at Starbucks.",
         "Business"
        ],
        [
         "PA285472",
         "I tried Dolly Parton's new mac and cheese recipe. It's the perfect Thanksgiving comfort dish.",
         "https://www.businessinsider.com/dolly-parton-mac-and-cheese-thanksgiving-2024-11",
         "Dolly Parton told Business Insider that she loves making mac and cheese. Her Thanksgiving recipe features three different types of cheese.",
         "Business"
        ],
        [
         "PA285472",
         "DOGE aims to cut the number of federal workers. Here are the 20 highest-paying government jobs.",
         "https://www.businessinsider.com/highest-paying-federal-government-jobs-salaries-employment-elon-musk-doge-2024-11",
         "Federal workers are at risk of losing their jobs under Musk's DOGE. Business Insider looked at which jobs have the highest average salaries.",
         "Business"
        ],
        [
         "PA285472",
         "I spent over $10K on a business coach who told me I was 'messy' and made me doubt myself. Here's my advice if you're considering coaching.",
         "https://www.businessinsider.com/business-coach-self-doubt-tips-finding-right-fit-2024-12",
         "Alejandra Roja spend over $10,000 on a business coach who was a bad fit for Roja's needs when she was just starting her journey as an entrepreneur.",
         "Business"
        ],
        [
         "PA285472",
         "Why CEOs Are Cheering Donald Trump’s Pick for Treasury Secretary",
         "https://time.com/7178829/why-ceos-are-cheering-donald-trump-bessent-pick-for-treasury-secretary/",
         "The business community expects Bessent to work closely with business leaders, as well as policymakers from both sides of the aisle.",
         "Business"
        ],
        [
         "PA285472",
         "The biggest news from Amazon re:Invent 2024",
         "https://venturebeat.com/ai/the-biggest-news-from-amazon-reinvent-2024/",
         "The most important news for business leaders and those looking to embrace and deploy the latest, most useful AWS technology.",
         "technology"
        ],
        [
         "PA285472",
         "‘An act of rebellion’: Haitian theatre persists amid political crisis and violence",
         "https://www.yahoo.com/news/act-rebellion-haitian-theatre-persists-100052707.html",
         "Thespians recognize continuing to rehearse is a perilous business – but they are determined to fight on",
         "Business"
        ],
        [
         "PA285472",
         "Dr Disrespect veers right into Rumble",
         "https://www.theverge.com/2024/11/25/24305606/dr-disrespect-rumble-streaming-youtube-twitch",
         "Dr Disrespect has found a new home on the right-wing streaming platform Rumble after his ban from Twitch and de-monetization on YouTube.",
         "technology"
        ],
        [
         "PA285472",
         "Bitcoin ATM Security Breach Compromised Social Security Numbers and Government IDs",
         "https://gizmodo.com/bitcoin-atm-security-breach-comprised-customers-price-of-bitcoin-2000537845",
         "Byte Federal operates 1,200 Bitcoin ATMs in the U.S. A data breach comprised 58,000 customer's information.",
         "technology"
        ],
        [
         "PA285472",
         "'I don't know how we'll survive': War-damaged Lebanese businesses face the unknown",
         "https://www.bbc.com/news/articles/cdd64v77491o",
         "Traders and shop-owners lost their livelihoods as a result of destruction from Israeli attacks.",
         "Business"
        ],
        [
         "PA285472",
         "Open Source, Forced Innovation, and Making Good Products",
         "https://hackaday.com/2024/11/23/open-source-forced-innovation-and-making-good-products/",
         "The open-source hardware business landscape is no doubt a tough one, but is it actually tougher than for closed-source hardware? That question has been on our minds since the announcement …read more",
         "Business"
        ],
        [
         "PA285472",
         "Google will let you make AI clip art for your documents",
         "https://www.theverge.com/2024/11/15/24297524/google-docs-gemini-ai-image-generator-clip-art",
         "Google Docs is getting a Gemini AI-powered image generator sidebar that makes clip art-style images using the Imagen 3 model.",
         "technology"
        ],
        [
         "PA285472",
         "Amazon's pharmacy business is expected to reach $2 billion in sales as shopper interest skyrockets, a top analyst says",
         "https://www.businessinsider.com/amazon-to-reach-2-billion-pharma-sales-rising-customer-interest-2024-12",
         "Amazon Pharmacy is on track for $2 billion in sales, with consumer interest rising sharply.",
         "technology"
        ],
        [
         "PA285472",
         "Three injured in Palm Desert crash after sheriff's deputies chase suspected thieves",
         "https://www.desertsun.com/story/news/crime_courts/2024/11/25/three-injured-in-crash-after-pursuit-of-suspected-thieves-in-palm-desert/76576759007/",
         "The chase came after Riverside County deputies were dispatched to a business in the 72-000 block of Highway 111 in Palm Desert regarding a theft.",
         "Business"
        ],
        [
         "PA285472",
         "We Break Down the Internet’s Future Under Trump 2.0",
         "https://www.wired.com/story/the-internets-future-under-donald-trump/",
         "WIRED global editorial director Katie Drummond joins this week to discuss what the fragmented internet did for the Trump campaign, and what the incoming Trump administration means for the internet.",
         "technology"
        ]
       ],
       "datasetInfos": [],
       "dbfsResultPath": null,
       "isJsonSchema": true,
       "metadata": {},
       "overflow": false,
       "plotOptions": {
        "customPlotOptions": {},
        "displayType": "table",
        "pivotAggregation": null,
        "pivotColumns": null,
        "xColumns": null,
        "yColumns": null
       },
       "removedWidgets": [],
       "schema": [
        {
         "metadata": "{}",
         "name": "UserID",
         "type": "\"string\""
        },
        {
         "metadata": "{}",
         "name": "Title",
         "type": "\"string\""
        },
        {
         "metadata": "{}",
         "name": "URL",
         "type": "\"string\""
        },
        {
         "metadata": "{}",
         "name": "Description",
         "type": "\"string\""
        },
        {
         "metadata": "{}",
         "name": "Genre",
         "type": "\"string\""
        }
       ],
       "type": "table"
      }
     },
     "output_type": "display_data"
    }
   ],
   "source": [
    "users_data.show()"
   ]
  },
  {
   "cell_type": "code",
   "execution_count": null,
   "metadata": {
    "application/vnd.databricks.v1+cell": {
     "cellMetadata": {
      "byteLimit": 2048000,
      "rowLimit": 10000
     },
     "inputWidgets": {},
     "nuid": "1a4bb9d0-2d05-48bb-92b0-14e09307465b",
     "showTitle": false,
     "tableResultSettingsMap": {},
     "title": ""
    }
   },
   "outputs": [],
   "source": [
    "#pip install feedparser"
   ]
  },
  {
   "cell_type": "code",
   "execution_count": null,
   "metadata": {
    "application/vnd.databricks.v1+cell": {
     "cellMetadata": {
      "byteLimit": 2048000,
      "rowLimit": 10000
     },
     "inputWidgets": {},
     "nuid": "99a4390f-e5ff-4116-862c-4a4e948e8438",
     "showTitle": false,
     "tableResultSettingsMap": {},
     "title": ""
    }
   },
   "outputs": [
    {
     "name": "stdout",
     "output_type": "stream",
     "text": [
      "                                        articleTitle  ...                                         articleUrl\n",
      "0  Nato must switch to a wartime mindset, warns s...  ...     https://www.bbc.com/news/articles/cly41x7eg71o\n",
      "1  Who is Pam Bondi, Trump's nominee for attorney...  ...     https://www.bbc.com/news/articles/c079y0r1j8po\n",
      "2  Dozens of states ask Congress to un-doom the K...  ...  https://www.theverge.com/2024/11/18/24299941/s...\n",
      "3  General Motors Says It’s Pulling Cruise Out of...  ...  https://gizmodo.com/general-motors-says-its-pu...\n",
      "4   Matt Gaetz Hates Big Tech (That’s the Good News)  ...  https://gizmodo.com/matt-gaetz-hates-big-tech-...\n",
      "\n",
      "[5 rows x 5 columns]\n"
     ]
    }
   ],
   "source": [
    "import requests\n",
    "import feedparser\n",
    "from pyspark.sql import SparkSession\n",
    "from bs4 import BeautifulSoup\n",
    "from sklearn.feature_extraction.text import TfidfVectorizer\n",
    "from sklearn.metrics.pairwise import cosine_similarity\n",
    "\n",
    "# Initialize Spark session\n",
    "spark = SparkSession.builder.appName(\"NewsArticles\").getOrCreate()\n",
    "\n",
    "# Fetch articles from NewsAPI\n",
    "def fetch_articles_from_newsapi(api_key, query=\"latest\", page_size=100, page=1):\n",
    "    url = f\"https://newsapi.org/v2/everything?q={query}&pageSize={page_size}&page={page}&apiKey={api_key}\"\n",
    "    response = requests.get(url)\n",
    "    data = response.json()\n",
    "    \n",
    "    articles = []\n",
    "    for article in data.get(\"articles\", []):  # Ensure 'articles' exists in the response\n",
    "        articles.append({\n",
    "            \"articleTitle\": article.get(\"title\", \"\") or \"\",\n",
    "            \"description\": article.get(\"description\", \"\") or \"\",\n",
    "            \"genre\": query,\n",
    "            \"articleImage\": article.get(\"urlToImage\", \"\"),\n",
    "            \"articleUrl\": article[\"url\"]\n",
    "        })\n",
    "    return articles\n",
    "\n",
    "# Combine articles from multiple sources\n",
    "def fetch_global_articles():\n",
    "    # Define different categories/queries for news\n",
    "    categories = [\"general\", \"sports\", \"technology\", \"health\", \"entertainment\", \"business\", \"science\"]\n",
    "    global_articles = []\n",
    "\n",
    "    # Loop over each category to fetch articles\n",
    "    for category in categories:\n",
    "        for i in range(1, 6):  # Fetch 5 pages for each category\n",
    "            newsapi_articles = fetch_articles_from_newsapi(\n",
    "                api_key=\"\", query=category, page_size=20, page=i   ## use your  api keys\n",
    "            )\n",
    "            global_articles.extend(newsapi_articles)\n",
    "\n",
    "    return global_articles\n",
    "\n",
    "# Get real-time global article pool\n",
    "global_article_pool = fetch_global_articles()\n",
    "\n",
    "# Convert to Spark DataFrame\n",
    "global_article_pool_df = spark.createDataFrame(global_article_pool)\n",
    "\n",
    "# Show the DataFrame with articles\n",
    "global_article_pool_df.show()\n"
   ]
  },
  {
   "cell_type": "code",
   "execution_count": null,
   "metadata": {
    "application/vnd.databricks.v1+cell": {
     "cellMetadata": {
      "byteLimit": 2048000,
      "rowLimit": 10000
     },
     "inputWidgets": {},
     "nuid": "76266bf2-9201-4535-94af-d19b61547cf0",
     "showTitle": false,
     "tableResultSettingsMap": {},
     "title": ""
    }
   },
   "outputs": [
    {
     "data": {
      "text/html": [
       "<style scoped>\n",
       "  .table-result-container {\n",
       "    max-height: 300px;\n",
       "    overflow: auto;\n",
       "  }\n",
       "  table, th, td {\n",
       "    border: 1px solid black;\n",
       "    border-collapse: collapse;\n",
       "  }\n",
       "  th, td {\n",
       "    padding: 5px;\n",
       "  }\n",
       "  th {\n",
       "    text-align: left;\n",
       "  }\n",
       "</style><div class='table-result-container'><table class='table-result'><thead style='background-color: white'><tr><th>UserID</th><th>articleImage</th><th>articleTitle</th><th>articleUrl</th><th>description</th><th>genre</th></tr></thead><tbody><tr><td>AD550951</td><td>https://media.wired.com/photos/67069550cb5bb55be44eb19e/191:100/w_1280,c_limit/100924_Stem%20Cell%20Harvesting-1.jpg</td><td>Bone Marrow Donors Can Be Hard to Find. One Company Is Turning to Cadavers</td><td>https://www.wired.com/story/stem-cell-donation-deceased-ossium-bone-marrow-cancer-leukemia/</td><td>San Francisco–based Ossium Health has carried out three transplants for cancer patients using stem cells from deceased donors’ blood marrow in recent months.</td><td>health</td></tr><tr><td>AD550951</td><td>https://ichef.bbci.co.uk/news/1024/branded_news/33d2/live/c76fa200-a1b1-11ef-897a-cfb3ce396193.jpg</td><td>One in three T-level students drop out of health course</td><td>https://www.bbc.com/news/articles/cy4g04j1l9xo</td><td>Many health and science T-level students dropped out after an exam board sent out botched exam papers in 2022.</td><td>health</td></tr><tr><td>AD550951</td><td>https://gizmodo.com/app/uploads/2024/12/Charles-ORear.jpg</td><td>Formaldehyde Causes More Cancer Than Any Other Toxic Air Pollutant. Little Is Being Done to Curb the Risk</td><td>https://gizmodo.com/formaldehyde-causes-more-cancer-than-any-other-toxic-air-pollutant-little-is-being-done-to-curb-the-risk-2000535569</td><td>Companies use formaldehyde for everything from making furniture to sterilizing food. Industry has repeatedly thwarted government efforts to limit its health risks.</td><td>health</td></tr><tr><td>AD550951</td><td>https://gizmodo.com/app/uploads/2024/11/singulair-montelukast.jpg</td><td>A Popular Asthma Drug May Be Causing Brain Damage</td><td>https://gizmodo.com/a-popular-asthma-drug-may-be-causing-brain-damage-2000529453</td><td>New data collected by the FDA has found that montelukast can bind to brain cells, which may explain the risk of mental health adverse effects linked to its use.</td><td>health</td></tr><tr><td>AD550951</td><td>https://i.insider.com/6759d75a52dd0818d1a67aa6?width=1200&format=jpeg</td><td>The CEO using AI to fight insurance claim denials says he wants to remove the 'fearfulness' around getting sick</td><td>https://www.businessinsider.com/ai-claim-startup-ceo-appeals-productive-for-pushing-change-2024-12</td><td>Claimable has helped patients file hundreds of health insurance appeals. Its CEO says its success rate of overturning denials is around 85%.</td><td>health</td></tr><tr><td>AD550951</td><td>null</td><td>Meta wants its Llama AI in Britain’s public healthcare system</td><td>https://consent.yahoo.com/v2/collectConsent?sessionId=1_cc-session_b19bd6f4-2654-465b-abec-7e69582cd26b</td><td>Meta is making a pitch to get its AI into the UK’s public health system. The Guardian reported on Tuesday that the company held a hackathon in Europe, tasking over 200 developers to use its Llama AI to improve the country’s health services. The company awarde…</td><td>health</td></tr><tr><td>AD550951</td><td>https://npr.brightspotcdn.com/dims3/default/strip/false/crop/4032x2268+0+336/resize/1400/quality/100/format/jpeg/?url=http%3A%2F%2Fnpr-brightspot.s3.amazonaws.com%2F31%2F38%2Ffb4bff564c80838de612589dfb3d%2Fmangione-presser-12092024.jpg</td><td>A suspect is charged with murder in the health care CEO shooting: Here is the latest</td><td>https://www.npr.org/2024/12/10/nx-s1-5223302/latest-unitedhealthcare-ceo-shooting-case</td><td>Luigi Mangione, 26, was arrested and charged with murder on Monday. He was found at a McDonald's in Pennsylvania, but is expected to be extradited to New York.</td><td>health</td></tr><tr><td>AD550951</td><td>https://ichef.bbci.co.uk/news/1024/branded_news/4935/live/dfc3e690-9f81-11ef-a78a-cf70d1c044ad.jpg</td><td>'My autistic son is like a prisoner in hospital'</td><td>https://www.bbc.com/news/articles/cd7n5p1x801o</td><td>Sebastian has been deemed fit for discharge but the 19-year-old has nowhere suitable to go.</td><td>health</td></tr><tr><td>AD550951</td><td>https://ichef.bbci.co.uk/news/1024/branded_news/41a0/live/c9f44df0-b6e2-11ef-8b34-156b65e86dfb.jpg</td><td>Health to get £600m boost in Welsh budget</td><td>https://www.bbc.com/news/articles/cy53nk65py4o</td><td>All Welsh government departments to be offered more cash from April under budget plans.</td><td>health</td></tr><tr><td>AD550951</td><td>https://www.cnet.com/a/img/resize/13fff2dec863411e9cc7f88a6af1f9413bf595f9/hub/2022/11/15/cc9fbb80-f2e0-4820-95d1-3dcf0b8d2f76/gettyimages-1351151107.jpg?auto=webp&fit=crop&height=675&width=1200</td><td>Prioritize Your Mental Health and Nutrition This Thanksgiving With These Tips</td><td>https://www.cnet.com/health/nutrition/prioritize-your-mental-health-and-nutrition-this-thanksgiving-with-these-tips/</td><td>The holidays can trigger hard feelings. Here's some important tips to manage stress, eat mindfully and get active for your overall wellness.</td><td>health</td></tr><tr><td>AD550951</td><td>https://gizmodo.com/app/uploads/2024/11/A-laboratory-worker.jpg</td><td>Life Extension Could Be a Threat to Human Existence</td><td>https://gizmodo.com/life-extension-could-be-a-threat-to-human-existence-2000529903</td><td>Would higher taxes on Earth's elite be more beneficial to the global population's health than all the life-extension science Bezos billions can fund?</td><td>health</td></tr><tr><td>AD550951</td><td>https://ichef.bbci.co.uk/news/1024/branded_news/4a6e/live/9fe2dfe0-a10c-11ef-9d70-9564a3cc52f2.jpg</td><td>Number of homeless people in Wales at record high</td><td>https://www.bbc.com/news/articles/cm27e2gn515o</td><td>Charmaine, 38, has been waiting to move for two years and it is affecting her mental health.</td><td>health</td></tr><tr><td>AD550951</td><td>https://ichef.bbci.co.uk/news/1024/branded_news/ef40/live/435356d0-a82b-11ef-9c9f-85cfc89e7be6.jpg</td><td>Can RFK Jr make America's diet healthy again?</td><td>https://www.bbc.com/news/articles/cze391y17z7o</td><td>Kennedy's plans to ban dyes in cereals and fluoride in water could get major pushback from the food industry.</td><td>health</td></tr><tr><td>AD550951</td><td>https://gizmodo.com/app/uploads/2024/11/GalaxyWatchUltra.jpg</td><td>Samsung Goes All Out For Black Friday: The Galaxy Watch Ultra Is Now 63% Off on The Official Store</td><td>https://gizmodo.com/samsung-goes-all-out-for-black-friday-the-galaxy-watch-ultra-is-now-63-off-on-the-official-store-2000528124</td><td>This is the record price for the luxury smartwatch by Samsung.</td><td>health</td></tr><tr><td>AD550951</td><td>https://www.cnet.com/a/img/resize/63d7a9dc6512546817199aaf6833b54e306321f0/hub/2024/12/02/eb7c21ba-f9ee-41a8-96a7-c1b1bb1a2153/gettyimages-872323824.jpg?auto=webp&fit=crop&height=675&width=1200</td><td>Try These New Year's Resolutions if You Have Anxiety</td><td>https://www.cnet.com/health/mental/try-these-new-years-resolutions-if-you-have-anxiety/</td><td>Making unrealistic New Year's resolutions can be detrimental to your mental health. Here's how to do it right for a calmer 2025.</td><td>health</td></tr><tr><td>AD550951</td><td>https://ichef.bbci.co.uk/news/1024/branded_news/9c44/live/21742570-b655-11ef-b91c-592d64941fec.jpg</td><td>Three-year health plan includes 'good deal' on staff pay</td><td>https://www.bbc.com/news/articles/c07gkr88e1po</td><td>The minister said the pace of progress would be heavily influenced by future budget settlements.</td><td>health</td></tr><tr><td>AD550951</td><td>https://ichef.bbci.co.uk/news/1024/branded_news/a717/live/c6fe43e0-b15a-11ef-aff0-072ce821b6ab.png</td><td>Puberty blockers: Can a drug trial solve one of medicine's most controversial debates?</td><td>https://www.bbc.com/news/articles/clyd2qe5kkjo</td><td>The government has pledged to determine the evidence - and establish whether the benefits outweigh any potential harms of prescribing puberty blockers to children questioning their gender</td><td>health</td></tr><tr><td>AD550951</td><td>https://media.wired.com/photos/67533fd395028f36d6cdc70d/191:100/w_1280,c_limit/DRC-Outbreak-Congo-Science-2166689518.jpg</td><td>A Mysterious Respiratory Disease Has the Democratic Republic of the Congo on High Alert</td><td>https://www.wired.com/story/drc-mysterious-respiratory-disease-children-who-africa/</td><td>The WHO has sent epidemiologists to the country to uncover the cause of the illness, which has killed more than 70 people, half of them children.</td><td>health</td></tr><tr><td>AD550951</td><td>https://ichef.bbci.co.uk/news/1024/branded_news/3e69/live/2cef6190-ad71-11ef-967f-cbb1965d6a73.jpg</td><td>Angry doctors owed thousands refuse to work</td><td>https://www.bbc.com/news/articles/cz6jy7d0wjzo</td><td>There are concerns about staffing and supply shortages at GP surgeries linked to a management company.</td><td>health</td></tr><tr><td>AD550951</td><td>https://gizmodo.com/app/uploads/2024/11/Trump-RFK-1.jpg</td><td>How Trump’s Second Term Could Shape the Future of Health in America</td><td>https://gizmodo.com/how-trumps-second-term-could-shape-the-future-of-health-in-america-2000528082</td><td>We asked a health law expert about what to expect in the coming years: \"It is critical that people exercise good judgment in the sources of their information to protect themselves.\"</td><td>health</td></tr><tr><td>AD550951</td><td>https://ichef.bbci.co.uk/news/1024/branded_news/cd4e/live/e10b0380-b1bf-11ef-8613-eb846c2a010c.jpg</td><td>Hospice leaders warn hundreds of beds out of use</td><td>https://www.bbc.com/news/articles/clykz68zexpo</td><td>A lack of funding and staff are blamed as hospices close beds permanently or take them out of use.</td><td>health</td></tr><tr><td>AD550951</td><td>https://gizmodo.com/app/uploads/2024/12/Gas-pumping.jpg</td><td>Lead Exposure Drove a Hidden Mental Health Crisis in the U.S., Study Reveals</td><td>https://gizmodo.com/lead-exposure-drove-a-hidden-mental-health-crisis-in-the-u-s-study-reveals-2000533663</td><td>New research estimates that lead exposure from gasoline has significantly affected Americans' mental health for the worse during the 20th century.</td><td>health</td></tr><tr><td>AD550951</td><td>https://media.wired.com/photos/67376b6b65503c4b12d0f8a2/191:100/w_1280,c_limit/standing-desks-sci-1383390087.jpg</td><td>Standing Desks Are Better for Your Health—but Still Not Enough</td><td>https://www.wired.com/story/standing-desk-health-benefits/</td><td>Two recent studies offer some of the most nuanced evidence yet about the potential benefits and risks of working on your feet.</td><td>health</td></tr><tr><td>AD550951</td><td>https://media.wired.com/photos/673f5a45cf5823ec26b9d5fc/191:100/w_1280,c_limit/WW25-How-To-VR-Simon-Landrein.jpg</td><td>3 Simple Rules to Beat the Downsides of Aging</td><td>https://www.wired.com/story/three-simple-rules-to-beat-the-downsides-of-aging/</td><td>While we wait for scientists to come up with a miracle pill, we can take matters into our own hands with easy steps to ensure that life in old age isn’t also the end of living well.</td><td>health</td></tr><tr><td>AD550951</td><td>https://www.cnet.com/a/img/resize/83af940d95b1e76acc6f3d172adf1e712ae8fbdc/hub/2023/06/13/2a445a4c-3bf3-452f-aae9-fea82a92cc3c/gettyimages-1148111657.jpg?auto=webp&fit=crop&height=675&width=1200</td><td>10 Super Simple Ways You Can Strengthen Your Eye Health Daily</td><td>https://www.cnet.com/health/personal-care/ways-strengthen-eye-health-daily/</td><td>To protect your eye health and support your vision, these are 10 simple things you can do every day for your eyes.</td><td>health</td></tr><tr><td>AD550951</td><td>https://i.insider.com/673e2500192f525898599dfd?width=1200&format=jpeg</td><td>A FIRE blogger decided to test the benefits of the popular triple-tax advantaged HSA. He explains why it wasn't worth the hassle and wants to switch health insurance plans in 2025.</td><td>https://www.businessinsider.com/financial-independence-blogger-switched-to-hdhp-hsa-health-insurance-plan-2024-11</td><td>Andre Nader switched from an EPO health insurance plan to an HDHP to take advantage of an HSA. Despite the tax benefits, it wasn't worth it for him.</td><td>health</td></tr><tr><td>AD550951</td><td>https://i.insider.com/675308d18fbb2783ed303269?width=1200&format=jpeg</td><td>A health insurance CEO was murdered. The internet lashed out against insurers.</td><td>https://www.businessinsider.com/united-healthcare-brian-thompson-ceo-killing-social-media-rage-insurers-2024-12</td><td>Social media's grim — and revealing — response to the killing of UnitedHealthcare CEO Brian Thompson.</td><td>health</td></tr><tr><td>AD550951</td><td>https://ichef.bbci.co.uk/news/1024/branded_news/c449/live/45b11db0-ab30-11ef-8d14-b38ce06af7f3.jpg</td><td>New cash for job centres in plan to boost workforce</td><td>https://www.bbc.com/news/articles/cqxwv3n87g4o</td><td>The government reveals a £240m investment plan to increase the number of people working in Britain.</td><td>health</td></tr><tr><td>AD550951</td><td>https://npr.brightspotcdn.com/dims3/default/strip/false/crop/7792x4383+0+416/resize/1400/quality/100/format/jpeg/?url=http%3A%2F%2Fnpr-brightspot.s3.amazonaws.com%2Fd0%2F97%2Fff24f3f043c2b15963c6f7ce2b3f%2Fap24340755092282.jpg</td><td>Police are still looking for the suspect in the shooting of the UnitedHealthcare CEO</td><td>https://www.npr.org/2024/12/06/nx-s1-5219927/unitedhealthcare-ceo-shooting-new-york</td><td>The manhunt for the person who fatally shot the head of one of the country's largest health insurers in New York City entered its third day Friday as police parsed newly discovered clues.</td><td>health</td></tr><tr><td>AD550951</td><td>https://cdn.mos.cms.futurecdn.net/43aEDAXBn93UxrSUZ3cJo4-1200-80.jpg</td><td>New research confirms Samsung, Google, and Apple have been wrong all along</td><td>https://www.androidcentral.com/phones/late-2024-led-flicker-research-smartphones</td><td>Your smartphone may be worse for your health than you previously thought, but not every brand is at fault.</td><td>health</td></tr><tr><td>AD550951</td><td>https://i.insider.com/6745ef3d9f2901eb6036ebb7?width=1200&format=jpeg</td><td>A dietitian who wrote a book on ultra-processed foods shares how she includes them in her kids' nutritious diet</td><td>https://www.businessinsider.com/what-to-know-about-feeding-kids-ultra-processed-food-dietitian-2024-11</td><td>Ultra-processed foods can be cheap and convenient, but are linked to health problems. Here's how a dietitian strikes the right balance with her kids.</td><td>health</td></tr><tr><td>AD550951</td><td>https://ichef.bbci.co.uk/news/1024/branded_news/5f01/live/618e0a50-a830-11ef-9c9f-85cfc89e7be6.jpg</td><td>Poorer patients are missing operations, says health chief</td><td>https://www.bbc.com/news/articles/c154yv01jv1o</td><td>Chief executive of the Western Trust Neil Guckian said it was a \"sad indictment of our society\".</td><td>health</td></tr><tr><td>AD550951</td><td>https://media.wired.com/photos/6746346f7249ca1c03468834/191:100/w_1280,c_limit/Tim_Cook_10723_01_0014.jpg</td><td>Tim Cook Wants Apple to Literally Save Your Life</td><td>https://www.wired.com/story/big-interview-tim-cook-wants-apple-to-literally-save-your-life/</td><td>Much as the CEO seems awestruck by AI and his just-released Apple Intelligence, he’s more convinced that the tech giant’s health apps will define the company’s legacy.</td><td>health</td></tr><tr><td>AD550951</td><td>https://ichef.bbci.co.uk/news/1024/branded_news/bd27/live/78ea34e0-9218-11ef-8e6d-e3e64e16c628.jpg</td><td>Burning old TVs to survive: The toxic trade in electrical waste</td><td>https://www.bbc.com/news/articles/c4gvq1rd0geo</td><td>People around the world are extracting valuable materials from e-waste despite huge health risks.</td><td>health</td></tr><tr><td>AD550951</td><td>https://ichef.bbci.co.uk/news/1024/branded_news/e72f/live/e76f2060-b1a3-11ef-9395-615813d4ff0f.jpg</td><td>Doctors call for major incident as hospital 'unsafe'</td><td>https://www.bbc.com/news/articles/c1593v2jqpzo</td><td>Documents show one patient at Glasgow's Queen Elizabeth University Hospital was left in the back of an ambulance for six hours with a fractured hip.</td><td>health</td></tr><tr><td>AD550951</td><td>https://ichef.bbci.co.uk/news/1024/branded_news/15b7/live/da543f60-a73e-11ef-9764-a1d4ef89e504.jpg</td><td>Care home firm fined £50k after woman's death</td><td>https://www.bbc.com/news/articles/cy872ppryp2o</td><td>Mary ‘Pat’ Thompson needed the help of two carers to move but fell while in the care of just one.</td><td>health</td></tr><tr><td>AD550951</td><td>https://gizmodo.com/app/uploads/2024/11/McDonalds-sign.jpg</td><td>The McDonald’s E. Coli Outbreak Was Worse Than We Thought</td><td>https://gizmodo.com/the-mcdonalds-e-coli-outbreak-was-worse-than-we-thought-2000524535</td><td>People in at least 14 states caught a nasty strain of E. coli from tainted onions used in McDonald's Quarter Pounders, though the immediate danger has likely now passed.</td><td>health</td></tr><tr><td>AD550951</td><td>https://www.cnet.com/a/img/resize/3a5924517ad091aa7e37eee9d69c3ed80f571e6c/hub/2024/10/09/c12289f4-0965-43cf-b5b4-a52eadd7c7ad/gettyimages-57319981.jpg?auto=webp&fit=crop&height=675&width=1200</td><td>Affordable Care Act Enrollment Is Open. Learn How, When and Why to Apply</td><td>https://www.cnet.com/personal-finance/insurance/affordable-care-act-enrollment-is-open-learn-how-when-and-why-to-apply/</td><td>Affordable Care Act health insurance -- aka, \"Obamacare\" -- is currently available to all during its open enrollment period.</td><td>health</td></tr><tr><td>AD550951</td><td>https://ichef.bbci.co.uk/news/1024/branded_news/ba3b/live/a86ea4d0-b743-11ef-b631-b5f63aa48be1.jpg</td><td>Increased vet burden creates animal welfare concerns</td><td>https://www.bbc.com/news/articles/c1d34ezvxp2o</td><td>While the number of vets in Wales has increased, the number of pets has at a far higher pace.</td><td>health</td></tr><tr><td>AD550951</td><td>https://i.insider.com/674edf6a9e9761932b4a49bf?width=1200&format=jpeg</td><td>Larry Ellison is investing up to $165 million to turn University of Oxford science research into products</td><td>https://www.businessinsider.com/larry-ellison-invests-university-oxford-research-product-innovation-oracle-2024-12</td><td>Larry Ellison's $165 million Oxford investment aims to transform research into products, in areas including health and clean energy.</td><td>health</td></tr><tr><td>AD550951</td><td>https://ichef.bbci.co.uk/news/1024/branded_news/37e6/live/dde254a0-aa5e-11ef-bdf5-b7cb2fa86e10.jpg</td><td>Young people who refuse to work to lose benefits - minister</td><td>https://www.bbc.com/news/articles/cp35r0v7q95o</td><td>Liz Kendall says young people will have a responsibility to take up new opportunities for \"earning or learning\".</td><td>health</td></tr><tr><td>AD550951</td><td>https://ichef.bbci.co.uk/news/1024/branded_news/c0fc/live/62f8d180-b0ce-11ef-a6ec-dd05787bd0e4.jpg</td><td>Scottish NHS reform 'urgently needed' - watchdog</td><td>https://www.bbc.com/news/articles/c390kw0kv18o</td><td>Audit Scotland says decisions may needed about whether some services can be provided by the NHS.</td><td>health</td></tr><tr><td>AD550951</td><td>https://gizmodo.com/app/uploads/2024/11/garmin-forerunner-255.jpg</td><td>At The Exact Same Time, The Garmin Forerunner 55 And 255 Have Crashed to Record Low Prices</td><td>https://gizmodo.com/at-the-exact-same-time-the-garmin-forerunner-55-and-255-have-crashed-to-record-low-prices-2000529046</td><td>The Forerunner 55 is better suited for casual athletes, while the Forerunner 255 is a top choice for regular enthusiasts.</td><td>health</td></tr><tr><td>AD550951</td><td>https://i.insider.com/675873ac52dd0818d1a63b7e?width=1200&format=jpeg</td><td>How much do health insurance companies spend on executive security? It might be less than you think.</td><td>https://www.businessinsider.com/health-insurance-companies-unitedhealthcare-ceo-security-protection-costs-2024-12</td><td>While some high-profile CEOs have multimillion-dollar protection details, filings for major health insurers show smaller amounts for exec security.</td><td>health</td></tr><tr><td>AD550951</td><td>https://npr.brightspotcdn.com/dims3/default/strip/false/crop/5616x3159+0+0/resize/1400/quality/100/format/jpeg/?url=http%3A%2F%2Fnpr-brightspot.s3.amazonaws.com%2F51%2F49%2F4efa964e4c7faf3a50de4ff2e5d0%2Fgettyimages-2169585871.jpg</td><td>FBI Director to resign. And, UHC CEO killing brings attention to U.S. life expectancy</td><td>https://www.npr.org/2024/12/12/g-s1-37879/up-first-newsletter-fbi-director-christopher-wray-luigi-mangione-health-care-life-expectancy</td><td>Why FBI Director Christopher Wray will step down from the role at the end of Biden's term. And, the UHC CEO killing turns public attention to the U.S. life expectancy and health care.</td><td>health</td></tr><tr><td>AD550951</td><td>https://gizmodo.com/app/uploads/2024/11/garmin-7x-pro-solar.jpg</td><td>The Garmin Fenix 7X Pro Is at a Record Low Price, Now 35% Off on Amazon</td><td>https://gizmodo.com/the-garmin-fenix-7x-pro-is-at-a-record-low-price-now-35-off-on-amazon-2000526063</td><td>It is the ultimate smartwatch for (almost) every sport.</td><td>health</td></tr><tr><td>AD550951</td><td>https://hbr.org/resources/images/article_assets/2024/11/Nov24_14_1688678853_NOGLOBAL.jpg</td><td>When Gig Work Meets Extreme Weather</td><td>https://hbr.org/2024/11/when-gig-work-meets-extreme-weather</td><td>Extreme weather events pose significant challenges for gig couriers, impacting their performance, income and health. Research with one food delivery platform in China showed that heat waves drive up order volumes for couriers, but also cause more delays and h…</td><td>health</td></tr><tr><td>AD550951</td><td>https://ichef.bbci.co.uk/news/1024/branded_news/7718/live/c2797750-ac31-11ef-857a-257cb5d14cdb.jpg</td><td>MPs back plans for phased smoking ban</td><td>https://www.bbc.com/news/articles/cx2lwjrdj1lo</td><td>The legislation would make it illegal for anyone aged 15 or younger to ever buy cigarettes in the UK.</td><td>health</td></tr><tr><td>AD550951</td><td>https://media.wired.com/photos/675a1d247221e9de23255414/191:100/w_1280,c_limit/RFK-JR-Pharma-Science-2182359691.jpg</td><td>RFK Plans to Take on Big Pharma. It’s Easier Said Than Done</td><td>https://www.wired.com/story/rfks-plan-to-take-on-big-pharma/</td><td>Robert F. Kennedy Jr., Donald Trump’s pick to lead the US Department of Health and Human Services, has been vocally anti-pharma. Pharma, Congress, and the courts, though, all get a say.</td><td>health</td></tr><tr><td>AD550951</td><td>https://ichef.bbci.co.uk/news/1024/branded_news/df0d/live/7180cd80-a04c-11ef-8ab9-9192db313061.jpg</td><td>Rugby player, 24, won't return over mental health</td><td>https://www.bbc.com/news/articles/cjw09nxp5j9o</td><td>Harri Morgan took a break from the game he once loved and does not now want to return.</td><td>health</td></tr><tr><td>AD550951</td><td>https://i.insider.com/67534f2c8fbb2783ed305d98?width=1200&format=jpeg</td><td>Some health insurers are removing executive bios from their websites after the fatal shooting of UnitedHealthcare's CEO</td><td>https://www.businessinsider.com/brian-thompson-unitedhealthcare-shooting-health-insurance-companies-remove-ceo-bios-2024-12</td><td>Health insurance companies like Blue Cross Blue Shield have removed executive bios from their websites since the shooting of UnitedHealthcare CEO Brian Thompson.</td><td>health</td></tr><tr><td>AD550951</td><td>https://www.cnet.com/a/img/resize/cc9346c849edafa24ba68c1d3905502e2f8a502b/hub/2024/11/30/3b36a785-5883-4ffa-bc65-cb9fd3aa0ab6/gettyimages-1677819202.jpg?auto=webp&fit=crop&height=675&width=1200</td><td>Hearing More About Bird Flu? Here's Everything to Know About Cases in People</td><td>https://www.cnet.com/health/medical/hearing-more-about-bird-flu-heres-everything-to-know-about-cases-in-people/</td><td>The general public health threat remains low, but some infectious disease experts worry about a thinning line that's kept bird flu from spreading between people.</td><td>health</td></tr><tr><td>AD550951</td><td>https://gizmodo.com/app/uploads/2024/11/apple-watch-se-2nd.jpg</td><td>Why Spend $700 on an Apple Watch When You Can Get The Apple Watch SE For Just $169?</td><td>https://gizmodo.com/why-spend-700-on-an-apple-watch-when-you-can-get-the-apple-watch-se-for-just-169-2000529052</td><td>Do you want an Apple Watch without spending $800? Now is your chance!</td><td>health</td></tr><tr><td>AD550951</td><td>https://gizmodo.com/app/uploads/2024/12/Bat-colony.jpg</td><td>California Teacher Dies From Rare Rabies Infection After Bat Encounter in Classroom</td><td>https://gizmodo.com/california-teacher-dies-from-rare-rabies-infection-after-bat-encounter-in-classroom-2000532968</td><td>60-year-old Fresno resident Leah Seneng was reportedly killed by a rabies infection that she likely caught from a bat that had wandered into her classroom.</td><td>health</td></tr><tr><td>AD550951</td><td>https://cdn.vox-cdn.com/thumbor/esfaO5EhjbSuH6NswUpv8noH2Xw=/0x0:2040x1360/1200x628/filters:focal(1020x680:1021x681)/cdn.vox-cdn.com/uploads/chorus_asset/file/25330613/STK419_DEEPFAKE_CVIRGINIA_E.jpg</td><td>TikTok will block beauty filters for teens over mental health concerns</td><td>https://www.theverge.com/2024/11/27/24307314/tiktok-beauty-filter-effects-age-restriction-teens-wellbeing</td><td>TikTok is placing age restrictions on some of its beauty filters to address concerns about how they impact the mental health of its teenage users.</td><td>health</td></tr><tr><td>AD550951</td><td>https://cdn.vox-cdn.com/thumbor/6EC3XDegoYgwXoqWM1Dy6z2GCrk=/0x0:2550x1700/1200x628/filters:focal(1275x850:1276x851)/cdn.vox-cdn.com/uploads/chorus_asset/file/24816195/236731_Samsung_Galaxy_Watch_6_AKrales_0376.jpg</td><td>Samsung finally starts Wear OS 5 rollout for older Galaxy Watches</td><td>https://www.theverge.com/2024/11/19/24300468/samsung-wear-os-5-one-ui-6-watch-smartwatch-wearables</td><td>After a delay, Wear OS 5 and One UI 6 Watch is arriving on older Galaxy Watch models. New features like Energy Score and sleep apnea detection are included.</td><td>health</td></tr><tr><td>AD550951</td><td>https://i.insider.com/67366ad0ede4eeae3927b3ef?width=915&format=jpeg</td><td>Trump taps Robert F. Kennedy Jr. to lead Department of Health and Human Services</td><td>https://www.businessinsider.com/trump-robert-f-kennedy-jr-rfk-department-health-human-services-2024-11</td><td>Trump announced his nomination for Robert F. Kennedy Jr. to lead the Department of Health and Human Services. The position requires senate approval.</td><td>health</td></tr><tr><td>AD550951</td><td>https://img-cdn.tnwcdn.com/image/tnw-blurple?filter_last=1&fit=1280%2C640&url=https%3A%2F%2Fcdn0.tnwcdn.com%2Fwp-content%2Fblogs.dir%2F1%2Ffiles%2F2024%2F12%2Fteenager-smartphone-use-health.jpg&signature=799bdcd8aa09c6fd89860b0222c0faf2</td><td>Smartphones in Spain should carry health warning, says government panel</td><td>https://thenextweb.com/news/smartphones-in-spain-should-carry-health-warning</td><td>A Spanish government-appointed committee of experts has recommended that smartphones sold in the country carry health warning labels. The advice comes amid mounting concern about the effects of smartphone use, particularly among young people.   The experts pu…</td><td>health</td></tr><tr><td>AD550951</td><td>https://npr.brightspotcdn.com/dims3/default/strip/false/crop/3264x1836+0+306/resize/1400/quality/100/format/jpeg/?url=http%3A%2F%2Fnpr-brightspot.s3.amazonaws.com%2F02%2F28%2Fe504e7bb417dbebaf51b430530b1%2Fsciencesourceimages-1365171-highres.jpg</td><td>RFK Jr. isn't the only one. More than a billion people have parasitic worms</td><td>https://www.npr.org/sections/goats-and-soda/2024/11/15/g-s1-34344/rfk-jr-parasitic-worm-nominee-trump-health-and-human-services</td><td>Earlier this year, a surprising story emerged about RFK Jr. — the newly named nominee for secretary of the Department of Health and Human Services  — and a parasitic brain worm.</td><td>health</td></tr><tr><td>AD550951</td><td>https://www.cnet.com/a/img/resize/2e6a85161ab3ea8ffc009e943ddfde06e13a307e/hub/2024/11/22/caa689f4-70e1-43be-8896-7691a4b853f1/sleep-wellness-gift-guide.jpg?auto=webp&fit=crop&height=675&width=1200</td><td>37 Best Wellness Gifts for the Health Gurus Who Have It All</td><td>https://www.cnet.com/gifts/37-best-wellness-gifts-for-the-health-gurus-that-have-it-all/</td><td>Whether you're shopping for a holistic health connoisseur or a fitness enthusiast or, our editors' favorite picks have you covered for the holidays.</td><td>health</td></tr><tr><td>Ad469118</td><td></td><td>Why Soccer Players Are Training in the Dark</td><td>https://www.wired.com/story/why-soccer-players-are-training-in-the-dark-okkolo-football-sunderland-leeds-united-neuroscience/</td><td>Sports science company Okkulo has shown that its specially lit training environment can improve players’ visual-motor skills—and a growing number of sports are starting to test it out.</td><td>sports</td></tr><tr><td>Ad469118</td><td></td><td>Why Soccer Players Are Training in the Dark</td><td>https://www.wired.com/story/why-soccer-players-are-training-in-the-dark-okkolo-football-sunderland-leeds-united-neuroscience/</td><td>Sports science company Okkulo has shown that its specially lit training environment can improve players’ visual-motor skills—and a growing number of sports are starting to test it out.</td><td>technology</td></tr><tr><td>Ad469118</td><td>https://a1.espncdn.com/combiner/i?img=%2Fphoto%2F2018%2F1023%2Fr451750_640x360_16%2D9.jpg</td><td>FanDuel, MLBPA settle player likenesses lawsuit</td><td>https://www.espn.com/mlb/story/_/id/42409158/fanduel-settles-mlb-lawsuit-use-player-likenesses</td><td>Major League Baseball's players union settled a lawsuit that accused sports betting giant FanDuel of using the names and likenesses of hundreds of MLB players on its betting platform without permission.</td><td>sports</td></tr><tr><td>Ad469118</td><td>https://venturebeat.com/wp-content/uploads/2024/11/Ascend-23-Loupe.png?w=1024?w=1200&strip=all</td><td>Live commerce is the new sports bar: Loupe is the preferred late-night hangout for sports fans and collectors</td><td>https://venturebeat.com/business/live-commerce-is-the-new-sports-bar-loupe-is-the-preferred-late-night-hangout-for-sports-fans-and-collectors/</td><td>CONTRIBUTOR CONTENT: Live commerce and the sports collectibles industries are both booming. There’s one place that sports fans are all going after work and no, it’s not the nearest sports bar. At night, fans are flocking to Loupe, where they can extend the ga…</td><td>sports</td></tr><tr><td>Ad469118</td><td>https://content.artofmanliness.com/uploads/2024/11/gamble.jpg</td><td>Podcast #1,044: What Sports Betting Is Really Doing to Players, Games, and Fans</td><td>https://www.artofmanliness.com/character/behavior/podcast-1044-what-sports-betting-is-really-doing-to-players-games-and-fans/</td><td>Sports gambling has exploded in America. You can’t watch a game today without being bombarded by ads from betting companies, often co-branded with the major sports leagues themselves. It’s a dramatic shift from just seven years ago, when these same leagues we…</td><td>sports</td></tr><tr><td>Ad469118</td><td>https://gizmodo.com/app/uploads/2024/12/J-Studios.jpg</td><td>Landlords Are Using AI to Raise Rents—and Cities Are Starting to Push Back</td><td>https://gizmodo.com/landlords-are-using-ai-to-raise-rents-and-cities-are-starting-to-push-back-2000535519</td><td>AI is a plaque upon housing in America.</td><td>technology</td></tr><tr><td>Ad469118</td><td>https://gizmodo.com/app/uploads/2024/12/OpenAI-CEO-Sam-Altman-on-Fox-News.jpg</td><td>OpenAI Continues Its Mission of ‘Ethical’ AI by Partnering With a Killer Robot Company</td><td>https://gizmodo.com/openai-continues-its-mission-of-ethical-ai-by-partnering-with-a-killer-robot-company-2000534515</td><td>It's a weird look for a company that has claimed that it wants to make AI \"safe for everyone.\"</td><td>technology</td></tr><tr><td>Ad469118</td><td>https://static1.anpoimages.com/wordpress/wp-content/uploads/wm/2024/02/img_1576.jpg</td><td>ESPN brings sports to Disney Plus, completing the bundle with Hulu</td><td>https://www.androidpolice.com/you-can-now-access-espn-content-from-disney-app/</td><td>Now Disney+ has something for sports fans once the kids are asleep</td><td>sports</td></tr><tr><td>Ad469118</td><td>https://gizmodo.com/app/uploads/2024/11/wallace-and-gromit-vengeance-most-fowl-set-visit-interview-aardman.jpg</td><td>How Aardman Mixed Past and Future in Its Return to Wallace and Gromit</td><td>https://gizmodo.com/wallace-and-gromit-vengeance-most-fowl-netflix-set-visit-nick-park-merlin-crossingham-2000527162</td><td>Ahead of its release on Netflix January 3, io9 visited the set of Vengeance Most Fowl to see why now is Aardman's time to return to Wallace and Gromit.</td><td>technology</td></tr><tr><td>Ad469118</td><td>https://seths.blog/wp-content/uploads/2018/06/seth_godin_ogimages_v02_18061316.jpg</td><td>When the media is ready (Bongo part 2)</td><td>https://seths.blog/2024/11/when-the-media-is-ready-bongo-part-2/</td><td>Media isn’t a magazine or a website. It’s a system. We can learn to see the system and contribute to it with leverage. There are three elements to consider in a media system that’s worth a professional creator’s time: Systems are changed by technology. When d…</td><td>technology</td></tr><tr><td>Ad469118</td><td>https://a1.espncdn.com/combiner/i?img=%2Fphoto%2F2024%2F1117%2Fr1415930_1296x729_16%2D9.jpg</td><td>'Inside the NBA' moving to ESPN, ABC next season</td><td>https://www.espn.com/nba/story/_/id/42464696/inside-nba-appear-espn-abc-next-season</td><td>\"Inside the NBA,\" which has won 21 Sports Emmy Awards, will appear on ESPN and ABC starting next season through a partnership with TNT Sports and the NBA.</td><td>sports</td></tr><tr><td>Ad469118</td><td>https://content.artofmanliness.com/uploads/2024/11/run-thumb-2.jpg</td><td>Podcast #1,040: Tribal Runners, Weekend Warriors, and Our Changing Relationship to Endurance Sports</td><td>https://www.artofmanliness.com/health-fitness/fitness/podcast-1040-tribal-runners-weekend-warriors-and-our-changing-relationship-to-endurance-sports/</td><td>Endurance activities, like distance running, have existed since ancient times. But humans’ relationship to those pursuits has changed, according to time and place. In the West, we’ve currently turned endurance sports into a science — tracking every metric and…</td><td>sports</td></tr><tr><td>Ad469118</td><td>https://gizmodo.com/app/uploads/2024/09/airtags-apple.jpg</td><td>Amazon Is Clearing Out AirTags This Cyber Monday, Now at a Record Low Price Until They Sell Out</td><td>https://gizmodo.com/amazon-is-clearing-out-airtags-this-cyber-monday-now-at-a-record-low-price-until-they-sell-out-2000532478</td><td>AirTags are the perfect gift for the holiday season.</td><td>technology</td></tr><tr><td>Ad469118</td><td>https://cdn.vox-cdn.com/thumbor/YavtHu47GBXbFJeKLrxkZwo474E=/0x0:2040x1360/1200x628/filters:focal(1020x680:1021x681)/cdn.vox-cdn.com/uploads/chorus_asset/file/24774110/STK156_Instagram_threads_1.jpg</td><td>Threads’ custom feeds are already rolling out</td><td>https://www.theverge.com/2024/11/20/24301587/threads-custom-feeds-rolling-out</td><td>Just five days after Meta started testing custom feeds in Threads, the company is already rolling them out to everyone. Bluesky also has custom feeds.</td><td>technology</td></tr><tr><td>Ad469118</td><td>https://cdn.vox-cdn.com/thumbor/E2RoDalncTnPdUrncx4kP01lnYw=/0x0:1440x810/1200x628/filters:focal(720x405:721x406)/cdn.vox-cdn.com/uploads/chorus_asset/file/25756939/Home_Sports.jpg</td><td>Meta’s mixed-reality attempt at a Wii Sports knockoff is coming</td><td>https://www.theverge.com/2024/11/25/24305847/meta-quest-home-sports-vr-mr-tennis-bowling-hockey-game</td><td>Home Sports is a cartoonish collection of games like bowling, badminton, and mini-golf, that can be played on Meta’s Quest 3 and 3S headsets.</td><td>entertainment</td></tr><tr><td>Ad469118</td><td>https://cdn.vox-cdn.com/thumbor/E2RoDalncTnPdUrncx4kP01lnYw=/0x0:1440x810/1200x628/filters:focal(720x405:721x406)/cdn.vox-cdn.com/uploads/chorus_asset/file/25756939/Home_Sports.jpg</td><td>Meta’s mixed-reality attempt at a Wii Sports knockoff is coming</td><td>https://www.theverge.com/2024/11/25/24305847/meta-quest-home-sports-vr-mr-tennis-bowling-hockey-game</td><td>Home Sports is a cartoonish collection of games like bowling, badminton, and mini-golf, that can be played on Meta’s Quest 3 and 3S headsets.</td><td>sports</td></tr><tr><td>Ad469118</td><td>https://images.macrumors.com/t/gSfA9gdPJTtAYv_7hjK9YByevcM=/2500x/article-new/2024/07/Safari-Technology-Preview-Updated-Feature-1.jpg</td><td>Apple Releases Safari Technology Preview 208 With Bug Fixes and Performance Improvements</td><td>https://www.macrumors.com/2024/11/21/apple-releases-safari-technology-preview-208/</td><td>Apple today released a new update for Safari Technology Preview, the experimental browser that was first introduced in March 2016. Apple designed ‌Safari Technology Preview‌ to allow users to test features that are planned for future release versions of the S…</td><td>technology</td></tr><tr><td>Ad469118</td><td>https://gizmodo.com/app/uploads/2024/12/The-Enron-sign.jpg</td><td>Is Enron Coming Back as a Crypto Company?</td><td>https://gizmodo.com/is-enron-coming-back-as-a-crypto-company-2000533233</td><td>The scandal ridden company is said to be mounting a comeback, but evidence points in the direction of a large practical joke.</td><td>technology</td></tr><tr><td>Ad469118</td><td>https://gizmodo.com/app/uploads/2024/12/The-Enron-sign.jpg</td><td>Is Enron Coming Back as a Crypto Company?</td><td>https://gizmodo.com/is-enron-coming-back-as-a-crypto-company-2000533233</td><td>The scandal ridden company is said to be mounting a comeback, but evidence points in the direction of a large practical joke.</td><td>entertainment</td></tr><tr><td>Ad469118</td><td>https://www.cnet.com/a/img/resize/a51721727ac6b71b8d078d611ca37505b9006739/hub/2024/10/16/ae3b5078-3ced-47c9-91dd-6b5b1b1a5809/connections-sports-edition-6832.jpg?auto=webp&fit=crop&height=675&width=1200</td><td>Today's NYT Connections: Sports Edition Hints and Answers for Dec. 4, #72</td><td>https://www.cnet.com/tech/gaming/todays-nyt-connections-sports-edition-hints-and-answers-for-dec-4-72/</td><td>Here's today's Connections: Sports Edition answer and hints for groups. These clues will help you solve The New York Times' popular puzzle game, Connections: Sports Edition, every day.</td><td>sports</td></tr><tr><td>Ad469118</td><td>https://www.cnet.com/a/img/resize/a51721727ac6b71b8d078d611ca37505b9006739/hub/2024/10/16/ae3b5078-3ced-47c9-91dd-6b5b1b1a5809/connections-sports-edition-6832.jpg?auto=webp&fit=crop&height=675&width=1200</td><td>Today's NYT Connections: Sports Edition Hints and Answers for Dec. 6, #74</td><td>https://www.cnet.com/tech/gaming/todays-nyt-connections-sports-edition-hints-and-answers-for-dec-6-74/</td><td>Here's today's Connections: Sports Edition answer and hints for groups. These clues will help you solve The New York Times' popular puzzle game, Connections: Sports Edition, every day.</td><td>sports</td></tr><tr><td>Ad469118</td><td>https://www.cnet.com/a/img/resize/a51721727ac6b71b8d078d611ca37505b9006739/hub/2024/10/16/ae3b5078-3ced-47c9-91dd-6b5b1b1a5809/connections-sports-edition-6832.jpg?auto=webp&fit=crop&height=675&width=1200</td><td>Today's NYT Connections: Sports Edition Hints and Answers for Dec. 3, #71</td><td>https://www.cnet.com/tech/gaming/todays-nyt-connections-sports-edition-hints-and-answers-for-dec-3-71/</td><td>Here's today's Connections: Sports Edition answer and hints for groups. These clues will help you solve The New York Times' popular puzzle game, Connections: Sports Edition, every day.</td><td>sports</td></tr><tr><td>Ad469118</td><td>https://www.cnet.com/a/img/resize/a51721727ac6b71b8d078d611ca37505b9006739/hub/2024/10/16/ae3b5078-3ced-47c9-91dd-6b5b1b1a5809/connections-sports-edition-6832.jpg?auto=webp&fit=crop&height=675&width=1200</td><td>Today's NYT Connections: Sports Edition Hints and Answers for Dec. 5, #73</td><td>https://www.cnet.com/tech/gaming/todays-nyt-connections-sports-edition-hints-and-answers-for-dec-5-73/</td><td>Here's today's Connections: Sports Edition answer and hints for groups. These clues will help you solve The New York Times' popular puzzle game, Connections: Sports Edition, every day.</td><td>sports</td></tr><tr><td>Ad469118</td><td>https://www.cnet.com/a/img/resize/a51721727ac6b71b8d078d611ca37505b9006739/hub/2024/10/16/ae3b5078-3ced-47c9-91dd-6b5b1b1a5809/connections-sports-edition-6832.jpg?auto=webp&fit=crop&height=675&width=1200</td><td>Today's NYT Connections: Sports Edition Hints and Answers for Nov. 17, #55</td><td>https://www.cnet.com/tech/gaming/todays-nyt-connections-sports-edition-hints-and-answers-for-nov-17-55/</td><td>Here's today's Connections: Sports Edition answer and hints for groups. These clues will help you solve The New York Times' popular puzzle game, Connections: Sports Edition, every day.</td><td>sports</td></tr><tr><td>Ad469118</td><td>https://www.cnet.com/a/img/resize/a51721727ac6b71b8d078d611ca37505b9006739/hub/2024/10/16/ae3b5078-3ced-47c9-91dd-6b5b1b1a5809/connections-sports-edition-6832.jpg?auto=webp&fit=crop&height=675&width=1200</td><td>Today's NYT Connections: Sports Edition Hints and Answers for Nov. 15, #53</td><td>https://www.cnet.com/tech/gaming/todays-nyt-connections-sports-edition-hints-and-answers-for-nov-15-53/</td><td>Here's today's Connections: Sports Edition answer and hints for groups. These clues will help you solve The New York Times' popular puzzle game, Connections: Sports Edition, every day.</td><td>sports</td></tr><tr><td>Ad469118</td><td>https://www.cnet.com/a/img/resize/a51721727ac6b71b8d078d611ca37505b9006739/hub/2024/10/16/ae3b5078-3ced-47c9-91dd-6b5b1b1a5809/connections-sports-edition-6832.jpg?auto=webp&fit=crop&height=675&width=1200</td><td>Today's NYT Connections: Sports Edition Hints and Answers for Nov. 30, #68</td><td>https://www.cnet.com/tech/gaming/todays-nyt-connections-sports-edition-hints-and-answers-for-nov-30-68/</td><td>Here's today's Connections: Sports Edition answer and hints for groups. These clues will help you solve The New York Times' popular puzzle game, Connections: Sports Edition, every day.</td><td>sports</td></tr><tr><td>Ad469118</td><td>https://www.cnet.com/a/img/resize/a51721727ac6b71b8d078d611ca37505b9006739/hub/2024/10/16/ae3b5078-3ced-47c9-91dd-6b5b1b1a5809/connections-sports-edition-6832.jpg?auto=webp&fit=crop&height=675&width=1200</td><td>Today's NYT Connections: Sports Edition Hints and Answers for Nov. 25, #63</td><td>https://www.cnet.com/tech/gaming/todays-nyt-connections-sports-edition-hints-and-answers-for-nov-25-63/</td><td>Here's today's Connections: Sports Edition answer and hints for groups. These clues will help you solve The New York Times' popular puzzle game, Connections: Sports Edition, every day.</td><td>sports</td></tr><tr><td>Ad469118</td><td>https://cdn.vox-cdn.com/thumbor/etyf6_gaUPmtbLsBh7itwYBd39E=/0x0:2040x1360/1200x628/filters:focal(1020x680:1021x681)/cdn.vox-cdn.com/uploads/chorus_asset/file/25728924/STK133_BLUESKY__B.jpg</td><td>Bluesky has been acting up today</td><td>https://www.theverge.com/2024/11/14/24296537/bluesky-acting-up-outage-down</td><td>Bluesky is growing quickly in popularity, but if you’re trying to use it today, the site might be acting up. For a little while, my feeds and notifications were very slow to load on the web and mobile while logged in.</td><td>technology</td></tr><tr><td>Ad469118</td><td>https://www.cnet.com/a/img/resize/a51721727ac6b71b8d078d611ca37505b9006739/hub/2024/10/16/ae3b5078-3ced-47c9-91dd-6b5b1b1a5809/connections-sports-edition-6832.jpg?auto=webp&fit=crop&height=675&width=1200</td><td>Today's NYT Connections: Sports Edition Hints and Answers for Nov. 24, #62</td><td>https://www.cnet.com/tech/gaming/todays-nyt-connections-sports-edition-hints-and-answers-for-nov-24-62/</td><td>Here's today's Connections: Sports Edition answer and hints for groups. These clues will help you solve The New York Times' popular puzzle game, Connections: Sports Edition, every day.</td><td>sports</td></tr><tr><td>Ad469118</td><td>https://www.cnet.com/a/img/resize/a51721727ac6b71b8d078d611ca37505b9006739/hub/2024/10/16/ae3b5078-3ced-47c9-91dd-6b5b1b1a5809/connections-sports-edition-6832.jpg?auto=webp&fit=crop&height=675&width=1200</td><td>Today's NYT Connections: Sports Edition Hints and Answers for Nov. 28, #66</td><td>https://www.cnet.com/tech/gaming/todays-nyt-connections-sports-edition-hints-and-answers-for-nov-28-66/</td><td>Here's today's Connections: Sports Edition answer and hints for groups. These clues will help you solve The New York Times' popular puzzle game, Connections: Sports Edition, every day.</td><td>sports</td></tr><tr><td>Ad469118</td><td>https://www.cnet.com/a/img/resize/a51721727ac6b71b8d078d611ca37505b9006739/hub/2024/10/16/ae3b5078-3ced-47c9-91dd-6b5b1b1a5809/connections-sports-edition-6832.jpg?auto=webp&fit=crop&height=675&width=1200</td><td>Today's NYT Connections: Sports Edition Hints and Answers for Nov. 20, #58</td><td>https://www.cnet.com/tech/gaming/todays-nyt-connections-sports-edition-hints-and-answers-for-nov-20-58/</td><td>Here's today's Connections: Sports Edition answer and hints for groups. These clues will help you solve The New York Times' popular puzzle game, Connections: Sports Edition, every day.</td><td>sports</td></tr><tr><td>Ad469118</td><td>https://www.cnet.com/a/img/resize/a51721727ac6b71b8d078d611ca37505b9006739/hub/2024/10/16/ae3b5078-3ced-47c9-91dd-6b5b1b1a5809/connections-sports-edition-6832.jpg?auto=webp&fit=crop&height=675&width=1200</td><td>Today's NYT Connections: Sports Edition Hints and Answers for Nov. 29, #67</td><td>https://www.cnet.com/tech/gaming/todays-nyt-connections-sports-edition-hints-and-answers-for-nov-29-67/</td><td>Here's today's Connections: Sports Edition answer and hints for groups. These clues will help you solve The New York Times' popular puzzle game, Connections: Sports Edition, every day.</td><td>sports</td></tr><tr><td>Ad469118</td><td>https://www.cnet.com/a/img/resize/a51721727ac6b71b8d078d611ca37505b9006739/hub/2024/10/16/ae3b5078-3ced-47c9-91dd-6b5b1b1a5809/connections-sports-edition-6832.jpg?auto=webp&fit=crop&height=675&width=1200</td><td>Today's NYT Connections: Sports Edition Hints and Answers for Nov. 13, #51</td><td>https://www.cnet.com/tech/gaming/todays-nyt-connections-sports-edition-hints-and-answers-for-nov-13-51/</td><td>Here's today's Connections: Sports Edition answer and hints for groups. These clues will help you solve The New York Times' popular puzzle game, Connections: Sports Edition, every day.</td><td>sports</td></tr><tr><td>Ad469118</td><td>https://www.cnet.com/a/img/resize/a51721727ac6b71b8d078d611ca37505b9006739/hub/2024/10/16/ae3b5078-3ced-47c9-91dd-6b5b1b1a5809/connections-sports-edition-6832.jpg?auto=webp&fit=crop&height=675&width=1200</td><td>Today's NYT Connections: Sports Edition Hints and Answers for Nov. 26, #64</td><td>https://www.cnet.com/tech/gaming/todays-nyt-connections-sports-edition-hints-and-answers-for-nov-26-64/</td><td>Here's today's Connections: Sports Edition answer and hints for groups. These clues will help you solve The New York Times' popular puzzle game, Connections: Sports Edition, every day.</td><td>sports</td></tr><tr><td>Ad469118</td><td>https://www.cnet.com/a/img/resize/a51721727ac6b71b8d078d611ca37505b9006739/hub/2024/10/16/ae3b5078-3ced-47c9-91dd-6b5b1b1a5809/connections-sports-edition-6832.jpg?auto=webp&fit=crop&height=675&width=1200</td><td>Today's NYT Connections: Sports Edition Hints and Answers for Nov. 14, #52</td><td>https://www.cnet.com/tech/gaming/todays-nyt-connections-sports-edition-hints-and-answers-for-nov-14-52/</td><td>Here's today's Connections: Sports Edition answer and hints for groups. These clues will help you solve The New York Times' popular puzzle game, Connections: Sports Edition, every day.</td><td>sports</td></tr><tr><td>Ad469118</td><td>https://images.macrumors.com/t/KecnknybEVYQAn1VyV4jgWWR9Rg=/2500x/article-new/2024/06/visionOS-2-on-Apple-Vision-Pro-Feature.jpg</td><td>visionOS 2.2 Adds Support for Watching Five Sports Games at Once With Multiview</td><td>https://www.macrumors.com/2024/12/05/visionos-2-2-multiview-support/</td><td>With the visionOS 2.2 update that's set to come out next week, Apple is introducing the promised Multiview feature that will let sports fans watch up to five games at once.\n",
       "\n",
       "\n",
       "\n",
       "\n",
       "\n",
       "The Multiview feature for the Vision Pro works with MLS and MLB games, but other …</td><td>sports</td></tr><tr><td>Ad469118</td><td>https://www.cnet.com/a/img/resize/534e96a76cc95ffb8bf0a8f1dc59b9595df1b150/hub/2024/12/04/bb03defb-1804-4f01-9d62-d0f0d96fb5ae/gettyimages-2168981593.jpg?auto=webp&fit=crop&height=675&width=1200</td><td>Premier League Soccer: Livestream Aston Villa vs. Brentford From Anywhere</td><td>https://www.cnet.com/tech/services-and-software/premier-league-soccer-livestream-aston-villa-vs-brentford-from-anywhere/</td><td>The Bees look to push further up the table against the out-of-form Villains.</td><td>sports</td></tr><tr><td>Ad469118</td><td>https://www.cnet.com/a/img/resize/947139a0cde855ff52a4d83c3263e7bf8ca0c451/hub/2024/11/13/b855031a-670e-45f8-ac94-4c71951764db/tyson-vs-paul-netflix-2.jpg?auto=webp&fit=crop&height=675&width=1200</td><td>When to Stream the Mike Tyson vs. Jake Paul Boxing Match on Netflix</td><td>https://www.cnet.com/tech/services-and-software/when-to-stream-the-mike-tyson-vs-jake-paul-boxing-match-on-netflix/</td><td>The sports event will air live on the streaming service, and you can watch the weigh-in tonight.</td><td>sports</td></tr><tr><td>Ad469118</td><td>https://i.abcnewsfe.com/a/d944e838-b9a5-4e47-aa03-ec6bd5e692e4/linda-mcmahon-gty-jef-241120_1732130473470_hpMain_16x9.jpg?w=1600</td><td>Linda McMahon's professional qualifications as Trump's choice for Dept. of Education</td><td>https://abcnews.go.com/Politics/linda-mcmahons-background-trumps-pick-education-secretary/story?id=116058197</td><td>Linda McMahon's background -- in both education and as a co-founder of sports entertainment company World Wrestling Entertainment, Inc. -- has come under scrutiny.</td><td>sports</td></tr><tr><td>Ad469118</td><td>https://i.abcnewsfe.com/a/d944e838-b9a5-4e47-aa03-ec6bd5e692e4/linda-mcmahon-gty-jef-241120_1732130473470_hpMain_16x9.jpg?w=1600</td><td>Linda McMahon's professional qualifications as Trump's choice for Dept. of Education</td><td>https://abcnews.go.com/Politics/linda-mcmahons-background-trumps-pick-education-secretary/story?id=116058197</td><td>Linda McMahon's background -- in both education and as a co-founder of sports entertainment company World Wrestling Entertainment, Inc. -- has come under scrutiny.</td><td>entertainment</td></tr><tr><td>Ad469118</td><td>https://gizmodo.com/app/uploads/2024/11/airpods-pro-2-apple.jpg</td><td>Apple’s AirPods Pro 2 Are Almost 40% Off, And This Is Not a Mistake In Pricing</td><td>https://gizmodo.com/apples-airpods-pro-2-are-almost-40-off-and-this-is-not-a-mistake-pricing-2000528073</td><td>At this price, it's truly a great deal.</td><td>technology</td></tr><tr><td>Ad469118</td><td>https://gizmodo.com/app/uploads/2024/11/airpods-pro-2-apple.jpg</td><td>Apple’s AirPods Pro 2 Are Almost 40% Off, And This Is Not a Mistake In Pricing</td><td>https://gizmodo.com/apples-airpods-pro-2-are-almost-40-off-and-this-is-not-a-mistake-in-pricing-2000528073</td><td>At this price, it's truly a great deal.</td><td>technology</td></tr><tr><td>Ad469118</td><td>https://ichef.bbci.co.uk/news/1024/branded_sport/2db8/live/a5b50f80-b163-11ef-a0f2-fd81ae5962f4.jpg</td><td>In Pictures: Sporting photos of the week</td><td>https://www.bbc.com/sport/articles/cgm97pwx9l7o</td><td>A selection of some of the most striking sports photographs taken around the world over the past seven days.</td><td>sports</td></tr><tr><td>Ad469118</td><td>https://ichef.bbci.co.uk/news/1024/branded_sport/28dd/live/9e6ed110-b0b0-11ef-8403-a73d519cc056.png</td><td>Sports Personality shortlist announced on Monday</td><td>https://www.bbc.com/sport/articles/c5ydl28lee1o</td><td>The contenders for the 2024 BBC Sports Personality of the Year award will be announced on Monday.</td><td>sports</td></tr><tr><td>Ad469118</td><td>null</td><td>Luxury sports car splits in half during deadly collision in Texas, killing its 2 occupants</td><td>https://consent.yahoo.com/v2/collectConsent?sessionId=1_cc-session_e76614a8-9fc9-49c1-9d04-2ddb0a3db31b</td><td></td><td>sports</td></tr><tr><td>Ad469118</td><td>https://media.wired.com/photos/673f641cc8e4183a9d1d5376/191:100/w_1280,c_limit/WW25-Technology-MW-Carmen-Casado.jpg</td><td>The Beginning of the End of Big Tech</td><td>https://www.wired.com/story/the-beginning-of-the-end-of-big-tech/</td><td>From politicians to VC firms, everyone is falling out of love with the massive, money-oriented, global technology titans. In their place, we have the chance to build something open and trustworthy.</td><td>technology</td></tr><tr><td>Ad469118</td><td>https://i.insider.com/67357889fa0140cdd56343c2?width=1200&format=jpeg</td><td>Saudi Arabia is trying to build a mega-city in the desert. Now, Neom is dialing back plans for its first stage.</td><td>https://www.businessinsider.com/neom-refocuses-sports-athletics-world-cup-construction-slow-costly-ceo-2024-11</td><td>The authoritarian country is spending billions on international athletics, from Formula 1 to combat sports, to boost its bottom line and image.</td><td>sports</td></tr><tr><td>Ad469118</td><td>https://gizmodo.com/app/uploads/2024/11/macbook-pro.jpg</td><td>Apple Has Lost Its Mind: The Newest MacBook Pros M4 Are at a Record Low on Amazon</td><td>https://gizmodo.com/apple-has-lost-its-mind-the-newest-macbook-pros-m4-are-at-a-record-low-on-amazon-2000531735</td><td>We've never seen such a big discount on a MacBook Pro that was just released a month ago.</td><td>technology</td></tr><tr><td>Ad469118</td><td>https://www.cnet.com/a/img/resize/6e6108d88bd42f960c7c826d6acab661b3bdc551/hub/2024/11/22/11bb6017-b4f7-42f2-baad-8697a497ced0/gettyimages-2184772553.jpg?auto=webp&fit=crop&height=675&width=1200</td><td>Premier League Soccer: Livestream Ipswich vs. Man United From Anywhere</td><td>https://www.cnet.com/tech/services-and-software/premier-league-soccer-livestream-ipswich-vs-man-united-from-anywhere/</td><td>It's Ruben Amorim's first game in charge of the Red Devils.</td><td>sports</td></tr><tr><td>Ad469118</td><td>https://venturebeat.com/wp-content/uploads/2024/11/fifa-rivals.jpg?w=1024?w=1200&strip=all</td><td>Mythical Games teams with FIFA to make Web3 mobile soccer game FIFA Rivals</td><td>https://venturebeat.com/games/mythical-games-teams-with-fifa-to-make-web3-mobile-soccer-game-fifa-rivals/</td><td>FIFA and game maker Mythical Games are teaming up on FIFA Rivals, a Web3 mobile game that is licensed from the global sports group.</td><td>sports</td></tr><tr><td>Ad469118</td><td>https://platform.polygon.com/wp-content/uploads/sites/2/2024/10/ComicCon_Final.jpg?quality=90&strip=all&crop=0%2C10.732984293194%2C100%2C78.534031413613&w=1200</td><td>Comic-Con-alternative CCXP has harnessed a growing phenomenon</td><td>https://www.polygon.com/comics/473178/ccxp-is-the-new-comic-con</td><td>Each time CCXP starts, nearly everyone in São Paulo feels it. A 40-minute drive to the São Paulo Expo convention center can suddenly take three hours with traffic. Some attendees travel over 1,800 miles to watch as many panels as possible at the entertainment…</td><td>entertainment</td></tr><tr><td>Ad469118</td><td>https://i.insider.com/6746345afa0140cdd565aace?width=1200&format=jpeg</td><td>ExpressVPN Black Friday deals 2024: Over 50% off one and two-year plans</td><td>https://www.businessinsider.com/guides/deals/expressvpn-black-friday-deals-2024-11</td><td>The ExpressVPN Black Friday deals are here, and you can get up to six months free.</td><td>entertainment</td></tr><tr><td>Ad469118</td><td>https://www.journaldugeek.com/app/uploads/2024/11/Home-Sports.jpg</td><td>Home Sports : Meta présente son Wii Sports en réalité mixte</td><td>https://www.journaldugeek.com/2024/11/26/home-sports-meta-presente-wii-sports-realite-mixte/</td><td>Les Meta Quest 3 et 3S vont accueillir un jeu en réalité mixte nommé Home Sports. Le titre développé par Resolution Games s'inspire de l'illustre Wii Sports.</td><td>sports</td></tr><tr><td>Ad469118</td><td>https://media.wired.com/photos/67463628671a7dccda4be1ef/191:100/w_1280,c_limit/Drake-Lawsuit-Kendrick-Culture-1368406520.jpg</td><td>Drake May Soon Find Out If the Law Can Settle a Rap Beef</td><td>https://www.wired.com/story/drake-kendrick-lamar-beef-legal-umg-spotify-iheartradio/</td><td>Drake and Kendrick Lamar's ongoing feud has mostly been a war of words, fought online. With several court filings this week, Drake aimed to take it to a different venue.</td><td>technology</td></tr><tr><td>Ad469118</td><td>https://npr.brightspotcdn.com/dims3/default/strip/false/crop/6000x3375+0+313/resize/1400/quality/100/format/jpeg/?url=http%3A%2F%2Fnpr-brightspot.s3.amazonaws.com%2F60%2Fa8%2F2fad0eea4cf194dee626563c4456%2Fgettyimages-2184076331.jpg</td><td>The NWSL rides a 'rocket ship' of interest in women's sports to a record-setting year</td><td>https://www.npr.org/2024/11/16/g-s1-34468/nwsl-playoffs-attendance-ratings</td><td>Across the board, 2024 was a record year for women's sports. The WNBA saw record audiences. In college basketball, the women's March Madness tournament outdrew the men's. The NWSL was no exception.</td><td>sports</td></tr><tr><td>Ad469118</td><td>https://gizmodo.com/app/uploads/2024/11/galaxy-buds3-pro.jpg</td><td>The Galaxy Buds 3 Pro Are 56% Off, as Samsung Clears Its Stock on Day 1 of Black Friday</td><td>https://gizmodo.com/the-galaxy-buds-3-pro-are-56-off-as-samsung-clears-its-stock-on-day-1-of-black-friday-2000528280</td><td>For just $114, you can buy the Galaxy Buds 3 Pro which have been awarded Gizmodo Editor's Choice.</td><td>technology</td></tr><tr><td>Ad469118</td><td>https://platform.polygon.com/wp-content/uploads/sites/2/2024/11/shuhei-yoshida.jpg?quality=90&strip=all&crop=0,3.4613147178592,100,93.077370564282</td><td>Shuhei Yoshida is the soul of PlayStation. What does his departure mean for Sony?</td><td>https://www.polygon.com/analysis/486140/shuhei-yoshida-leaves-playstation-sony</td><td>Shuhei Yoshida, the popular PlayStation executive, has announced that he will leave Sony Interactive Entertainment on Jan. 15, 2025. At that point, he’ll be just shy of his 32nd anniversary with the company, having joined in early 1993 when the first PlayStat…</td><td>entertainment</td></tr><tr><td>Ad469118</td><td>https://cdn.vox-cdn.com/thumbor/O9EYOriTeCNsR-duTY6Ip0x43AU=/0x0:7144x4762/1200x628/filters:focal(3572x2381:3573x2382)/cdn.vox-cdn.com/uploads/chorus_asset/file/25739364/2184281898.jpg</td><td>NBA settles with WBD as it prepares to stream games on Amazon in 2025</td><td>https://www.theverge.com/2024/11/18/24299485/nba-wbd-max-sports-live-streaming-amazon-2025</td><td>Warner Bros. Discovery will settle its lawsuit against the NBA as it reaches a new deal that moves Inside the NBA to ESPN next year.</td><td>sports</td></tr><tr><td>Ad469118</td><td>https://gizmodo.com/app/uploads/2024/11/A-laboratory-worker.jpg</td><td>Life Extension Could Be a Threat to Human Existence</td><td>https://gizmodo.com/life-extension-could-be-a-threat-to-human-existence-2000529903</td><td>Would higher taxes on Earth's elite be more beneficial to the global population's health than all the life-extension science Bezos billions can fund?</td><td>technology</td></tr><tr><td>Ad469118</td><td>https://gizmodo.com/app/uploads/2024/09/delta2.jpg</td><td>The EcoFlow Delta 2 Battery Is $399 Down From $999, Amazon Is Going All In For Black Friday</td><td>https://gizmodo.com/the-ecoflow-delta-2-battery-is-399-down-from-999-amazon-is-going-all-in-for-black-friday-2000532060</td><td>This portable battery can save your life, and anyone can easily use it.</td><td>technology</td></tr><tr><td>SU606820</td><td></td><td>Why Soccer Players Are Training in the Dark</td><td>https://www.wired.com/story/why-soccer-players-are-training-in-the-dark-okkolo-football-sunderland-leeds-united-neuroscience/</td><td>Sports science company Okkulo has shown that its specially lit training environment can improve players’ visual-motor skills—and a growing number of sports are starting to test it out.</td><td>sports</td></tr><tr><td>SU606820</td><td></td><td>Why Soccer Players Are Training in the Dark</td><td>https://www.wired.com/story/why-soccer-players-are-training-in-the-dark-okkolo-football-sunderland-leeds-united-neuroscience/</td><td>Sports science company Okkulo has shown that its specially lit training environment can improve players’ visual-motor skills—and a growing number of sports are starting to test it out.</td><td>technology</td></tr><tr><td>SU606820</td><td>https://a1.espncdn.com/combiner/i?img=%2Fphoto%2F2018%2F1023%2Fr451750_640x360_16%2D9.jpg</td><td>FanDuel, MLBPA settle player likenesses lawsuit</td><td>https://www.espn.com/mlb/story/_/id/42409158/fanduel-settles-mlb-lawsuit-use-player-likenesses</td><td>Major League Baseball's players union settled a lawsuit that accused sports betting giant FanDuel of using the names and likenesses of hundreds of MLB players on its betting platform without permission.</td><td>sports</td></tr><tr><td>SU606820</td><td>https://venturebeat.com/wp-content/uploads/2024/11/Ascend-23-Loupe.png?w=1024?w=1200&strip=all</td><td>Live commerce is the new sports bar: Loupe is the preferred late-night hangout for sports fans and collectors</td><td>https://venturebeat.com/business/live-commerce-is-the-new-sports-bar-loupe-is-the-preferred-late-night-hangout-for-sports-fans-and-collectors/</td><td>CONTRIBUTOR CONTENT: Live commerce and the sports collectibles industries are both booming. There’s one place that sports fans are all going after work and no, it’s not the nearest sports bar. At night, fans are flocking to Loupe, where they can extend the ga…</td><td>sports</td></tr><tr><td>SU606820</td><td>https://content.artofmanliness.com/uploads/2024/11/gamble.jpg</td><td>Podcast #1,044: What Sports Betting Is Really Doing to Players, Games, and Fans</td><td>https://www.artofmanliness.com/character/behavior/podcast-1044-what-sports-betting-is-really-doing-to-players-games-and-fans/</td><td>Sports gambling has exploded in America. You can’t watch a game today without being bombarded by ads from betting companies, often co-branded with the major sports leagues themselves. It’s a dramatic shift from just seven years ago, when these same leagues we…</td><td>sports</td></tr><tr><td>SU606820</td><td>https://gizmodo.com/app/uploads/2024/12/J-Studios.jpg</td><td>Landlords Are Using AI to Raise Rents—and Cities Are Starting to Push Back</td><td>https://gizmodo.com/landlords-are-using-ai-to-raise-rents-and-cities-are-starting-to-push-back-2000535519</td><td>AI is a plaque upon housing in America.</td><td>technology</td></tr><tr><td>SU606820</td><td>https://gizmodo.com/app/uploads/2024/12/OpenAI-CEO-Sam-Altman-on-Fox-News.jpg</td><td>OpenAI Continues Its Mission of ‘Ethical’ AI by Partnering With a Killer Robot Company</td><td>https://gizmodo.com/openai-continues-its-mission-of-ethical-ai-by-partnering-with-a-killer-robot-company-2000534515</td><td>It's a weird look for a company that has claimed that it wants to make AI \"safe for everyone.\"</td><td>technology</td></tr><tr><td>SU606820</td><td>null</td><td>Meta wants its Llama AI in Britain’s public healthcare system</td><td>https://consent.yahoo.com/v2/collectConsent?sessionId=1_cc-session_b19bd6f4-2654-465b-abec-7e69582cd26b</td><td>Meta is making a pitch to get its AI into the UK’s public health system. The Guardian reported on Tuesday that the company held a hackathon in Europe, tasking over 200 developers to use its Llama AI to improve the country’s health services. The company awarde…</td><td>health</td></tr><tr><td>SU606820</td><td>https://static1.anpoimages.com/wordpress/wp-content/uploads/wm/2024/02/img_1576.jpg</td><td>ESPN brings sports to Disney Plus, completing the bundle with Hulu</td><td>https://www.androidpolice.com/you-can-now-access-espn-content-from-disney-app/</td><td>Now Disney+ has something for sports fans once the kids are asleep</td><td>sports</td></tr><tr><td>SU606820</td><td>https://ichef.bbci.co.uk/news/1024/branded_news/ba3b/live/a86ea4d0-b743-11ef-b631-b5f63aa48be1.jpg</td><td>Increased vet burden creates animal welfare concerns</td><td>https://www.bbc.com/news/articles/c1d34ezvxp2o</td><td>While the number of vets in Wales has increased, the number of pets has at a far higher pace.</td><td>health</td></tr><tr><td>SU606820</td><td>https://ichef.bbci.co.uk/news/1024/branded_news/33d2/live/c76fa200-a1b1-11ef-897a-cfb3ce396193.jpg</td><td>One in three T-level students drop out of health course</td><td>https://www.bbc.com/news/articles/cy4g04j1l9xo</td><td>Many health and science T-level students dropped out after an exam board sent out botched exam papers in 2022.</td><td>health</td></tr><tr><td>SU606820</td><td>https://i.insider.com/673e2500192f525898599dfd?width=1200&format=jpeg</td><td>A FIRE blogger decided to test the benefits of the popular triple-tax advantaged HSA. He explains why it wasn't worth the hassle and wants to switch health insurance plans in 2025.</td><td>https://www.businessinsider.com/financial-independence-blogger-switched-to-hdhp-hsa-health-insurance-plan-2024-11</td><td>Andre Nader switched from an EPO health insurance plan to an HDHP to take advantage of an HSA. Despite the tax benefits, it wasn't worth it for him.</td><td>health</td></tr><tr><td>SU606820</td><td>https://a1.espncdn.com/combiner/i?img=%2Fphoto%2F2024%2F1117%2Fr1415930_1296x729_16%2D9.jpg</td><td>'Inside the NBA' moving to ESPN, ABC next season</td><td>https://www.espn.com/nba/story/_/id/42464696/inside-nba-appear-espn-abc-next-season</td><td>\"Inside the NBA,\" which has won 21 Sports Emmy Awards, will appear on ESPN and ABC starting next season through a partnership with TNT Sports and the NBA.</td><td>sports</td></tr><tr><td>SU606820</td><td>https://ichef.bbci.co.uk/news/1024/branded_news/4a6e/live/9fe2dfe0-a10c-11ef-9d70-9564a3cc52f2.jpg</td><td>Number of homeless people in Wales at record high</td><td>https://www.bbc.com/news/articles/cm27e2gn515o</td><td>Charmaine, 38, has been waiting to move for two years and it is affecting her mental health.</td><td>health</td></tr><tr><td>SU606820</td><td>https://i.insider.com/674113b1ede4eeae39292e6b?width=1200&format=jpeg</td><td>Are seed oils toxic? It's complicated — here's what you need to know about the war over dietary fats</td><td>https://www.businessinsider.com/are-seed-oils-dangerous-for-your-health-inflammation-evidence-2024-11</td><td>Some health influencers say golden-hued vegetable oils like canola are bad for you. It's complicated. Here's the science.</td><td>health</td></tr><tr><td>SU606820</td><td>https://cdn.vox-cdn.com/thumbor/E2RoDalncTnPdUrncx4kP01lnYw=/0x0:1440x810/1200x628/filters:focal(720x405:721x406)/cdn.vox-cdn.com/uploads/chorus_asset/file/25756939/Home_Sports.jpg</td><td>Meta’s mixed-reality attempt at a Wii Sports knockoff is coming</td><td>https://www.theverge.com/2024/11/25/24305847/meta-quest-home-sports-vr-mr-tennis-bowling-hockey-game</td><td>Home Sports is a cartoonish collection of games like bowling, badminton, and mini-golf, that can be played on Meta’s Quest 3 and 3S headsets.</td><td>sports</td></tr><tr><td>SU606820</td><td>https://cdn.vox-cdn.com/thumbor/E2RoDalncTnPdUrncx4kP01lnYw=/0x0:1440x810/1200x628/filters:focal(720x405:721x406)/cdn.vox-cdn.com/uploads/chorus_asset/file/25756939/Home_Sports.jpg</td><td>Meta’s mixed-reality attempt at a Wii Sports knockoff is coming</td><td>https://www.theverge.com/2024/11/25/24305847/meta-quest-home-sports-vr-mr-tennis-bowling-hockey-game</td><td>Home Sports is a cartoonish collection of games like bowling, badminton, and mini-golf, that can be played on Meta’s Quest 3 and 3S headsets.</td><td>entertainment</td></tr><tr><td>SU606820</td><td>https://gizmodo.com/app/uploads/2024/11/Wegovy-1.jpg</td><td>A Staggering Number of U.S. Adults Are Eligible for Ozempic, Study Finds</td><td>https://gizmodo.com/a-staggering-number-of-u-s-adults-are-eligible-for-ozempic-study-finds-2000526418</td><td>A groundbreaking Harvard study reveals that semaglutide could benefit more people in the U.S. than ever imagined.</td><td>health</td></tr><tr><td>SU606820</td><td>https://seths.blog/wp-content/uploads/2018/06/seth_godin_ogimages_v02_18061316.jpg</td><td>When the media is ready (Bongo part 2)</td><td>https://seths.blog/2024/11/when-the-media-is-ready-bongo-part-2/</td><td>Media isn’t a magazine or a website. It’s a system. We can learn to see the system and contribute to it with leverage. There are three elements to consider in a media system that’s worth a professional creator’s time: Systems are changed by technology. When d…</td><td>technology</td></tr><tr><td>SU606820</td><td>https://ichef.bbci.co.uk/news/1024/branded_news/cd4e/live/e10b0380-b1bf-11ef-8613-eb846c2a010c.jpg</td><td>Hospice leaders warn hundreds of beds out of use</td><td>https://www.bbc.com/news/articles/clykz68zexpo</td><td>A lack of funding and staff are blamed as hospices close beds permanently or take them out of use.</td><td>health</td></tr><tr><td>SU606820</td><td>https://content.artofmanliness.com/uploads/2024/11/run-thumb-2.jpg</td><td>Podcast #1,040: Tribal Runners, Weekend Warriors, and Our Changing Relationship to Endurance Sports</td><td>https://www.artofmanliness.com/health-fitness/fitness/podcast-1040-tribal-runners-weekend-warriors-and-our-changing-relationship-to-endurance-sports/</td><td>Endurance activities, like distance running, have existed since ancient times. But humans’ relationship to those pursuits has changed, according to time and place. In the West, we’ve currently turned endurance sports into a science — tracking every metric and…</td><td>sports</td></tr><tr><td>SU606820</td><td>https://gizmodo.com/app/uploads/2024/11/wallace-and-gromit-vengeance-most-fowl-set-visit-interview-aardman.jpg</td><td>How Aardman Mixed Past and Future in Its Return to Wallace and Gromit</td><td>https://gizmodo.com/wallace-and-gromit-vengeance-most-fowl-netflix-set-visit-nick-park-merlin-crossingham-2000527162</td><td>Ahead of its release on Netflix January 3, io9 visited the set of Vengeance Most Fowl to see why now is Aardman's time to return to Wallace and Gromit.</td><td>technology</td></tr><tr><td>SU606820</td><td>https://www.cnet.com/a/img/resize/a51721727ac6b71b8d078d611ca37505b9006739/hub/2024/10/16/ae3b5078-3ced-47c9-91dd-6b5b1b1a5809/connections-sports-edition-6832.jpg?auto=webp&fit=crop&height=675&width=1200</td><td>Today's NYT Connections: Sports Edition Hints and Answers for Dec. 3, #71</td><td>https://www.cnet.com/tech/gaming/todays-nyt-connections-sports-edition-hints-and-answers-for-dec-3-71/</td><td>Here's today's Connections: Sports Edition answer and hints for groups. These clues will help you solve The New York Times' popular puzzle game, Connections: Sports Edition, every day.</td><td>sports</td></tr><tr><td>SU606820</td><td>https://www.cnet.com/a/img/resize/a51721727ac6b71b8d078d611ca37505b9006739/hub/2024/10/16/ae3b5078-3ced-47c9-91dd-6b5b1b1a5809/connections-sports-edition-6832.jpg?auto=webp&fit=crop&height=675&width=1200</td><td>Today's NYT Connections: Sports Edition Hints and Answers for Dec. 5, #73</td><td>https://www.cnet.com/tech/gaming/todays-nyt-connections-sports-edition-hints-and-answers-for-dec-5-73/</td><td>Here's today's Connections: Sports Edition answer and hints for groups. These clues will help you solve The New York Times' popular puzzle game, Connections: Sports Edition, every day.</td><td>sports</td></tr><tr><td>SU606820</td><td>https://www.cnet.com/a/img/resize/a51721727ac6b71b8d078d611ca37505b9006739/hub/2024/10/16/ae3b5078-3ced-47c9-91dd-6b5b1b1a5809/connections-sports-edition-6832.jpg?auto=webp&fit=crop&height=675&width=1200</td><td>Today's NYT Connections: Sports Edition Hints and Answers for Dec. 4, #72</td><td>https://www.cnet.com/tech/gaming/todays-nyt-connections-sports-edition-hints-and-answers-for-dec-4-72/</td><td>Here's today's Connections: Sports Edition answer and hints for groups. These clues will help you solve The New York Times' popular puzzle game, Connections: Sports Edition, every day.</td><td>sports</td></tr><tr><td>SU606820</td><td>https://www.cnet.com/a/img/resize/a51721727ac6b71b8d078d611ca37505b9006739/hub/2024/10/16/ae3b5078-3ced-47c9-91dd-6b5b1b1a5809/connections-sports-edition-6832.jpg?auto=webp&fit=crop&height=675&width=1200</td><td>Today's NYT Connections: Sports Edition Hints and Answers for Dec. 6, #74</td><td>https://www.cnet.com/tech/gaming/todays-nyt-connections-sports-edition-hints-and-answers-for-dec-6-74/</td><td>Here's today's Connections: Sports Edition answer and hints for groups. These clues will help you solve The New York Times' popular puzzle game, Connections: Sports Edition, every day.</td><td>sports</td></tr><tr><td>SU606820</td><td>https://www.cnet.com/a/img/resize/a51721727ac6b71b8d078d611ca37505b9006739/hub/2024/10/16/ae3b5078-3ced-47c9-91dd-6b5b1b1a5809/connections-sports-edition-6832.jpg?auto=webp&fit=crop&height=675&width=1200</td><td>Today's NYT Connections: Sports Edition Hints and Answers for Nov. 17, #55</td><td>https://www.cnet.com/tech/gaming/todays-nyt-connections-sports-edition-hints-and-answers-for-nov-17-55/</td><td>Here's today's Connections: Sports Edition answer and hints for groups. These clues will help you solve The New York Times' popular puzzle game, Connections: Sports Edition, every day.</td><td>sports</td></tr><tr><td>SU606820</td><td>https://www.cnet.com/a/img/resize/a51721727ac6b71b8d078d611ca37505b9006739/hub/2024/10/16/ae3b5078-3ced-47c9-91dd-6b5b1b1a5809/connections-sports-edition-6832.jpg?auto=webp&fit=crop&height=675&width=1200</td><td>Today's NYT Connections: Sports Edition Hints and Answers for Nov. 15, #53</td><td>https://www.cnet.com/tech/gaming/todays-nyt-connections-sports-edition-hints-and-answers-for-nov-15-53/</td><td>Here's today's Connections: Sports Edition answer and hints for groups. These clues will help you solve The New York Times' popular puzzle game, Connections: Sports Edition, every day.</td><td>sports</td></tr><tr><td>SU606820</td><td>https://www.cnet.com/a/img/resize/a51721727ac6b71b8d078d611ca37505b9006739/hub/2024/10/16/ae3b5078-3ced-47c9-91dd-6b5b1b1a5809/connections-sports-edition-6832.jpg?auto=webp&fit=crop&height=675&width=1200</td><td>Today's NYT Connections: Sports Edition Hints and Answers for Nov. 25, #63</td><td>https://www.cnet.com/tech/gaming/todays-nyt-connections-sports-edition-hints-and-answers-for-nov-25-63/</td><td>Here's today's Connections: Sports Edition answer and hints for groups. These clues will help you solve The New York Times' popular puzzle game, Connections: Sports Edition, every day.</td><td>sports</td></tr><tr><td>SU606820</td><td>https://www.cnet.com/a/img/resize/a51721727ac6b71b8d078d611ca37505b9006739/hub/2024/10/16/ae3b5078-3ced-47c9-91dd-6b5b1b1a5809/connections-sports-edition-6832.jpg?auto=webp&fit=crop&height=675&width=1200</td><td>Today's NYT Connections: Sports Edition Hints and Answers for Nov. 30, #68</td><td>https://www.cnet.com/tech/gaming/todays-nyt-connections-sports-edition-hints-and-answers-for-nov-30-68/</td><td>Here's today's Connections: Sports Edition answer and hints for groups. These clues will help you solve The New York Times' popular puzzle game, Connections: Sports Edition, every day.</td><td>sports</td></tr><tr><td>SU606820</td><td>https://www.cnet.com/a/img/resize/a51721727ac6b71b8d078d611ca37505b9006739/hub/2024/10/16/ae3b5078-3ced-47c9-91dd-6b5b1b1a5809/connections-sports-edition-6832.jpg?auto=webp&fit=crop&height=675&width=1200</td><td>Today's NYT Connections: Sports Edition Hints and Answers for Nov. 24, #62</td><td>https://www.cnet.com/tech/gaming/todays-nyt-connections-sports-edition-hints-and-answers-for-nov-24-62/</td><td>Here's today's Connections: Sports Edition answer and hints for groups. These clues will help you solve The New York Times' popular puzzle game, Connections: Sports Edition, every day.</td><td>sports</td></tr><tr><td>SU606820</td><td>https://www.cnet.com/a/img/resize/a51721727ac6b71b8d078d611ca37505b9006739/hub/2024/10/16/ae3b5078-3ced-47c9-91dd-6b5b1b1a5809/connections-sports-edition-6832.jpg?auto=webp&fit=crop&height=675&width=1200</td><td>Today's NYT Connections: Sports Edition Hints and Answers for Nov. 26, #64</td><td>https://www.cnet.com/tech/gaming/todays-nyt-connections-sports-edition-hints-and-answers-for-nov-26-64/</td><td>Here's today's Connections: Sports Edition answer and hints for groups. These clues will help you solve The New York Times' popular puzzle game, Connections: Sports Edition, every day.</td><td>sports</td></tr><tr><td>SU606820</td><td>https://www.cnet.com/a/img/resize/a51721727ac6b71b8d078d611ca37505b9006739/hub/2024/10/16/ae3b5078-3ced-47c9-91dd-6b5b1b1a5809/connections-sports-edition-6832.jpg?auto=webp&fit=crop&height=675&width=1200</td><td>Today's NYT Connections: Sports Edition Hints and Answers for Nov. 20, #58</td><td>https://www.cnet.com/tech/gaming/todays-nyt-connections-sports-edition-hints-and-answers-for-nov-20-58/</td><td>Here's today's Connections: Sports Edition answer and hints for groups. These clues will help you solve The New York Times' popular puzzle game, Connections: Sports Edition, every day.</td><td>sports</td></tr><tr><td>SU606820</td><td>https://www.cnet.com/a/img/resize/a51721727ac6b71b8d078d611ca37505b9006739/hub/2024/10/16/ae3b5078-3ced-47c9-91dd-6b5b1b1a5809/connections-sports-edition-6832.jpg?auto=webp&fit=crop&height=675&width=1200</td><td>Today's NYT Connections: Sports Edition Hints and Answers for Nov. 28, #66</td><td>https://www.cnet.com/tech/gaming/todays-nyt-connections-sports-edition-hints-and-answers-for-nov-28-66/</td><td>Here's today's Connections: Sports Edition answer and hints for groups. These clues will help you solve The New York Times' popular puzzle game, Connections: Sports Edition, every day.</td><td>sports</td></tr><tr><td>SU606820</td><td>https://www.cnet.com/a/img/resize/a51721727ac6b71b8d078d611ca37505b9006739/hub/2024/10/16/ae3b5078-3ced-47c9-91dd-6b5b1b1a5809/connections-sports-edition-6832.jpg?auto=webp&fit=crop&height=675&width=1200</td><td>Today's NYT Connections: Sports Edition Hints and Answers for Nov. 13, #51</td><td>https://www.cnet.com/tech/gaming/todays-nyt-connections-sports-edition-hints-and-answers-for-nov-13-51/</td><td>Here's today's Connections: Sports Edition answer and hints for groups. These clues will help you solve The New York Times' popular puzzle game, Connections: Sports Edition, every day.</td><td>sports</td></tr><tr><td>SU606820</td><td>https://www.cnet.com/a/img/resize/a51721727ac6b71b8d078d611ca37505b9006739/hub/2024/10/16/ae3b5078-3ced-47c9-91dd-6b5b1b1a5809/connections-sports-edition-6832.jpg?auto=webp&fit=crop&height=675&width=1200</td><td>Today's NYT Connections: Sports Edition Hints and Answers for Nov. 29, #67</td><td>https://www.cnet.com/tech/gaming/todays-nyt-connections-sports-edition-hints-and-answers-for-nov-29-67/</td><td>Here's today's Connections: Sports Edition answer and hints for groups. These clues will help you solve The New York Times' popular puzzle game, Connections: Sports Edition, every day.</td><td>sports</td></tr><tr><td>SU606820</td><td>https://www.cnet.com/a/img/resize/a51721727ac6b71b8d078d611ca37505b9006739/hub/2024/10/16/ae3b5078-3ced-47c9-91dd-6b5b1b1a5809/connections-sports-edition-6832.jpg?auto=webp&fit=crop&height=675&width=1200</td><td>Today's NYT Connections: Sports Edition Hints and Answers for Nov. 14, #52</td><td>https://www.cnet.com/tech/gaming/todays-nyt-connections-sports-edition-hints-and-answers-for-nov-14-52/</td><td>Here's today's Connections: Sports Edition answer and hints for groups. These clues will help you solve The New York Times' popular puzzle game, Connections: Sports Edition, every day.</td><td>sports</td></tr><tr><td>SU606820</td><td>https://gizmodo.com/app/uploads/2024/09/airtags-apple.jpg</td><td>Amazon Is Clearing Out AirTags This Cyber Monday, Now at a Record Low Price Until They Sell Out</td><td>https://gizmodo.com/amazon-is-clearing-out-airtags-this-cyber-monday-now-at-a-record-low-price-until-they-sell-out-2000532478</td><td>AirTags are the perfect gift for the holiday season.</td><td>technology</td></tr><tr><td>SU606820</td><td>https://cdn.vox-cdn.com/thumbor/YavtHu47GBXbFJeKLrxkZwo474E=/0x0:2040x1360/1200x628/filters:focal(1020x680:1021x681)/cdn.vox-cdn.com/uploads/chorus_asset/file/24774110/STK156_Instagram_threads_1.jpg</td><td>Threads’ custom feeds are already rolling out</td><td>https://www.theverge.com/2024/11/20/24301587/threads-custom-feeds-rolling-out</td><td>Just five days after Meta started testing custom feeds in Threads, the company is already rolling them out to everyone. Bluesky also has custom feeds.</td><td>technology</td></tr><tr><td>SU606820</td><td>https://ichef.bbci.co.uk/news/1024/branded_sport/28dd/live/9e6ed110-b0b0-11ef-8403-a73d519cc056.png</td><td>Sports Personality shortlist announced on Monday</td><td>https://www.bbc.com/sport/articles/c5ydl28lee1o</td><td>The contenders for the 2024 BBC Sports Personality of the Year award will be announced on Monday.</td><td>sports</td></tr><tr><td>SU606820</td><td>https://images.macrumors.com/t/KecnknybEVYQAn1VyV4jgWWR9Rg=/2500x/article-new/2024/06/visionOS-2-on-Apple-Vision-Pro-Feature.jpg</td><td>visionOS 2.2 Adds Support for Watching Five Sports Games at Once With Multiview</td><td>https://www.macrumors.com/2024/12/05/visionos-2-2-multiview-support/</td><td>With the visionOS 2.2 update that's set to come out next week, Apple is introducing the promised Multiview feature that will let sports fans watch up to five games at once.\n",
       "\n",
       "\n",
       "\n",
       "\n",
       "\n",
       "The Multiview feature for the Vision Pro works with MLS and MLB games, but other …</td><td>sports</td></tr><tr><td>SU606820</td><td>https://images.macrumors.com/t/gSfA9gdPJTtAYv_7hjK9YByevcM=/2500x/article-new/2024/07/Safari-Technology-Preview-Updated-Feature-1.jpg</td><td>Apple Releases Safari Technology Preview 208 With Bug Fixes and Performance Improvements</td><td>https://www.macrumors.com/2024/11/21/apple-releases-safari-technology-preview-208/</td><td>Apple today released a new update for Safari Technology Preview, the experimental browser that was first introduced in March 2016. Apple designed ‌Safari Technology Preview‌ to allow users to test features that are planned for future release versions of the S…</td><td>technology</td></tr><tr><td>SU606820</td><td>https://ichef.bbci.co.uk/news/1024/branded_news/c449/live/45b11db0-ab30-11ef-8d14-b38ce06af7f3.jpg</td><td>New cash for job centres in plan to boost workforce</td><td>https://www.bbc.com/news/articles/cqxwv3n87g4o</td><td>The government reveals a £240m investment plan to increase the number of people working in Britain.</td><td>health</td></tr><tr><td>SU606820</td><td>https://gizmodo.com/app/uploads/2024/12/The-Enron-sign.jpg</td><td>Is Enron Coming Back as a Crypto Company?</td><td>https://gizmodo.com/is-enron-coming-back-as-a-crypto-company-2000533233</td><td>The scandal ridden company is said to be mounting a comeback, but evidence points in the direction of a large practical joke.</td><td>technology</td></tr><tr><td>SU606820</td><td>https://gizmodo.com/app/uploads/2024/12/The-Enron-sign.jpg</td><td>Is Enron Coming Back as a Crypto Company?</td><td>https://gizmodo.com/is-enron-coming-back-as-a-crypto-company-2000533233</td><td>The scandal ridden company is said to be mounting a comeback, but evidence points in the direction of a large practical joke.</td><td>entertainment</td></tr><tr><td>SU606820</td><td>https://cdn.vox-cdn.com/thumbor/etyf6_gaUPmtbLsBh7itwYBd39E=/0x0:2040x1360/1200x628/filters:focal(1020x680:1021x681)/cdn.vox-cdn.com/uploads/chorus_asset/file/25728924/STK133_BLUESKY__B.jpg</td><td>Bluesky has been acting up today</td><td>https://www.theverge.com/2024/11/14/24296537/bluesky-acting-up-outage-down</td><td>Bluesky is growing quickly in popularity, but if you’re trying to use it today, the site might be acting up. For a little while, my feeds and notifications were very slow to load on the web and mobile while logged in.</td><td>technology</td></tr><tr><td>SU606820</td><td>null</td><td>Luxury sports car splits in half during deadly collision in Texas, killing its 2 occupants</td><td>https://consent.yahoo.com/v2/collectConsent?sessionId=1_cc-session_e76614a8-9fc9-49c1-9d04-2ddb0a3db31b</td><td></td><td>sports</td></tr><tr><td>SU606820</td><td>https://www.cnet.com/a/img/resize/534e96a76cc95ffb8bf0a8f1dc59b9595df1b150/hub/2024/12/04/bb03defb-1804-4f01-9d62-d0f0d96fb5ae/gettyimages-2168981593.jpg?auto=webp&fit=crop&height=675&width=1200</td><td>Premier League Soccer: Livestream Aston Villa vs. Brentford From Anywhere</td><td>https://www.cnet.com/tech/services-and-software/premier-league-soccer-livestream-aston-villa-vs-brentford-from-anywhere/</td><td>The Bees look to push further up the table against the out-of-form Villains.</td><td>sports</td></tr><tr><td>SU606820</td><td>https://www.cnet.com/a/img/resize/947139a0cde855ff52a4d83c3263e7bf8ca0c451/hub/2024/11/13/b855031a-670e-45f8-ac94-4c71951764db/tyson-vs-paul-netflix-2.jpg?auto=webp&fit=crop&height=675&width=1200</td><td>When to Stream the Mike Tyson vs. Jake Paul Boxing Match on Netflix</td><td>https://www.cnet.com/tech/services-and-software/when-to-stream-the-mike-tyson-vs-jake-paul-boxing-match-on-netflix/</td><td>The sports event will air live on the streaming service, and you can watch the weigh-in tonight.</td><td>sports</td></tr><tr><td>SU606820</td><td>https://ichef.bbci.co.uk/news/1024/branded_sport/2db8/live/a5b50f80-b163-11ef-a0f2-fd81ae5962f4.jpg</td><td>In Pictures: Sporting photos of the week</td><td>https://www.bbc.com/sport/articles/cgm97pwx9l7o</td><td>A selection of some of the most striking sports photographs taken around the world over the past seven days.</td><td>sports</td></tr><tr><td>SU606820</td><td>https://www.journaldugeek.com/app/uploads/2024/11/Home-Sports.jpg</td><td>Home Sports : Meta présente son Wii Sports en réalité mixte</td><td>https://www.journaldugeek.com/2024/11/26/home-sports-meta-presente-wii-sports-realite-mixte/</td><td>Les Meta Quest 3 et 3S vont accueillir un jeu en réalité mixte nommé Home Sports. Le titre développé par Resolution Games s'inspire de l'illustre Wii Sports.</td><td>sports</td></tr><tr><td>SU606820</td><td>https://i.insider.com/675328938fb3f94e5073e40b?width=1200&format=jpeg</td><td>Retailers are saying shoppers are 'pressured,' 'stretched,' and 'cautious' — but still spending</td><td>https://www.businessinsider.com/shoppers-pressured-stretched-and-cautious-but-still-spending-2024-12</td><td>Walmart, Target, and more have used similar descriptions of US consumer health right now, while also noting that sales continue to beat expectations.</td><td>health</td></tr><tr><td>SU606820</td><td>https://i.abcnewsfe.com/a/d944e838-b9a5-4e47-aa03-ec6bd5e692e4/linda-mcmahon-gty-jef-241120_1732130473470_hpMain_16x9.jpg?w=1600</td><td>Linda McMahon's professional qualifications as Trump's choice for Dept. of Education</td><td>https://abcnews.go.com/Politics/linda-mcmahons-background-trumps-pick-education-secretary/story?id=116058197</td><td>Linda McMahon's background -- in both education and as a co-founder of sports entertainment company World Wrestling Entertainment, Inc. -- has come under scrutiny.</td><td>entertainment</td></tr><tr><td>SU606820</td><td>https://i.abcnewsfe.com/a/d944e838-b9a5-4e47-aa03-ec6bd5e692e4/linda-mcmahon-gty-jef-241120_1732130473470_hpMain_16x9.jpg?w=1600</td><td>Linda McMahon's professional qualifications as Trump's choice for Dept. of Education</td><td>https://abcnews.go.com/Politics/linda-mcmahons-background-trumps-pick-education-secretary/story?id=116058197</td><td>Linda McMahon's background -- in both education and as a co-founder of sports entertainment company World Wrestling Entertainment, Inc. -- has come under scrutiny.</td><td>sports</td></tr><tr><td>SU606820</td><td>https://npr.brightspotcdn.com/dims3/default/strip/false/crop/7792x4383+0+416/resize/1400/quality/100/format/jpeg/?url=http%3A%2F%2Fnpr-brightspot.s3.amazonaws.com%2Fd0%2F97%2Fff24f3f043c2b15963c6f7ce2b3f%2Fap24340755092282.jpg</td><td>Police are still looking for the suspect in the shooting of the UnitedHealthcare CEO</td><td>https://www.npr.org/2024/12/06/nx-s1-5219927/unitedhealthcare-ceo-shooting-new-york</td><td>The manhunt for the person who fatally shot the head of one of the country's largest health insurers in New York City entered its third day Friday as police parsed newly discovered clues.</td><td>health</td></tr><tr><td>SU606820</td><td>https://i.insider.com/67357889fa0140cdd56343c2?width=1200&format=jpeg</td><td>Saudi Arabia is trying to build a mega-city in the desert. Now, Neom is dialing back plans for its first stage.</td><td>https://www.businessinsider.com/neom-refocuses-sports-athletics-world-cup-construction-slow-costly-ceo-2024-11</td><td>The authoritarian country is spending billions on international athletics, from Formula 1 to combat sports, to boost its bottom line and image.</td><td>sports</td></tr><tr><td>SU606820</td><td>https://venturebeat.com/wp-content/uploads/2024/11/fifa-rivals.jpg?w=1024?w=1200&strip=all</td><td>Mythical Games teams with FIFA to make Web3 mobile soccer game FIFA Rivals</td><td>https://venturebeat.com/games/mythical-games-teams-with-fifa-to-make-web3-mobile-soccer-game-fifa-rivals/</td><td>FIFA and game maker Mythical Games are teaming up on FIFA Rivals, a Web3 mobile game that is licensed from the global sports group.</td><td>sports</td></tr><tr><td>SU606820</td><td>https://ichef.bbci.co.uk/news/1024/branded_news/3e69/live/2cef6190-ad71-11ef-967f-cbb1965d6a73.jpg</td><td>Angry doctors owed thousands refuse to work</td><td>https://www.bbc.com/news/articles/cz6jy7d0wjzo</td><td>There are concerns about staffing and supply shortages at GP surgeries linked to a management company.</td><td>health</td></tr><tr><td>SU606820</td><td>https://www.cnet.com/a/img/resize/6e6108d88bd42f960c7c826d6acab661b3bdc551/hub/2024/11/22/11bb6017-b4f7-42f2-baad-8697a497ced0/gettyimages-2184772553.jpg?auto=webp&fit=crop&height=675&width=1200</td><td>Premier League Soccer: Livestream Ipswich vs. Man United From Anywhere</td><td>https://www.cnet.com/tech/services-and-software/premier-league-soccer-livestream-ipswich-vs-man-united-from-anywhere/</td><td>It's Ruben Amorim's first game in charge of the Red Devils.</td><td>sports</td></tr><tr><td>SU606820</td><td>https://media.wired.com/photos/67069550cb5bb55be44eb19e/191:100/w_1280,c_limit/100924_Stem%20Cell%20Harvesting-1.jpg</td><td>Bone Marrow Donors Can Be Hard to Find. One Company Is Turning to Cadavers</td><td>https://www.wired.com/story/stem-cell-donation-deceased-ossium-bone-marrow-cancer-leukemia/</td><td>San Francisco–based Ossium Health has carried out three transplants for cancer patients using stem cells from deceased donors’ blood marrow in recent months.</td><td>health</td></tr><tr><td>PA285472</td><td></td><td>Why Soccer Players Are Training in the Dark</td><td>https://www.wired.com/story/why-soccer-players-are-training-in-the-dark-okkolo-football-sunderland-leeds-united-neuroscience/</td><td>Sports science company Okkulo has shown that its specially lit training environment can improve players’ visual-motor skills—and a growing number of sports are starting to test it out.</td><td>sports</td></tr><tr><td>PA285472</td><td></td><td>Why Soccer Players Are Training in the Dark</td><td>https://www.wired.com/story/why-soccer-players-are-training-in-the-dark-okkolo-football-sunderland-leeds-united-neuroscience/</td><td>Sports science company Okkulo has shown that its specially lit training environment can improve players’ visual-motor skills—and a growing number of sports are starting to test it out.</td><td>technology</td></tr><tr><td>PA285472</td><td>https://a1.espncdn.com/combiner/i?img=%2Fphoto%2F2018%2F1023%2Fr451750_640x360_16%2D9.jpg</td><td>FanDuel, MLBPA settle player likenesses lawsuit</td><td>https://www.espn.com/mlb/story/_/id/42409158/fanduel-settles-mlb-lawsuit-use-player-likenesses</td><td>Major League Baseball's players union settled a lawsuit that accused sports betting giant FanDuel of using the names and likenesses of hundreds of MLB players on its betting platform without permission.</td><td>sports</td></tr><tr><td>PA285472</td><td>https://venturebeat.com/wp-content/uploads/2024/11/Ascend-23-Loupe.png?w=1024?w=1200&strip=all</td><td>Live commerce is the new sports bar: Loupe is the preferred late-night hangout for sports fans and collectors</td><td>https://venturebeat.com/business/live-commerce-is-the-new-sports-bar-loupe-is-the-preferred-late-night-hangout-for-sports-fans-and-collectors/</td><td>CONTRIBUTOR CONTENT: Live commerce and the sports collectibles industries are both booming. There’s one place that sports fans are all going after work and no, it’s not the nearest sports bar. At night, fans are flocking to Loupe, where they can extend the ga…</td><td>sports</td></tr><tr><td>PA285472</td><td>https://content.artofmanliness.com/uploads/2024/11/gamble.jpg</td><td>Podcast #1,044: What Sports Betting Is Really Doing to Players, Games, and Fans</td><td>https://www.artofmanliness.com/character/behavior/podcast-1044-what-sports-betting-is-really-doing-to-players-games-and-fans/</td><td>Sports gambling has exploded in America. You can’t watch a game today without being bombarded by ads from betting companies, often co-branded with the major sports leagues themselves. It’s a dramatic shift from just seven years ago, when these same leagues we…</td><td>sports</td></tr><tr><td>PA285472</td><td>https://gizmodo.com/app/uploads/2024/12/J-Studios.jpg</td><td>Landlords Are Using AI to Raise Rents—and Cities Are Starting to Push Back</td><td>https://gizmodo.com/landlords-are-using-ai-to-raise-rents-and-cities-are-starting-to-push-back-2000535519</td><td>AI is a plaque upon housing in America.</td><td>technology</td></tr><tr><td>PA285472</td><td>https://gizmodo.com/app/uploads/2024/12/OpenAI-CEO-Sam-Altman-on-Fox-News.jpg</td><td>OpenAI Continues Its Mission of ‘Ethical’ AI by Partnering With a Killer Robot Company</td><td>https://gizmodo.com/openai-continues-its-mission-of-ethical-ai-by-partnering-with-a-killer-robot-company-2000534515</td><td>It's a weird look for a company that has claimed that it wants to make AI \"safe for everyone.\"</td><td>technology</td></tr><tr><td>PA285472</td><td>null</td><td>Meta wants its Llama AI in Britain’s public healthcare system</td><td>https://consent.yahoo.com/v2/collectConsent?sessionId=1_cc-session_b19bd6f4-2654-465b-abec-7e69582cd26b</td><td>Meta is making a pitch to get its AI into the UK’s public health system. The Guardian reported on Tuesday that the company held a hackathon in Europe, tasking over 200 developers to use its Llama AI to improve the country’s health services. The company awarde…</td><td>health</td></tr><tr><td>PA285472</td><td>https://static1.anpoimages.com/wordpress/wp-content/uploads/wm/2024/02/img_1576.jpg</td><td>ESPN brings sports to Disney Plus, completing the bundle with Hulu</td><td>https://www.androidpolice.com/you-can-now-access-espn-content-from-disney-app/</td><td>Now Disney+ has something for sports fans once the kids are asleep</td><td>sports</td></tr><tr><td>PA285472</td><td>https://ichef.bbci.co.uk/news/1024/branded_news/ba3b/live/a86ea4d0-b743-11ef-b631-b5f63aa48be1.jpg</td><td>Increased vet burden creates animal welfare concerns</td><td>https://www.bbc.com/news/articles/c1d34ezvxp2o</td><td>While the number of vets in Wales has increased, the number of pets has at a far higher pace.</td><td>health</td></tr><tr><td>PA285472</td><td>https://ichef.bbci.co.uk/news/1024/branded_news/33d2/live/c76fa200-a1b1-11ef-897a-cfb3ce396193.jpg</td><td>One in three T-level students drop out of health course</td><td>https://www.bbc.com/news/articles/cy4g04j1l9xo</td><td>Many health and science T-level students dropped out after an exam board sent out botched exam papers in 2022.</td><td>health</td></tr><tr><td>PA285472</td><td>https://i.insider.com/673e2500192f525898599dfd?width=1200&format=jpeg</td><td>A FIRE blogger decided to test the benefits of the popular triple-tax advantaged HSA. He explains why it wasn't worth the hassle and wants to switch health insurance plans in 2025.</td><td>https://www.businessinsider.com/financial-independence-blogger-switched-to-hdhp-hsa-health-insurance-plan-2024-11</td><td>Andre Nader switched from an EPO health insurance plan to an HDHP to take advantage of an HSA. Despite the tax benefits, it wasn't worth it for him.</td><td>health</td></tr><tr><td>PA285472</td><td>https://a1.espncdn.com/combiner/i?img=%2Fphoto%2F2024%2F1117%2Fr1415930_1296x729_16%2D9.jpg</td><td>'Inside the NBA' moving to ESPN, ABC next season</td><td>https://www.espn.com/nba/story/_/id/42464696/inside-nba-appear-espn-abc-next-season</td><td>\"Inside the NBA,\" which has won 21 Sports Emmy Awards, will appear on ESPN and ABC starting next season through a partnership with TNT Sports and the NBA.</td><td>sports</td></tr><tr><td>PA285472</td><td>https://ichef.bbci.co.uk/news/1024/branded_news/4a6e/live/9fe2dfe0-a10c-11ef-9d70-9564a3cc52f2.jpg</td><td>Number of homeless people in Wales at record high</td><td>https://www.bbc.com/news/articles/cm27e2gn515o</td><td>Charmaine, 38, has been waiting to move for two years and it is affecting her mental health.</td><td>health</td></tr><tr><td>PA285472</td><td>https://i.insider.com/674113b1ede4eeae39292e6b?width=1200&format=jpeg</td><td>Are seed oils toxic? It's complicated — here's what you need to know about the war over dietary fats</td><td>https://www.businessinsider.com/are-seed-oils-dangerous-for-your-health-inflammation-evidence-2024-11</td><td>Some health influencers say golden-hued vegetable oils like canola are bad for you. It's complicated. Here's the science.</td><td>health</td></tr><tr><td>PA285472</td><td>https://cdn.vox-cdn.com/thumbor/E2RoDalncTnPdUrncx4kP01lnYw=/0x0:1440x810/1200x628/filters:focal(720x405:721x406)/cdn.vox-cdn.com/uploads/chorus_asset/file/25756939/Home_Sports.jpg</td><td>Meta’s mixed-reality attempt at a Wii Sports knockoff is coming</td><td>https://www.theverge.com/2024/11/25/24305847/meta-quest-home-sports-vr-mr-tennis-bowling-hockey-game</td><td>Home Sports is a cartoonish collection of games like bowling, badminton, and mini-golf, that can be played on Meta’s Quest 3 and 3S headsets.</td><td>sports</td></tr><tr><td>PA285472</td><td>https://cdn.vox-cdn.com/thumbor/E2RoDalncTnPdUrncx4kP01lnYw=/0x0:1440x810/1200x628/filters:focal(720x405:721x406)/cdn.vox-cdn.com/uploads/chorus_asset/file/25756939/Home_Sports.jpg</td><td>Meta’s mixed-reality attempt at a Wii Sports knockoff is coming</td><td>https://www.theverge.com/2024/11/25/24305847/meta-quest-home-sports-vr-mr-tennis-bowling-hockey-game</td><td>Home Sports is a cartoonish collection of games like bowling, badminton, and mini-golf, that can be played on Meta’s Quest 3 and 3S headsets.</td><td>entertainment</td></tr><tr><td>PA285472</td><td>https://gizmodo.com/app/uploads/2024/11/Wegovy-1.jpg</td><td>A Staggering Number of U.S. Adults Are Eligible for Ozempic, Study Finds</td><td>https://gizmodo.com/a-staggering-number-of-u-s-adults-are-eligible-for-ozempic-study-finds-2000526418</td><td>A groundbreaking Harvard study reveals that semaglutide could benefit more people in the U.S. than ever imagined.</td><td>health</td></tr><tr><td>PA285472</td><td>https://seths.blog/wp-content/uploads/2018/06/seth_godin_ogimages_v02_18061316.jpg</td><td>When the media is ready (Bongo part 2)</td><td>https://seths.blog/2024/11/when-the-media-is-ready-bongo-part-2/</td><td>Media isn’t a magazine or a website. It’s a system. We can learn to see the system and contribute to it with leverage. There are three elements to consider in a media system that’s worth a professional creator’s time: Systems are changed by technology. When d…</td><td>technology</td></tr><tr><td>PA285472</td><td>https://ichef.bbci.co.uk/news/1024/branded_news/cd4e/live/e10b0380-b1bf-11ef-8613-eb846c2a010c.jpg</td><td>Hospice leaders warn hundreds of beds out of use</td><td>https://www.bbc.com/news/articles/clykz68zexpo</td><td>A lack of funding and staff are blamed as hospices close beds permanently or take them out of use.</td><td>health</td></tr><tr><td>PA285472</td><td>https://content.artofmanliness.com/uploads/2024/11/run-thumb-2.jpg</td><td>Podcast #1,040: Tribal Runners, Weekend Warriors, and Our Changing Relationship to Endurance Sports</td><td>https://www.artofmanliness.com/health-fitness/fitness/podcast-1040-tribal-runners-weekend-warriors-and-our-changing-relationship-to-endurance-sports/</td><td>Endurance activities, like distance running, have existed since ancient times. But humans’ relationship to those pursuits has changed, according to time and place. In the West, we’ve currently turned endurance sports into a science — tracking every metric and…</td><td>sports</td></tr><tr><td>PA285472</td><td>https://gizmodo.com/app/uploads/2024/11/wallace-and-gromit-vengeance-most-fowl-set-visit-interview-aardman.jpg</td><td>How Aardman Mixed Past and Future in Its Return to Wallace and Gromit</td><td>https://gizmodo.com/wallace-and-gromit-vengeance-most-fowl-netflix-set-visit-nick-park-merlin-crossingham-2000527162</td><td>Ahead of its release on Netflix January 3, io9 visited the set of Vengeance Most Fowl to see why now is Aardman's time to return to Wallace and Gromit.</td><td>technology</td></tr><tr><td>PA285472</td><td>https://www.cnet.com/a/img/resize/a51721727ac6b71b8d078d611ca37505b9006739/hub/2024/10/16/ae3b5078-3ced-47c9-91dd-6b5b1b1a5809/connections-sports-edition-6832.jpg?auto=webp&fit=crop&height=675&width=1200</td><td>Today's NYT Connections: Sports Edition Hints and Answers for Dec. 3, #71</td><td>https://www.cnet.com/tech/gaming/todays-nyt-connections-sports-edition-hints-and-answers-for-dec-3-71/</td><td>Here's today's Connections: Sports Edition answer and hints for groups. These clues will help you solve The New York Times' popular puzzle game, Connections: Sports Edition, every day.</td><td>sports</td></tr><tr><td>PA285472</td><td>https://www.cnet.com/a/img/resize/a51721727ac6b71b8d078d611ca37505b9006739/hub/2024/10/16/ae3b5078-3ced-47c9-91dd-6b5b1b1a5809/connections-sports-edition-6832.jpg?auto=webp&fit=crop&height=675&width=1200</td><td>Today's NYT Connections: Sports Edition Hints and Answers for Dec. 5, #73</td><td>https://www.cnet.com/tech/gaming/todays-nyt-connections-sports-edition-hints-and-answers-for-dec-5-73/</td><td>Here's today's Connections: Sports Edition answer and hints for groups. These clues will help you solve The New York Times' popular puzzle game, Connections: Sports Edition, every day.</td><td>sports</td></tr><tr><td>PA285472</td><td>https://www.cnet.com/a/img/resize/a51721727ac6b71b8d078d611ca37505b9006739/hub/2024/10/16/ae3b5078-3ced-47c9-91dd-6b5b1b1a5809/connections-sports-edition-6832.jpg?auto=webp&fit=crop&height=675&width=1200</td><td>Today's NYT Connections: Sports Edition Hints and Answers for Dec. 4, #72</td><td>https://www.cnet.com/tech/gaming/todays-nyt-connections-sports-edition-hints-and-answers-for-dec-4-72/</td><td>Here's today's Connections: Sports Edition answer and hints for groups. These clues will help you solve The New York Times' popular puzzle game, Connections: Sports Edition, every day.</td><td>sports</td></tr><tr><td>PA285472</td><td>https://www.cnet.com/a/img/resize/a51721727ac6b71b8d078d611ca37505b9006739/hub/2024/10/16/ae3b5078-3ced-47c9-91dd-6b5b1b1a5809/connections-sports-edition-6832.jpg?auto=webp&fit=crop&height=675&width=1200</td><td>Today's NYT Connections: Sports Edition Hints and Answers for Dec. 6, #74</td><td>https://www.cnet.com/tech/gaming/todays-nyt-connections-sports-edition-hints-and-answers-for-dec-6-74/</td><td>Here's today's Connections: Sports Edition answer and hints for groups. These clues will help you solve The New York Times' popular puzzle game, Connections: Sports Edition, every day.</td><td>sports</td></tr><tr><td>PA285472</td><td>https://www.cnet.com/a/img/resize/a51721727ac6b71b8d078d611ca37505b9006739/hub/2024/10/16/ae3b5078-3ced-47c9-91dd-6b5b1b1a5809/connections-sports-edition-6832.jpg?auto=webp&fit=crop&height=675&width=1200</td><td>Today's NYT Connections: Sports Edition Hints and Answers for Nov. 17, #55</td><td>https://www.cnet.com/tech/gaming/todays-nyt-connections-sports-edition-hints-and-answers-for-nov-17-55/</td><td>Here's today's Connections: Sports Edition answer and hints for groups. These clues will help you solve The New York Times' popular puzzle game, Connections: Sports Edition, every day.</td><td>sports</td></tr><tr><td>PA285472</td><td>https://www.cnet.com/a/img/resize/a51721727ac6b71b8d078d611ca37505b9006739/hub/2024/10/16/ae3b5078-3ced-47c9-91dd-6b5b1b1a5809/connections-sports-edition-6832.jpg?auto=webp&fit=crop&height=675&width=1200</td><td>Today's NYT Connections: Sports Edition Hints and Answers for Nov. 15, #53</td><td>https://www.cnet.com/tech/gaming/todays-nyt-connections-sports-edition-hints-and-answers-for-nov-15-53/</td><td>Here's today's Connections: Sports Edition answer and hints for groups. These clues will help you solve The New York Times' popular puzzle game, Connections: Sports Edition, every day.</td><td>sports</td></tr><tr><td>PA285472</td><td>https://www.cnet.com/a/img/resize/a51721727ac6b71b8d078d611ca37505b9006739/hub/2024/10/16/ae3b5078-3ced-47c9-91dd-6b5b1b1a5809/connections-sports-edition-6832.jpg?auto=webp&fit=crop&height=675&width=1200</td><td>Today's NYT Connections: Sports Edition Hints and Answers for Nov. 25, #63</td><td>https://www.cnet.com/tech/gaming/todays-nyt-connections-sports-edition-hints-and-answers-for-nov-25-63/</td><td>Here's today's Connections: Sports Edition answer and hints for groups. These clues will help you solve The New York Times' popular puzzle game, Connections: Sports Edition, every day.</td><td>sports</td></tr><tr><td>PA285472</td><td>https://www.cnet.com/a/img/resize/a51721727ac6b71b8d078d611ca37505b9006739/hub/2024/10/16/ae3b5078-3ced-47c9-91dd-6b5b1b1a5809/connections-sports-edition-6832.jpg?auto=webp&fit=crop&height=675&width=1200</td><td>Today's NYT Connections: Sports Edition Hints and Answers for Nov. 30, #68</td><td>https://www.cnet.com/tech/gaming/todays-nyt-connections-sports-edition-hints-and-answers-for-nov-30-68/</td><td>Here's today's Connections: Sports Edition answer and hints for groups. These clues will help you solve The New York Times' popular puzzle game, Connections: Sports Edition, every day.</td><td>sports</td></tr><tr><td>PA285472</td><td>https://www.cnet.com/a/img/resize/a51721727ac6b71b8d078d611ca37505b9006739/hub/2024/10/16/ae3b5078-3ced-47c9-91dd-6b5b1b1a5809/connections-sports-edition-6832.jpg?auto=webp&fit=crop&height=675&width=1200</td><td>Today's NYT Connections: Sports Edition Hints and Answers for Nov. 24, #62</td><td>https://www.cnet.com/tech/gaming/todays-nyt-connections-sports-edition-hints-and-answers-for-nov-24-62/</td><td>Here's today's Connections: Sports Edition answer and hints for groups. These clues will help you solve The New York Times' popular puzzle game, Connections: Sports Edition, every day.</td><td>sports</td></tr><tr><td>PA285472</td><td>https://www.cnet.com/a/img/resize/a51721727ac6b71b8d078d611ca37505b9006739/hub/2024/10/16/ae3b5078-3ced-47c9-91dd-6b5b1b1a5809/connections-sports-edition-6832.jpg?auto=webp&fit=crop&height=675&width=1200</td><td>Today's NYT Connections: Sports Edition Hints and Answers for Nov. 26, #64</td><td>https://www.cnet.com/tech/gaming/todays-nyt-connections-sports-edition-hints-and-answers-for-nov-26-64/</td><td>Here's today's Connections: Sports Edition answer and hints for groups. These clues will help you solve The New York Times' popular puzzle game, Connections: Sports Edition, every day.</td><td>sports</td></tr><tr><td>PA285472</td><td>https://www.cnet.com/a/img/resize/a51721727ac6b71b8d078d611ca37505b9006739/hub/2024/10/16/ae3b5078-3ced-47c9-91dd-6b5b1b1a5809/connections-sports-edition-6832.jpg?auto=webp&fit=crop&height=675&width=1200</td><td>Today's NYT Connections: Sports Edition Hints and Answers for Nov. 20, #58</td><td>https://www.cnet.com/tech/gaming/todays-nyt-connections-sports-edition-hints-and-answers-for-nov-20-58/</td><td>Here's today's Connections: Sports Edition answer and hints for groups. These clues will help you solve The New York Times' popular puzzle game, Connections: Sports Edition, every day.</td><td>sports</td></tr><tr><td>PA285472</td><td>https://www.cnet.com/a/img/resize/a51721727ac6b71b8d078d611ca37505b9006739/hub/2024/10/16/ae3b5078-3ced-47c9-91dd-6b5b1b1a5809/connections-sports-edition-6832.jpg?auto=webp&fit=crop&height=675&width=1200</td><td>Today's NYT Connections: Sports Edition Hints and Answers for Nov. 28, #66</td><td>https://www.cnet.com/tech/gaming/todays-nyt-connections-sports-edition-hints-and-answers-for-nov-28-66/</td><td>Here's today's Connections: Sports Edition answer and hints for groups. These clues will help you solve The New York Times' popular puzzle game, Connections: Sports Edition, every day.</td><td>sports</td></tr><tr><td>PA285472</td><td>https://www.cnet.com/a/img/resize/a51721727ac6b71b8d078d611ca37505b9006739/hub/2024/10/16/ae3b5078-3ced-47c9-91dd-6b5b1b1a5809/connections-sports-edition-6832.jpg?auto=webp&fit=crop&height=675&width=1200</td><td>Today's NYT Connections: Sports Edition Hints and Answers for Nov. 13, #51</td><td>https://www.cnet.com/tech/gaming/todays-nyt-connections-sports-edition-hints-and-answers-for-nov-13-51/</td><td>Here's today's Connections: Sports Edition answer and hints for groups. These clues will help you solve The New York Times' popular puzzle game, Connections: Sports Edition, every day.</td><td>sports</td></tr><tr><td>PA285472</td><td>https://www.cnet.com/a/img/resize/a51721727ac6b71b8d078d611ca37505b9006739/hub/2024/10/16/ae3b5078-3ced-47c9-91dd-6b5b1b1a5809/connections-sports-edition-6832.jpg?auto=webp&fit=crop&height=675&width=1200</td><td>Today's NYT Connections: Sports Edition Hints and Answers for Nov. 29, #67</td><td>https://www.cnet.com/tech/gaming/todays-nyt-connections-sports-edition-hints-and-answers-for-nov-29-67/</td><td>Here's today's Connections: Sports Edition answer and hints for groups. These clues will help you solve The New York Times' popular puzzle game, Connections: Sports Edition, every day.</td><td>sports</td></tr><tr><td>PA285472</td><td>https://www.cnet.com/a/img/resize/a51721727ac6b71b8d078d611ca37505b9006739/hub/2024/10/16/ae3b5078-3ced-47c9-91dd-6b5b1b1a5809/connections-sports-edition-6832.jpg?auto=webp&fit=crop&height=675&width=1200</td><td>Today's NYT Connections: Sports Edition Hints and Answers for Nov. 14, #52</td><td>https://www.cnet.com/tech/gaming/todays-nyt-connections-sports-edition-hints-and-answers-for-nov-14-52/</td><td>Here's today's Connections: Sports Edition answer and hints for groups. These clues will help you solve The New York Times' popular puzzle game, Connections: Sports Edition, every day.</td><td>sports</td></tr><tr><td>PA285472</td><td>https://gizmodo.com/app/uploads/2024/09/airtags-apple.jpg</td><td>Amazon Is Clearing Out AirTags This Cyber Monday, Now at a Record Low Price Until They Sell Out</td><td>https://gizmodo.com/amazon-is-clearing-out-airtags-this-cyber-monday-now-at-a-record-low-price-until-they-sell-out-2000532478</td><td>AirTags are the perfect gift for the holiday season.</td><td>technology</td></tr><tr><td>PA285472</td><td>https://cdn.vox-cdn.com/thumbor/YavtHu47GBXbFJeKLrxkZwo474E=/0x0:2040x1360/1200x628/filters:focal(1020x680:1021x681)/cdn.vox-cdn.com/uploads/chorus_asset/file/24774110/STK156_Instagram_threads_1.jpg</td><td>Threads’ custom feeds are already rolling out</td><td>https://www.theverge.com/2024/11/20/24301587/threads-custom-feeds-rolling-out</td><td>Just five days after Meta started testing custom feeds in Threads, the company is already rolling them out to everyone. Bluesky also has custom feeds.</td><td>technology</td></tr><tr><td>PA285472</td><td>https://ichef.bbci.co.uk/news/1024/branded_sport/28dd/live/9e6ed110-b0b0-11ef-8403-a73d519cc056.png</td><td>Sports Personality shortlist announced on Monday</td><td>https://www.bbc.com/sport/articles/c5ydl28lee1o</td><td>The contenders for the 2024 BBC Sports Personality of the Year award will be announced on Monday.</td><td>sports</td></tr><tr><td>PA285472</td><td>https://images.macrumors.com/t/KecnknybEVYQAn1VyV4jgWWR9Rg=/2500x/article-new/2024/06/visionOS-2-on-Apple-Vision-Pro-Feature.jpg</td><td>visionOS 2.2 Adds Support for Watching Five Sports Games at Once With Multiview</td><td>https://www.macrumors.com/2024/12/05/visionos-2-2-multiview-support/</td><td>With the visionOS 2.2 update that's set to come out next week, Apple is introducing the promised Multiview feature that will let sports fans watch up to five games at once.\n",
       "\n",
       "\n",
       "\n",
       "\n",
       "\n",
       "The Multiview feature for the Vision Pro works with MLS and MLB games, but other …</td><td>sports</td></tr><tr><td>PA285472</td><td>https://images.macrumors.com/t/gSfA9gdPJTtAYv_7hjK9YByevcM=/2500x/article-new/2024/07/Safari-Technology-Preview-Updated-Feature-1.jpg</td><td>Apple Releases Safari Technology Preview 208 With Bug Fixes and Performance Improvements</td><td>https://www.macrumors.com/2024/11/21/apple-releases-safari-technology-preview-208/</td><td>Apple today released a new update for Safari Technology Preview, the experimental browser that was first introduced in March 2016. Apple designed ‌Safari Technology Preview‌ to allow users to test features that are planned for future release versions of the S…</td><td>technology</td></tr><tr><td>PA285472</td><td>https://ichef.bbci.co.uk/news/1024/branded_news/c449/live/45b11db0-ab30-11ef-8d14-b38ce06af7f3.jpg</td><td>New cash for job centres in plan to boost workforce</td><td>https://www.bbc.com/news/articles/cqxwv3n87g4o</td><td>The government reveals a £240m investment plan to increase the number of people working in Britain.</td><td>health</td></tr><tr><td>PA285472</td><td>https://gizmodo.com/app/uploads/2024/12/The-Enron-sign.jpg</td><td>Is Enron Coming Back as a Crypto Company?</td><td>https://gizmodo.com/is-enron-coming-back-as-a-crypto-company-2000533233</td><td>The scandal ridden company is said to be mounting a comeback, but evidence points in the direction of a large practical joke.</td><td>technology</td></tr><tr><td>PA285472</td><td>https://gizmodo.com/app/uploads/2024/12/The-Enron-sign.jpg</td><td>Is Enron Coming Back as a Crypto Company?</td><td>https://gizmodo.com/is-enron-coming-back-as-a-crypto-company-2000533233</td><td>The scandal ridden company is said to be mounting a comeback, but evidence points in the direction of a large practical joke.</td><td>entertainment</td></tr><tr><td>PA285472</td><td>https://cdn.vox-cdn.com/thumbor/etyf6_gaUPmtbLsBh7itwYBd39E=/0x0:2040x1360/1200x628/filters:focal(1020x680:1021x681)/cdn.vox-cdn.com/uploads/chorus_asset/file/25728924/STK133_BLUESKY__B.jpg</td><td>Bluesky has been acting up today</td><td>https://www.theverge.com/2024/11/14/24296537/bluesky-acting-up-outage-down</td><td>Bluesky is growing quickly in popularity, but if you’re trying to use it today, the site might be acting up. For a little while, my feeds and notifications were very slow to load on the web and mobile while logged in.</td><td>technology</td></tr><tr><td>PA285472</td><td>null</td><td>Luxury sports car splits in half during deadly collision in Texas, killing its 2 occupants</td><td>https://consent.yahoo.com/v2/collectConsent?sessionId=1_cc-session_e76614a8-9fc9-49c1-9d04-2ddb0a3db31b</td><td></td><td>sports</td></tr><tr><td>PA285472</td><td>https://www.cnet.com/a/img/resize/534e96a76cc95ffb8bf0a8f1dc59b9595df1b150/hub/2024/12/04/bb03defb-1804-4f01-9d62-d0f0d96fb5ae/gettyimages-2168981593.jpg?auto=webp&fit=crop&height=675&width=1200</td><td>Premier League Soccer: Livestream Aston Villa vs. Brentford From Anywhere</td><td>https://www.cnet.com/tech/services-and-software/premier-league-soccer-livestream-aston-villa-vs-brentford-from-anywhere/</td><td>The Bees look to push further up the table against the out-of-form Villains.</td><td>sports</td></tr><tr><td>PA285472</td><td>https://www.cnet.com/a/img/resize/947139a0cde855ff52a4d83c3263e7bf8ca0c451/hub/2024/11/13/b855031a-670e-45f8-ac94-4c71951764db/tyson-vs-paul-netflix-2.jpg?auto=webp&fit=crop&height=675&width=1200</td><td>When to Stream the Mike Tyson vs. Jake Paul Boxing Match on Netflix</td><td>https://www.cnet.com/tech/services-and-software/when-to-stream-the-mike-tyson-vs-jake-paul-boxing-match-on-netflix/</td><td>The sports event will air live on the streaming service, and you can watch the weigh-in tonight.</td><td>sports</td></tr><tr><td>PA285472</td><td>https://ichef.bbci.co.uk/news/1024/branded_sport/2db8/live/a5b50f80-b163-11ef-a0f2-fd81ae5962f4.jpg</td><td>In Pictures: Sporting photos of the week</td><td>https://www.bbc.com/sport/articles/cgm97pwx9l7o</td><td>A selection of some of the most striking sports photographs taken around the world over the past seven days.</td><td>sports</td></tr><tr><td>PA285472</td><td>https://www.journaldugeek.com/app/uploads/2024/11/Home-Sports.jpg</td><td>Home Sports : Meta présente son Wii Sports en réalité mixte</td><td>https://www.journaldugeek.com/2024/11/26/home-sports-meta-presente-wii-sports-realite-mixte/</td><td>Les Meta Quest 3 et 3S vont accueillir un jeu en réalité mixte nommé Home Sports. Le titre développé par Resolution Games s'inspire de l'illustre Wii Sports.</td><td>sports</td></tr><tr><td>PA285472</td><td>https://i.insider.com/675328938fb3f94e5073e40b?width=1200&format=jpeg</td><td>Retailers are saying shoppers are 'pressured,' 'stretched,' and 'cautious' — but still spending</td><td>https://www.businessinsider.com/shoppers-pressured-stretched-and-cautious-but-still-spending-2024-12</td><td>Walmart, Target, and more have used similar descriptions of US consumer health right now, while also noting that sales continue to beat expectations.</td><td>health</td></tr><tr><td>PA285472</td><td>https://i.abcnewsfe.com/a/d944e838-b9a5-4e47-aa03-ec6bd5e692e4/linda-mcmahon-gty-jef-241120_1732130473470_hpMain_16x9.jpg?w=1600</td><td>Linda McMahon's professional qualifications as Trump's choice for Dept. of Education</td><td>https://abcnews.go.com/Politics/linda-mcmahons-background-trumps-pick-education-secretary/story?id=116058197</td><td>Linda McMahon's background -- in both education and as a co-founder of sports entertainment company World Wrestling Entertainment, Inc. -- has come under scrutiny.</td><td>entertainment</td></tr><tr><td>PA285472</td><td>https://i.abcnewsfe.com/a/d944e838-b9a5-4e47-aa03-ec6bd5e692e4/linda-mcmahon-gty-jef-241120_1732130473470_hpMain_16x9.jpg?w=1600</td><td>Linda McMahon's professional qualifications as Trump's choice for Dept. of Education</td><td>https://abcnews.go.com/Politics/linda-mcmahons-background-trumps-pick-education-secretary/story?id=116058197</td><td>Linda McMahon's background -- in both education and as a co-founder of sports entertainment company World Wrestling Entertainment, Inc. -- has come under scrutiny.</td><td>sports</td></tr><tr><td>PA285472</td><td>https://npr.brightspotcdn.com/dims3/default/strip/false/crop/7792x4383+0+416/resize/1400/quality/100/format/jpeg/?url=http%3A%2F%2Fnpr-brightspot.s3.amazonaws.com%2Fd0%2F97%2Fff24f3f043c2b15963c6f7ce2b3f%2Fap24340755092282.jpg</td><td>Police are still looking for the suspect in the shooting of the UnitedHealthcare CEO</td><td>https://www.npr.org/2024/12/06/nx-s1-5219927/unitedhealthcare-ceo-shooting-new-york</td><td>The manhunt for the person who fatally shot the head of one of the country's largest health insurers in New York City entered its third day Friday as police parsed newly discovered clues.</td><td>health</td></tr><tr><td>PA285472</td><td>https://i.insider.com/67357889fa0140cdd56343c2?width=1200&format=jpeg</td><td>Saudi Arabia is trying to build a mega-city in the desert. Now, Neom is dialing back plans for its first stage.</td><td>https://www.businessinsider.com/neom-refocuses-sports-athletics-world-cup-construction-slow-costly-ceo-2024-11</td><td>The authoritarian country is spending billions on international athletics, from Formula 1 to combat sports, to boost its bottom line and image.</td><td>sports</td></tr><tr><td>PA285472</td><td>https://venturebeat.com/wp-content/uploads/2024/11/fifa-rivals.jpg?w=1024?w=1200&strip=all</td><td>Mythical Games teams with FIFA to make Web3 mobile soccer game FIFA Rivals</td><td>https://venturebeat.com/games/mythical-games-teams-with-fifa-to-make-web3-mobile-soccer-game-fifa-rivals/</td><td>FIFA and game maker Mythical Games are teaming up on FIFA Rivals, a Web3 mobile game that is licensed from the global sports group.</td><td>sports</td></tr><tr><td>PA285472</td><td>https://ichef.bbci.co.uk/news/1024/branded_news/3e69/live/2cef6190-ad71-11ef-967f-cbb1965d6a73.jpg</td><td>Angry doctors owed thousands refuse to work</td><td>https://www.bbc.com/news/articles/cz6jy7d0wjzo</td><td>There are concerns about staffing and supply shortages at GP surgeries linked to a management company.</td><td>health</td></tr><tr><td>PA285472</td><td>https://www.cnet.com/a/img/resize/6e6108d88bd42f960c7c826d6acab661b3bdc551/hub/2024/11/22/11bb6017-b4f7-42f2-baad-8697a497ced0/gettyimages-2184772553.jpg?auto=webp&fit=crop&height=675&width=1200</td><td>Premier League Soccer: Livestream Ipswich vs. Man United From Anywhere</td><td>https://www.cnet.com/tech/services-and-software/premier-league-soccer-livestream-ipswich-vs-man-united-from-anywhere/</td><td>It's Ruben Amorim's first game in charge of the Red Devils.</td><td>sports</td></tr><tr><td>PA285472</td><td>https://media.wired.com/photos/67069550cb5bb55be44eb19e/191:100/w_1280,c_limit/100924_Stem%20Cell%20Harvesting-1.jpg</td><td>Bone Marrow Donors Can Be Hard to Find. One Company Is Turning to Cadavers</td><td>https://www.wired.com/story/stem-cell-donation-deceased-ossium-bone-marrow-cancer-leukemia/</td><td>San Francisco–based Ossium Health has carried out three transplants for cancer patients using stem cells from deceased donors’ blood marrow in recent months.</td><td>health</td></tr></tbody></table></div>"
      ]
     },
     "metadata": {
      "application/vnd.databricks.v1+output": {
       "addedWidgets": {},
       "aggData": [],
       "aggError": "",
       "aggOverflow": false,
       "aggSchema": [],
       "aggSeriesLimitReached": false,
       "aggType": "",
       "arguments": {},
       "columnCustomDisplayInfos": {},
       "data": [
        [
         "AD550951",
         "https://media.wired.com/photos/67069550cb5bb55be44eb19e/191:100/w_1280,c_limit/100924_Stem%20Cell%20Harvesting-1.jpg",
         "Bone Marrow Donors Can Be Hard to Find. One Company Is Turning to Cadavers",
         "https://www.wired.com/story/stem-cell-donation-deceased-ossium-bone-marrow-cancer-leukemia/",
         "San Francisco–based Ossium Health has carried out three transplants for cancer patients using stem cells from deceased donors’ blood marrow in recent months.",
         "health"
        ],
        [
         "AD550951",
         "https://ichef.bbci.co.uk/news/1024/branded_news/33d2/live/c76fa200-a1b1-11ef-897a-cfb3ce396193.jpg",
         "One in three T-level students drop out of health course",
         "https://www.bbc.com/news/articles/cy4g04j1l9xo",
         "Many health and science T-level students dropped out after an exam board sent out botched exam papers in 2022.",
         "health"
        ],
        [
         "AD550951",
         "https://gizmodo.com/app/uploads/2024/12/Charles-ORear.jpg",
         "Formaldehyde Causes More Cancer Than Any Other Toxic Air Pollutant. Little Is Being Done to Curb the Risk",
         "https://gizmodo.com/formaldehyde-causes-more-cancer-than-any-other-toxic-air-pollutant-little-is-being-done-to-curb-the-risk-2000535569",
         "Companies use formaldehyde for everything from making furniture to sterilizing food. Industry has repeatedly thwarted government efforts to limit its health risks.",
         "health"
        ],
        [
         "AD550951",
         "https://gizmodo.com/app/uploads/2024/11/singulair-montelukast.jpg",
         "A Popular Asthma Drug May Be Causing Brain Damage",
         "https://gizmodo.com/a-popular-asthma-drug-may-be-causing-brain-damage-2000529453",
         "New data collected by the FDA has found that montelukast can bind to brain cells, which may explain the risk of mental health adverse effects linked to its use.",
         "health"
        ],
        [
         "AD550951",
         "https://i.insider.com/6759d75a52dd0818d1a67aa6?width=1200&format=jpeg",
         "The CEO using AI to fight insurance claim denials says he wants to remove the 'fearfulness' around getting sick",
         "https://www.businessinsider.com/ai-claim-startup-ceo-appeals-productive-for-pushing-change-2024-12",
         "Claimable has helped patients file hundreds of health insurance appeals. Its CEO says its success rate of overturning denials is around 85%.",
         "health"
        ],
        [
         "AD550951",
         null,
         "Meta wants its Llama AI in Britain’s public healthcare system",
         "https://consent.yahoo.com/v2/collectConsent?sessionId=1_cc-session_b19bd6f4-2654-465b-abec-7e69582cd26b",
         "Meta is making a pitch to get its AI into the UK’s public health system. The Guardian reported on Tuesday that the company held a hackathon in Europe, tasking over 200 developers to use its Llama AI to improve the country’s health services. The company awarde…",
         "health"
        ],
        [
         "AD550951",
         "https://npr.brightspotcdn.com/dims3/default/strip/false/crop/4032x2268+0+336/resize/1400/quality/100/format/jpeg/?url=http%3A%2F%2Fnpr-brightspot.s3.amazonaws.com%2F31%2F38%2Ffb4bff564c80838de612589dfb3d%2Fmangione-presser-12092024.jpg",
         "A suspect is charged with murder in the health care CEO shooting: Here is the latest",
         "https://www.npr.org/2024/12/10/nx-s1-5223302/latest-unitedhealthcare-ceo-shooting-case",
         "Luigi Mangione, 26, was arrested and charged with murder on Monday. He was found at a McDonald's in Pennsylvania, but is expected to be extradited to New York.",
         "health"
        ],
        [
         "AD550951",
         "https://ichef.bbci.co.uk/news/1024/branded_news/4935/live/dfc3e690-9f81-11ef-a78a-cf70d1c044ad.jpg",
         "'My autistic son is like a prisoner in hospital'",
         "https://www.bbc.com/news/articles/cd7n5p1x801o",
         "Sebastian has been deemed fit for discharge but the 19-year-old has nowhere suitable to go.",
         "health"
        ],
        [
         "AD550951",
         "https://ichef.bbci.co.uk/news/1024/branded_news/41a0/live/c9f44df0-b6e2-11ef-8b34-156b65e86dfb.jpg",
         "Health to get £600m boost in Welsh budget",
         "https://www.bbc.com/news/articles/cy53nk65py4o",
         "All Welsh government departments to be offered more cash from April under budget plans.",
         "health"
        ],
        [
         "AD550951",
         "https://www.cnet.com/a/img/resize/13fff2dec863411e9cc7f88a6af1f9413bf595f9/hub/2022/11/15/cc9fbb80-f2e0-4820-95d1-3dcf0b8d2f76/gettyimages-1351151107.jpg?auto=webp&fit=crop&height=675&width=1200",
         "Prioritize Your Mental Health and Nutrition This Thanksgiving With These Tips",
         "https://www.cnet.com/health/nutrition/prioritize-your-mental-health-and-nutrition-this-thanksgiving-with-these-tips/",
         "The holidays can trigger hard feelings. Here's some important tips to manage stress, eat mindfully and get active for your overall wellness.",
         "health"
        ],
        [
         "AD550951",
         "https://gizmodo.com/app/uploads/2024/11/A-laboratory-worker.jpg",
         "Life Extension Could Be a Threat to Human Existence",
         "https://gizmodo.com/life-extension-could-be-a-threat-to-human-existence-2000529903",
         "Would higher taxes on Earth's elite be more beneficial to the global population's health than all the life-extension science Bezos billions can fund?",
         "health"
        ],
        [
         "AD550951",
         "https://ichef.bbci.co.uk/news/1024/branded_news/4a6e/live/9fe2dfe0-a10c-11ef-9d70-9564a3cc52f2.jpg",
         "Number of homeless people in Wales at record high",
         "https://www.bbc.com/news/articles/cm27e2gn515o",
         "Charmaine, 38, has been waiting to move for two years and it is affecting her mental health.",
         "health"
        ],
        [
         "AD550951",
         "https://ichef.bbci.co.uk/news/1024/branded_news/ef40/live/435356d0-a82b-11ef-9c9f-85cfc89e7be6.jpg",
         "Can RFK Jr make America's diet healthy again?",
         "https://www.bbc.com/news/articles/cze391y17z7o",
         "Kennedy's plans to ban dyes in cereals and fluoride in water could get major pushback from the food industry.",
         "health"
        ],
        [
         "AD550951",
         "https://gizmodo.com/app/uploads/2024/11/GalaxyWatchUltra.jpg",
         "Samsung Goes All Out For Black Friday: The Galaxy Watch Ultra Is Now 63% Off on The Official Store",
         "https://gizmodo.com/samsung-goes-all-out-for-black-friday-the-galaxy-watch-ultra-is-now-63-off-on-the-official-store-2000528124",
         "This is the record price for the luxury smartwatch by Samsung.",
         "health"
        ],
        [
         "AD550951",
         "https://www.cnet.com/a/img/resize/63d7a9dc6512546817199aaf6833b54e306321f0/hub/2024/12/02/eb7c21ba-f9ee-41a8-96a7-c1b1bb1a2153/gettyimages-872323824.jpg?auto=webp&fit=crop&height=675&width=1200",
         "Try These New Year's Resolutions if You Have Anxiety",
         "https://www.cnet.com/health/mental/try-these-new-years-resolutions-if-you-have-anxiety/",
         "Making unrealistic New Year's resolutions can be detrimental to your mental health. Here's how to do it right for a calmer 2025.",
         "health"
        ],
        [
         "AD550951",
         "https://ichef.bbci.co.uk/news/1024/branded_news/9c44/live/21742570-b655-11ef-b91c-592d64941fec.jpg",
         "Three-year health plan includes 'good deal' on staff pay",
         "https://www.bbc.com/news/articles/c07gkr88e1po",
         "The minister said the pace of progress would be heavily influenced by future budget settlements.",
         "health"
        ],
        [
         "AD550951",
         "https://ichef.bbci.co.uk/news/1024/branded_news/a717/live/c6fe43e0-b15a-11ef-aff0-072ce821b6ab.png",
         "Puberty blockers: Can a drug trial solve one of medicine's most controversial debates?",
         "https://www.bbc.com/news/articles/clyd2qe5kkjo",
         "The government has pledged to determine the evidence - and establish whether the benefits outweigh any potential harms of prescribing puberty blockers to children questioning their gender",
         "health"
        ],
        [
         "AD550951",
         "https://media.wired.com/photos/67533fd395028f36d6cdc70d/191:100/w_1280,c_limit/DRC-Outbreak-Congo-Science-2166689518.jpg",
         "A Mysterious Respiratory Disease Has the Democratic Republic of the Congo on High Alert",
         "https://www.wired.com/story/drc-mysterious-respiratory-disease-children-who-africa/",
         "The WHO has sent epidemiologists to the country to uncover the cause of the illness, which has killed more than 70 people, half of them children.",
         "health"
        ],
        [
         "AD550951",
         "https://ichef.bbci.co.uk/news/1024/branded_news/3e69/live/2cef6190-ad71-11ef-967f-cbb1965d6a73.jpg",
         "Angry doctors owed thousands refuse to work",
         "https://www.bbc.com/news/articles/cz6jy7d0wjzo",
         "There are concerns about staffing and supply shortages at GP surgeries linked to a management company.",
         "health"
        ],
        [
         "AD550951",
         "https://gizmodo.com/app/uploads/2024/11/Trump-RFK-1.jpg",
         "How Trump’s Second Term Could Shape the Future of Health in America",
         "https://gizmodo.com/how-trumps-second-term-could-shape-the-future-of-health-in-america-2000528082",
         "We asked a health law expert about what to expect in the coming years: \"It is critical that people exercise good judgment in the sources of their information to protect themselves.\"",
         "health"
        ],
        [
         "AD550951",
         "https://ichef.bbci.co.uk/news/1024/branded_news/cd4e/live/e10b0380-b1bf-11ef-8613-eb846c2a010c.jpg",
         "Hospice leaders warn hundreds of beds out of use",
         "https://www.bbc.com/news/articles/clykz68zexpo",
         "A lack of funding and staff are blamed as hospices close beds permanently or take them out of use.",
         "health"
        ],
        [
         "AD550951",
         "https://gizmodo.com/app/uploads/2024/12/Gas-pumping.jpg",
         "Lead Exposure Drove a Hidden Mental Health Crisis in the U.S., Study Reveals",
         "https://gizmodo.com/lead-exposure-drove-a-hidden-mental-health-crisis-in-the-u-s-study-reveals-2000533663",
         "New research estimates that lead exposure from gasoline has significantly affected Americans' mental health for the worse during the 20th century.",
         "health"
        ],
        [
         "AD550951",
         "https://media.wired.com/photos/67376b6b65503c4b12d0f8a2/191:100/w_1280,c_limit/standing-desks-sci-1383390087.jpg",
         "Standing Desks Are Better for Your Health—but Still Not Enough",
         "https://www.wired.com/story/standing-desk-health-benefits/",
         "Two recent studies offer some of the most nuanced evidence yet about the potential benefits and risks of working on your feet.",
         "health"
        ],
        [
         "AD550951",
         "https://media.wired.com/photos/673f5a45cf5823ec26b9d5fc/191:100/w_1280,c_limit/WW25-How-To-VR-Simon-Landrein.jpg",
         "3 Simple Rules to Beat the Downsides of Aging",
         "https://www.wired.com/story/three-simple-rules-to-beat-the-downsides-of-aging/",
         "While we wait for scientists to come up with a miracle pill, we can take matters into our own hands with easy steps to ensure that life in old age isn’t also the end of living well.",
         "health"
        ],
        [
         "AD550951",
         "https://www.cnet.com/a/img/resize/83af940d95b1e76acc6f3d172adf1e712ae8fbdc/hub/2023/06/13/2a445a4c-3bf3-452f-aae9-fea82a92cc3c/gettyimages-1148111657.jpg?auto=webp&fit=crop&height=675&width=1200",
         "10 Super Simple Ways You Can Strengthen Your Eye Health Daily",
         "https://www.cnet.com/health/personal-care/ways-strengthen-eye-health-daily/",
         "To protect your eye health and support your vision, these are 10 simple things you can do every day for your eyes.",
         "health"
        ],
        [
         "AD550951",
         "https://i.insider.com/673e2500192f525898599dfd?width=1200&format=jpeg",
         "A FIRE blogger decided to test the benefits of the popular triple-tax advantaged HSA. He explains why it wasn't worth the hassle and wants to switch health insurance plans in 2025.",
         "https://www.businessinsider.com/financial-independence-blogger-switched-to-hdhp-hsa-health-insurance-plan-2024-11",
         "Andre Nader switched from an EPO health insurance plan to an HDHP to take advantage of an HSA. Despite the tax benefits, it wasn't worth it for him.",
         "health"
        ],
        [
         "AD550951",
         "https://i.insider.com/675308d18fbb2783ed303269?width=1200&format=jpeg",
         "A health insurance CEO was murdered. The internet lashed out against insurers.",
         "https://www.businessinsider.com/united-healthcare-brian-thompson-ceo-killing-social-media-rage-insurers-2024-12",
         "Social media's grim — and revealing — response to the killing of UnitedHealthcare CEO Brian Thompson.",
         "health"
        ],
        [
         "AD550951",
         "https://ichef.bbci.co.uk/news/1024/branded_news/c449/live/45b11db0-ab30-11ef-8d14-b38ce06af7f3.jpg",
         "New cash for job centres in plan to boost workforce",
         "https://www.bbc.com/news/articles/cqxwv3n87g4o",
         "The government reveals a £240m investment plan to increase the number of people working in Britain.",
         "health"
        ],
        [
         "AD550951",
         "https://npr.brightspotcdn.com/dims3/default/strip/false/crop/7792x4383+0+416/resize/1400/quality/100/format/jpeg/?url=http%3A%2F%2Fnpr-brightspot.s3.amazonaws.com%2Fd0%2F97%2Fff24f3f043c2b15963c6f7ce2b3f%2Fap24340755092282.jpg",
         "Police are still looking for the suspect in the shooting of the UnitedHealthcare CEO",
         "https://www.npr.org/2024/12/06/nx-s1-5219927/unitedhealthcare-ceo-shooting-new-york",
         "The manhunt for the person who fatally shot the head of one of the country's largest health insurers in New York City entered its third day Friday as police parsed newly discovered clues.",
         "health"
        ],
        [
         "AD550951",
         "https://cdn.mos.cms.futurecdn.net/43aEDAXBn93UxrSUZ3cJo4-1200-80.jpg",
         "New research confirms Samsung, Google, and Apple have been wrong all along",
         "https://www.androidcentral.com/phones/late-2024-led-flicker-research-smartphones",
         "Your smartphone may be worse for your health than you previously thought, but not every brand is at fault.",
         "health"
        ],
        [
         "AD550951",
         "https://i.insider.com/6745ef3d9f2901eb6036ebb7?width=1200&format=jpeg",
         "A dietitian who wrote a book on ultra-processed foods shares how she includes them in her kids' nutritious diet",
         "https://www.businessinsider.com/what-to-know-about-feeding-kids-ultra-processed-food-dietitian-2024-11",
         "Ultra-processed foods can be cheap and convenient, but are linked to health problems. Here's how a dietitian strikes the right balance with her kids.",
         "health"
        ],
        [
         "AD550951",
         "https://ichef.bbci.co.uk/news/1024/branded_news/5f01/live/618e0a50-a830-11ef-9c9f-85cfc89e7be6.jpg",
         "Poorer patients are missing operations, says health chief",
         "https://www.bbc.com/news/articles/c154yv01jv1o",
         "Chief executive of the Western Trust Neil Guckian said it was a \"sad indictment of our society\".",
         "health"
        ],
        [
         "AD550951",
         "https://media.wired.com/photos/6746346f7249ca1c03468834/191:100/w_1280,c_limit/Tim_Cook_10723_01_0014.jpg",
         "Tim Cook Wants Apple to Literally Save Your Life",
         "https://www.wired.com/story/big-interview-tim-cook-wants-apple-to-literally-save-your-life/",
         "Much as the CEO seems awestruck by AI and his just-released Apple Intelligence, he’s more convinced that the tech giant’s health apps will define the company’s legacy.",
         "health"
        ],
        [
         "AD550951",
         "https://ichef.bbci.co.uk/news/1024/branded_news/bd27/live/78ea34e0-9218-11ef-8e6d-e3e64e16c628.jpg",
         "Burning old TVs to survive: The toxic trade in electrical waste",
         "https://www.bbc.com/news/articles/c4gvq1rd0geo",
         "People around the world are extracting valuable materials from e-waste despite huge health risks.",
         "health"
        ],
        [
         "AD550951",
         "https://ichef.bbci.co.uk/news/1024/branded_news/e72f/live/e76f2060-b1a3-11ef-9395-615813d4ff0f.jpg",
         "Doctors call for major incident as hospital 'unsafe'",
         "https://www.bbc.com/news/articles/c1593v2jqpzo",
         "Documents show one patient at Glasgow's Queen Elizabeth University Hospital was left in the back of an ambulance for six hours with a fractured hip.",
         "health"
        ],
        [
         "AD550951",
         "https://ichef.bbci.co.uk/news/1024/branded_news/15b7/live/da543f60-a73e-11ef-9764-a1d4ef89e504.jpg",
         "Care home firm fined £50k after woman's death",
         "https://www.bbc.com/news/articles/cy872ppryp2o",
         "Mary ‘Pat’ Thompson needed the help of two carers to move but fell while in the care of just one.",
         "health"
        ],
        [
         "AD550951",
         "https://gizmodo.com/app/uploads/2024/11/McDonalds-sign.jpg",
         "The McDonald’s E. Coli Outbreak Was Worse Than We Thought",
         "https://gizmodo.com/the-mcdonalds-e-coli-outbreak-was-worse-than-we-thought-2000524535",
         "People in at least 14 states caught a nasty strain of E. coli from tainted onions used in McDonald's Quarter Pounders, though the immediate danger has likely now passed.",
         "health"
        ],
        [
         "AD550951",
         "https://www.cnet.com/a/img/resize/3a5924517ad091aa7e37eee9d69c3ed80f571e6c/hub/2024/10/09/c12289f4-0965-43cf-b5b4-a52eadd7c7ad/gettyimages-57319981.jpg?auto=webp&fit=crop&height=675&width=1200",
         "Affordable Care Act Enrollment Is Open. Learn How, When and Why to Apply",
         "https://www.cnet.com/personal-finance/insurance/affordable-care-act-enrollment-is-open-learn-how-when-and-why-to-apply/",
         "Affordable Care Act health insurance -- aka, \"Obamacare\" -- is currently available to all during its open enrollment period.",
         "health"
        ],
        [
         "AD550951",
         "https://ichef.bbci.co.uk/news/1024/branded_news/ba3b/live/a86ea4d0-b743-11ef-b631-b5f63aa48be1.jpg",
         "Increased vet burden creates animal welfare concerns",
         "https://www.bbc.com/news/articles/c1d34ezvxp2o",
         "While the number of vets in Wales has increased, the number of pets has at a far higher pace.",
         "health"
        ],
        [
         "AD550951",
         "https://i.insider.com/674edf6a9e9761932b4a49bf?width=1200&format=jpeg",
         "Larry Ellison is investing up to $165 million to turn University of Oxford science research into products",
         "https://www.businessinsider.com/larry-ellison-invests-university-oxford-research-product-innovation-oracle-2024-12",
         "Larry Ellison's $165 million Oxford investment aims to transform research into products, in areas including health and clean energy.",
         "health"
        ],
        [
         "AD550951",
         "https://ichef.bbci.co.uk/news/1024/branded_news/37e6/live/dde254a0-aa5e-11ef-bdf5-b7cb2fa86e10.jpg",
         "Young people who refuse to work to lose benefits - minister",
         "https://www.bbc.com/news/articles/cp35r0v7q95o",
         "Liz Kendall says young people will have a responsibility to take up new opportunities for \"earning or learning\".",
         "health"
        ],
        [
         "AD550951",
         "https://ichef.bbci.co.uk/news/1024/branded_news/c0fc/live/62f8d180-b0ce-11ef-a6ec-dd05787bd0e4.jpg",
         "Scottish NHS reform 'urgently needed' - watchdog",
         "https://www.bbc.com/news/articles/c390kw0kv18o",
         "Audit Scotland says decisions may needed about whether some services can be provided by the NHS.",
         "health"
        ],
        [
         "AD550951",
         "https://gizmodo.com/app/uploads/2024/11/garmin-forerunner-255.jpg",
         "At The Exact Same Time, The Garmin Forerunner 55 And 255 Have Crashed to Record Low Prices",
         "https://gizmodo.com/at-the-exact-same-time-the-garmin-forerunner-55-and-255-have-crashed-to-record-low-prices-2000529046",
         "The Forerunner 55 is better suited for casual athletes, while the Forerunner 255 is a top choice for regular enthusiasts.",
         "health"
        ],
        [
         "AD550951",
         "https://i.insider.com/675873ac52dd0818d1a63b7e?width=1200&format=jpeg",
         "How much do health insurance companies spend on executive security? It might be less than you think.",
         "https://www.businessinsider.com/health-insurance-companies-unitedhealthcare-ceo-security-protection-costs-2024-12",
         "While some high-profile CEOs have multimillion-dollar protection details, filings for major health insurers show smaller amounts for exec security.",
         "health"
        ],
        [
         "AD550951",
         "https://npr.brightspotcdn.com/dims3/default/strip/false/crop/5616x3159+0+0/resize/1400/quality/100/format/jpeg/?url=http%3A%2F%2Fnpr-brightspot.s3.amazonaws.com%2F51%2F49%2F4efa964e4c7faf3a50de4ff2e5d0%2Fgettyimages-2169585871.jpg",
         "FBI Director to resign. And, UHC CEO killing brings attention to U.S. life expectancy",
         "https://www.npr.org/2024/12/12/g-s1-37879/up-first-newsletter-fbi-director-christopher-wray-luigi-mangione-health-care-life-expectancy",
         "Why FBI Director Christopher Wray will step down from the role at the end of Biden's term. And, the UHC CEO killing turns public attention to the U.S. life expectancy and health care.",
         "health"
        ],
        [
         "AD550951",
         "https://gizmodo.com/app/uploads/2024/11/garmin-7x-pro-solar.jpg",
         "The Garmin Fenix 7X Pro Is at a Record Low Price, Now 35% Off on Amazon",
         "https://gizmodo.com/the-garmin-fenix-7x-pro-is-at-a-record-low-price-now-35-off-on-amazon-2000526063",
         "It is the ultimate smartwatch for (almost) every sport.",
         "health"
        ],
        [
         "AD550951",
         "https://hbr.org/resources/images/article_assets/2024/11/Nov24_14_1688678853_NOGLOBAL.jpg",
         "When Gig Work Meets Extreme Weather",
         "https://hbr.org/2024/11/when-gig-work-meets-extreme-weather",
         "Extreme weather events pose significant challenges for gig couriers, impacting their performance, income and health. Research with one food delivery platform in China showed that heat waves drive up order volumes for couriers, but also cause more delays and h…",
         "health"
        ],
        [
         "AD550951",
         "https://ichef.bbci.co.uk/news/1024/branded_news/7718/live/c2797750-ac31-11ef-857a-257cb5d14cdb.jpg",
         "MPs back plans for phased smoking ban",
         "https://www.bbc.com/news/articles/cx2lwjrdj1lo",
         "The legislation would make it illegal for anyone aged 15 or younger to ever buy cigarettes in the UK.",
         "health"
        ],
        [
         "AD550951",
         "https://media.wired.com/photos/675a1d247221e9de23255414/191:100/w_1280,c_limit/RFK-JR-Pharma-Science-2182359691.jpg",
         "RFK Plans to Take on Big Pharma. It’s Easier Said Than Done",
         "https://www.wired.com/story/rfks-plan-to-take-on-big-pharma/",
         "Robert F. Kennedy Jr., Donald Trump’s pick to lead the US Department of Health and Human Services, has been vocally anti-pharma. Pharma, Congress, and the courts, though, all get a say.",
         "health"
        ],
        [
         "AD550951",
         "https://ichef.bbci.co.uk/news/1024/branded_news/df0d/live/7180cd80-a04c-11ef-8ab9-9192db313061.jpg",
         "Rugby player, 24, won't return over mental health",
         "https://www.bbc.com/news/articles/cjw09nxp5j9o",
         "Harri Morgan took a break from the game he once loved and does not now want to return.",
         "health"
        ],
        [
         "AD550951",
         "https://i.insider.com/67534f2c8fbb2783ed305d98?width=1200&format=jpeg",
         "Some health insurers are removing executive bios from their websites after the fatal shooting of UnitedHealthcare's CEO",
         "https://www.businessinsider.com/brian-thompson-unitedhealthcare-shooting-health-insurance-companies-remove-ceo-bios-2024-12",
         "Health insurance companies like Blue Cross Blue Shield have removed executive bios from their websites since the shooting of UnitedHealthcare CEO Brian Thompson.",
         "health"
        ],
        [
         "AD550951",
         "https://www.cnet.com/a/img/resize/cc9346c849edafa24ba68c1d3905502e2f8a502b/hub/2024/11/30/3b36a785-5883-4ffa-bc65-cb9fd3aa0ab6/gettyimages-1677819202.jpg?auto=webp&fit=crop&height=675&width=1200",
         "Hearing More About Bird Flu? Here's Everything to Know About Cases in People",
         "https://www.cnet.com/health/medical/hearing-more-about-bird-flu-heres-everything-to-know-about-cases-in-people/",
         "The general public health threat remains low, but some infectious disease experts worry about a thinning line that's kept bird flu from spreading between people.",
         "health"
        ],
        [
         "AD550951",
         "https://gizmodo.com/app/uploads/2024/11/apple-watch-se-2nd.jpg",
         "Why Spend $700 on an Apple Watch When You Can Get The Apple Watch SE For Just $169?",
         "https://gizmodo.com/why-spend-700-on-an-apple-watch-when-you-can-get-the-apple-watch-se-for-just-169-2000529052",
         "Do you want an Apple Watch without spending $800? Now is your chance!",
         "health"
        ],
        [
         "AD550951",
         "https://gizmodo.com/app/uploads/2024/12/Bat-colony.jpg",
         "California Teacher Dies From Rare Rabies Infection After Bat Encounter in Classroom",
         "https://gizmodo.com/california-teacher-dies-from-rare-rabies-infection-after-bat-encounter-in-classroom-2000532968",
         "60-year-old Fresno resident Leah Seneng was reportedly killed by a rabies infection that she likely caught from a bat that had wandered into her classroom.",
         "health"
        ],
        [
         "AD550951",
         "https://cdn.vox-cdn.com/thumbor/esfaO5EhjbSuH6NswUpv8noH2Xw=/0x0:2040x1360/1200x628/filters:focal(1020x680:1021x681)/cdn.vox-cdn.com/uploads/chorus_asset/file/25330613/STK419_DEEPFAKE_CVIRGINIA_E.jpg",
         "TikTok will block beauty filters for teens over mental health concerns",
         "https://www.theverge.com/2024/11/27/24307314/tiktok-beauty-filter-effects-age-restriction-teens-wellbeing",
         "TikTok is placing age restrictions on some of its beauty filters to address concerns about how they impact the mental health of its teenage users.",
         "health"
        ],
        [
         "AD550951",
         "https://cdn.vox-cdn.com/thumbor/6EC3XDegoYgwXoqWM1Dy6z2GCrk=/0x0:2550x1700/1200x628/filters:focal(1275x850:1276x851)/cdn.vox-cdn.com/uploads/chorus_asset/file/24816195/236731_Samsung_Galaxy_Watch_6_AKrales_0376.jpg",
         "Samsung finally starts Wear OS 5 rollout for older Galaxy Watches",
         "https://www.theverge.com/2024/11/19/24300468/samsung-wear-os-5-one-ui-6-watch-smartwatch-wearables",
         "After a delay, Wear OS 5 and One UI 6 Watch is arriving on older Galaxy Watch models. New features like Energy Score and sleep apnea detection are included.",
         "health"
        ],
        [
         "AD550951",
         "https://i.insider.com/67366ad0ede4eeae3927b3ef?width=915&format=jpeg",
         "Trump taps Robert F. Kennedy Jr. to lead Department of Health and Human Services",
         "https://www.businessinsider.com/trump-robert-f-kennedy-jr-rfk-department-health-human-services-2024-11",
         "Trump announced his nomination for Robert F. Kennedy Jr. to lead the Department of Health and Human Services. The position requires senate approval.",
         "health"
        ],
        [
         "AD550951",
         "https://img-cdn.tnwcdn.com/image/tnw-blurple?filter_last=1&fit=1280%2C640&url=https%3A%2F%2Fcdn0.tnwcdn.com%2Fwp-content%2Fblogs.dir%2F1%2Ffiles%2F2024%2F12%2Fteenager-smartphone-use-health.jpg&signature=799bdcd8aa09c6fd89860b0222c0faf2",
         "Smartphones in Spain should carry health warning, says government panel",
         "https://thenextweb.com/news/smartphones-in-spain-should-carry-health-warning",
         "A Spanish government-appointed committee of experts has recommended that smartphones sold in the country carry health warning labels. The advice comes amid mounting concern about the effects of smartphone use, particularly among young people.   The experts pu…",
         "health"
        ],
        [
         "AD550951",
         "https://npr.brightspotcdn.com/dims3/default/strip/false/crop/3264x1836+0+306/resize/1400/quality/100/format/jpeg/?url=http%3A%2F%2Fnpr-brightspot.s3.amazonaws.com%2F02%2F28%2Fe504e7bb417dbebaf51b430530b1%2Fsciencesourceimages-1365171-highres.jpg",
         "RFK Jr. isn't the only one. More than a billion people have parasitic worms",
         "https://www.npr.org/sections/goats-and-soda/2024/11/15/g-s1-34344/rfk-jr-parasitic-worm-nominee-trump-health-and-human-services",
         "Earlier this year, a surprising story emerged about RFK Jr. — the newly named nominee for secretary of the Department of Health and Human Services  — and a parasitic brain worm.",
         "health"
        ],
        [
         "AD550951",
         "https://www.cnet.com/a/img/resize/2e6a85161ab3ea8ffc009e943ddfde06e13a307e/hub/2024/11/22/caa689f4-70e1-43be-8896-7691a4b853f1/sleep-wellness-gift-guide.jpg?auto=webp&fit=crop&height=675&width=1200",
         "37 Best Wellness Gifts for the Health Gurus Who Have It All",
         "https://www.cnet.com/gifts/37-best-wellness-gifts-for-the-health-gurus-that-have-it-all/",
         "Whether you're shopping for a holistic health connoisseur or a fitness enthusiast or, our editors' favorite picks have you covered for the holidays.",
         "health"
        ],
        [
         "Ad469118",
         "",
         "Why Soccer Players Are Training in the Dark",
         "https://www.wired.com/story/why-soccer-players-are-training-in-the-dark-okkolo-football-sunderland-leeds-united-neuroscience/",
         "Sports science company Okkulo has shown that its specially lit training environment can improve players’ visual-motor skills—and a growing number of sports are starting to test it out.",
         "sports"
        ],
        [
         "Ad469118",
         "",
         "Why Soccer Players Are Training in the Dark",
         "https://www.wired.com/story/why-soccer-players-are-training-in-the-dark-okkolo-football-sunderland-leeds-united-neuroscience/",
         "Sports science company Okkulo has shown that its specially lit training environment can improve players’ visual-motor skills—and a growing number of sports are starting to test it out.",
         "technology"
        ],
        [
         "Ad469118",
         "https://a1.espncdn.com/combiner/i?img=%2Fphoto%2F2018%2F1023%2Fr451750_640x360_16%2D9.jpg",
         "FanDuel, MLBPA settle player likenesses lawsuit",
         "https://www.espn.com/mlb/story/_/id/42409158/fanduel-settles-mlb-lawsuit-use-player-likenesses",
         "Major League Baseball's players union settled a lawsuit that accused sports betting giant FanDuel of using the names and likenesses of hundreds of MLB players on its betting platform without permission.",
         "sports"
        ],
        [
         "Ad469118",
         "https://venturebeat.com/wp-content/uploads/2024/11/Ascend-23-Loupe.png?w=1024?w=1200&strip=all",
         "Live commerce is the new sports bar: Loupe is the preferred late-night hangout for sports fans and collectors",
         "https://venturebeat.com/business/live-commerce-is-the-new-sports-bar-loupe-is-the-preferred-late-night-hangout-for-sports-fans-and-collectors/",
         "CONTRIBUTOR CONTENT: Live commerce and the sports collectibles industries are both booming. There’s one place that sports fans are all going after work and no, it’s not the nearest sports bar. At night, fans are flocking to Loupe, where they can extend the ga…",
         "sports"
        ],
        [
         "Ad469118",
         "https://content.artofmanliness.com/uploads/2024/11/gamble.jpg",
         "Podcast #1,044: What Sports Betting Is Really Doing to Players, Games, and Fans",
         "https://www.artofmanliness.com/character/behavior/podcast-1044-what-sports-betting-is-really-doing-to-players-games-and-fans/",
         "Sports gambling has exploded in America. You can’t watch a game today without being bombarded by ads from betting companies, often co-branded with the major sports leagues themselves. It’s a dramatic shift from just seven years ago, when these same leagues we…",
         "sports"
        ],
        [
         "Ad469118",
         "https://gizmodo.com/app/uploads/2024/12/J-Studios.jpg",
         "Landlords Are Using AI to Raise Rents—and Cities Are Starting to Push Back",
         "https://gizmodo.com/landlords-are-using-ai-to-raise-rents-and-cities-are-starting-to-push-back-2000535519",
         "AI is a plaque upon housing in America.",
         "technology"
        ],
        [
         "Ad469118",
         "https://gizmodo.com/app/uploads/2024/12/OpenAI-CEO-Sam-Altman-on-Fox-News.jpg",
         "OpenAI Continues Its Mission of ‘Ethical’ AI by Partnering With a Killer Robot Company",
         "https://gizmodo.com/openai-continues-its-mission-of-ethical-ai-by-partnering-with-a-killer-robot-company-2000534515",
         "It's a weird look for a company that has claimed that it wants to make AI \"safe for everyone.\"",
         "technology"
        ],
        [
         "Ad469118",
         "https://static1.anpoimages.com/wordpress/wp-content/uploads/wm/2024/02/img_1576.jpg",
         "ESPN brings sports to Disney Plus, completing the bundle with Hulu",
         "https://www.androidpolice.com/you-can-now-access-espn-content-from-disney-app/",
         "Now Disney+ has something for sports fans once the kids are asleep",
         "sports"
        ],
        [
         "Ad469118",
         "https://gizmodo.com/app/uploads/2024/11/wallace-and-gromit-vengeance-most-fowl-set-visit-interview-aardman.jpg",
         "How Aardman Mixed Past and Future in Its Return to Wallace and Gromit",
         "https://gizmodo.com/wallace-and-gromit-vengeance-most-fowl-netflix-set-visit-nick-park-merlin-crossingham-2000527162",
         "Ahead of its release on Netflix January 3, io9 visited the set of Vengeance Most Fowl to see why now is Aardman's time to return to Wallace and Gromit.",
         "technology"
        ],
        [
         "Ad469118",
         "https://seths.blog/wp-content/uploads/2018/06/seth_godin_ogimages_v02_18061316.jpg",
         "When the media is ready (Bongo part 2)",
         "https://seths.blog/2024/11/when-the-media-is-ready-bongo-part-2/",
         "Media isn’t a magazine or a website. It’s a system. We can learn to see the system and contribute to it with leverage. There are three elements to consider in a media system that’s worth a professional creator’s time: Systems are changed by technology. When d…",
         "technology"
        ],
        [
         "Ad469118",
         "https://a1.espncdn.com/combiner/i?img=%2Fphoto%2F2024%2F1117%2Fr1415930_1296x729_16%2D9.jpg",
         "'Inside the NBA' moving to ESPN, ABC next season",
         "https://www.espn.com/nba/story/_/id/42464696/inside-nba-appear-espn-abc-next-season",
         "\"Inside the NBA,\" which has won 21 Sports Emmy Awards, will appear on ESPN and ABC starting next season through a partnership with TNT Sports and the NBA.",
         "sports"
        ],
        [
         "Ad469118",
         "https://content.artofmanliness.com/uploads/2024/11/run-thumb-2.jpg",
         "Podcast #1,040: Tribal Runners, Weekend Warriors, and Our Changing Relationship to Endurance Sports",
         "https://www.artofmanliness.com/health-fitness/fitness/podcast-1040-tribal-runners-weekend-warriors-and-our-changing-relationship-to-endurance-sports/",
         "Endurance activities, like distance running, have existed since ancient times. But humans’ relationship to those pursuits has changed, according to time and place. In the West, we’ve currently turned endurance sports into a science — tracking every metric and…",
         "sports"
        ],
        [
         "Ad469118",
         "https://gizmodo.com/app/uploads/2024/09/airtags-apple.jpg",
         "Amazon Is Clearing Out AirTags This Cyber Monday, Now at a Record Low Price Until They Sell Out",
         "https://gizmodo.com/amazon-is-clearing-out-airtags-this-cyber-monday-now-at-a-record-low-price-until-they-sell-out-2000532478",
         "AirTags are the perfect gift for the holiday season.",
         "technology"
        ],
        [
         "Ad469118",
         "https://cdn.vox-cdn.com/thumbor/YavtHu47GBXbFJeKLrxkZwo474E=/0x0:2040x1360/1200x628/filters:focal(1020x680:1021x681)/cdn.vox-cdn.com/uploads/chorus_asset/file/24774110/STK156_Instagram_threads_1.jpg",
         "Threads’ custom feeds are already rolling out",
         "https://www.theverge.com/2024/11/20/24301587/threads-custom-feeds-rolling-out",
         "Just five days after Meta started testing custom feeds in Threads, the company is already rolling them out to everyone. Bluesky also has custom feeds.",
         "technology"
        ],
        [
         "Ad469118",
         "https://cdn.vox-cdn.com/thumbor/E2RoDalncTnPdUrncx4kP01lnYw=/0x0:1440x810/1200x628/filters:focal(720x405:721x406)/cdn.vox-cdn.com/uploads/chorus_asset/file/25756939/Home_Sports.jpg",
         "Meta’s mixed-reality attempt at a Wii Sports knockoff is coming",
         "https://www.theverge.com/2024/11/25/24305847/meta-quest-home-sports-vr-mr-tennis-bowling-hockey-game",
         "Home Sports is a cartoonish collection of games like bowling, badminton, and mini-golf, that can be played on Meta’s Quest 3 and 3S headsets.",
         "entertainment"
        ],
        [
         "Ad469118",
         "https://cdn.vox-cdn.com/thumbor/E2RoDalncTnPdUrncx4kP01lnYw=/0x0:1440x810/1200x628/filters:focal(720x405:721x406)/cdn.vox-cdn.com/uploads/chorus_asset/file/25756939/Home_Sports.jpg",
         "Meta’s mixed-reality attempt at a Wii Sports knockoff is coming",
         "https://www.theverge.com/2024/11/25/24305847/meta-quest-home-sports-vr-mr-tennis-bowling-hockey-game",
         "Home Sports is a cartoonish collection of games like bowling, badminton, and mini-golf, that can be played on Meta’s Quest 3 and 3S headsets.",
         "sports"
        ],
        [
         "Ad469118",
         "https://images.macrumors.com/t/gSfA9gdPJTtAYv_7hjK9YByevcM=/2500x/article-new/2024/07/Safari-Technology-Preview-Updated-Feature-1.jpg",
         "Apple Releases Safari Technology Preview 208 With Bug Fixes and Performance Improvements",
         "https://www.macrumors.com/2024/11/21/apple-releases-safari-technology-preview-208/",
         "Apple today released a new update for Safari Technology Preview, the experimental browser that was first introduced in March 2016. Apple designed ‌Safari Technology Preview‌ to allow users to test features that are planned for future release versions of the S…",
         "technology"
        ],
        [
         "Ad469118",
         "https://gizmodo.com/app/uploads/2024/12/The-Enron-sign.jpg",
         "Is Enron Coming Back as a Crypto Company?",
         "https://gizmodo.com/is-enron-coming-back-as-a-crypto-company-2000533233",
         "The scandal ridden company is said to be mounting a comeback, but evidence points in the direction of a large practical joke.",
         "technology"
        ],
        [
         "Ad469118",
         "https://gizmodo.com/app/uploads/2024/12/The-Enron-sign.jpg",
         "Is Enron Coming Back as a Crypto Company?",
         "https://gizmodo.com/is-enron-coming-back-as-a-crypto-company-2000533233",
         "The scandal ridden company is said to be mounting a comeback, but evidence points in the direction of a large practical joke.",
         "entertainment"
        ],
        [
         "Ad469118",
         "https://www.cnet.com/a/img/resize/a51721727ac6b71b8d078d611ca37505b9006739/hub/2024/10/16/ae3b5078-3ced-47c9-91dd-6b5b1b1a5809/connections-sports-edition-6832.jpg?auto=webp&fit=crop&height=675&width=1200",
         "Today's NYT Connections: Sports Edition Hints and Answers for Dec. 4, #72",
         "https://www.cnet.com/tech/gaming/todays-nyt-connections-sports-edition-hints-and-answers-for-dec-4-72/",
         "Here's today's Connections: Sports Edition answer and hints for groups. These clues will help you solve The New York Times' popular puzzle game, Connections: Sports Edition, every day.",
         "sports"
        ],
        [
         "Ad469118",
         "https://www.cnet.com/a/img/resize/a51721727ac6b71b8d078d611ca37505b9006739/hub/2024/10/16/ae3b5078-3ced-47c9-91dd-6b5b1b1a5809/connections-sports-edition-6832.jpg?auto=webp&fit=crop&height=675&width=1200",
         "Today's NYT Connections: Sports Edition Hints and Answers for Dec. 6, #74",
         "https://www.cnet.com/tech/gaming/todays-nyt-connections-sports-edition-hints-and-answers-for-dec-6-74/",
         "Here's today's Connections: Sports Edition answer and hints for groups. These clues will help you solve The New York Times' popular puzzle game, Connections: Sports Edition, every day.",
         "sports"
        ],
        [
         "Ad469118",
         "https://www.cnet.com/a/img/resize/a51721727ac6b71b8d078d611ca37505b9006739/hub/2024/10/16/ae3b5078-3ced-47c9-91dd-6b5b1b1a5809/connections-sports-edition-6832.jpg?auto=webp&fit=crop&height=675&width=1200",
         "Today's NYT Connections: Sports Edition Hints and Answers for Dec. 3, #71",
         "https://www.cnet.com/tech/gaming/todays-nyt-connections-sports-edition-hints-and-answers-for-dec-3-71/",
         "Here's today's Connections: Sports Edition answer and hints for groups. These clues will help you solve The New York Times' popular puzzle game, Connections: Sports Edition, every day.",
         "sports"
        ],
        [
         "Ad469118",
         "https://www.cnet.com/a/img/resize/a51721727ac6b71b8d078d611ca37505b9006739/hub/2024/10/16/ae3b5078-3ced-47c9-91dd-6b5b1b1a5809/connections-sports-edition-6832.jpg?auto=webp&fit=crop&height=675&width=1200",
         "Today's NYT Connections: Sports Edition Hints and Answers for Dec. 5, #73",
         "https://www.cnet.com/tech/gaming/todays-nyt-connections-sports-edition-hints-and-answers-for-dec-5-73/",
         "Here's today's Connections: Sports Edition answer and hints for groups. These clues will help you solve The New York Times' popular puzzle game, Connections: Sports Edition, every day.",
         "sports"
        ],
        [
         "Ad469118",
         "https://www.cnet.com/a/img/resize/a51721727ac6b71b8d078d611ca37505b9006739/hub/2024/10/16/ae3b5078-3ced-47c9-91dd-6b5b1b1a5809/connections-sports-edition-6832.jpg?auto=webp&fit=crop&height=675&width=1200",
         "Today's NYT Connections: Sports Edition Hints and Answers for Nov. 17, #55",
         "https://www.cnet.com/tech/gaming/todays-nyt-connections-sports-edition-hints-and-answers-for-nov-17-55/",
         "Here's today's Connections: Sports Edition answer and hints for groups. These clues will help you solve The New York Times' popular puzzle game, Connections: Sports Edition, every day.",
         "sports"
        ],
        [
         "Ad469118",
         "https://www.cnet.com/a/img/resize/a51721727ac6b71b8d078d611ca37505b9006739/hub/2024/10/16/ae3b5078-3ced-47c9-91dd-6b5b1b1a5809/connections-sports-edition-6832.jpg?auto=webp&fit=crop&height=675&width=1200",
         "Today's NYT Connections: Sports Edition Hints and Answers for Nov. 15, #53",
         "https://www.cnet.com/tech/gaming/todays-nyt-connections-sports-edition-hints-and-answers-for-nov-15-53/",
         "Here's today's Connections: Sports Edition answer and hints for groups. These clues will help you solve The New York Times' popular puzzle game, Connections: Sports Edition, every day.",
         "sports"
        ],
        [
         "Ad469118",
         "https://www.cnet.com/a/img/resize/a51721727ac6b71b8d078d611ca37505b9006739/hub/2024/10/16/ae3b5078-3ced-47c9-91dd-6b5b1b1a5809/connections-sports-edition-6832.jpg?auto=webp&fit=crop&height=675&width=1200",
         "Today's NYT Connections: Sports Edition Hints and Answers for Nov. 30, #68",
         "https://www.cnet.com/tech/gaming/todays-nyt-connections-sports-edition-hints-and-answers-for-nov-30-68/",
         "Here's today's Connections: Sports Edition answer and hints for groups. These clues will help you solve The New York Times' popular puzzle game, Connections: Sports Edition, every day.",
         "sports"
        ],
        [
         "Ad469118",
         "https://www.cnet.com/a/img/resize/a51721727ac6b71b8d078d611ca37505b9006739/hub/2024/10/16/ae3b5078-3ced-47c9-91dd-6b5b1b1a5809/connections-sports-edition-6832.jpg?auto=webp&fit=crop&height=675&width=1200",
         "Today's NYT Connections: Sports Edition Hints and Answers for Nov. 25, #63",
         "https://www.cnet.com/tech/gaming/todays-nyt-connections-sports-edition-hints-and-answers-for-nov-25-63/",
         "Here's today's Connections: Sports Edition answer and hints for groups. These clues will help you solve The New York Times' popular puzzle game, Connections: Sports Edition, every day.",
         "sports"
        ],
        [
         "Ad469118",
         "https://cdn.vox-cdn.com/thumbor/etyf6_gaUPmtbLsBh7itwYBd39E=/0x0:2040x1360/1200x628/filters:focal(1020x680:1021x681)/cdn.vox-cdn.com/uploads/chorus_asset/file/25728924/STK133_BLUESKY__B.jpg",
         "Bluesky has been acting up today",
         "https://www.theverge.com/2024/11/14/24296537/bluesky-acting-up-outage-down",
         "Bluesky is growing quickly in popularity, but if you’re trying to use it today, the site might be acting up. For a little while, my feeds and notifications were very slow to load on the web and mobile while logged in.",
         "technology"
        ],
        [
         "Ad469118",
         "https://www.cnet.com/a/img/resize/a51721727ac6b71b8d078d611ca37505b9006739/hub/2024/10/16/ae3b5078-3ced-47c9-91dd-6b5b1b1a5809/connections-sports-edition-6832.jpg?auto=webp&fit=crop&height=675&width=1200",
         "Today's NYT Connections: Sports Edition Hints and Answers for Nov. 24, #62",
         "https://www.cnet.com/tech/gaming/todays-nyt-connections-sports-edition-hints-and-answers-for-nov-24-62/",
         "Here's today's Connections: Sports Edition answer and hints for groups. These clues will help you solve The New York Times' popular puzzle game, Connections: Sports Edition, every day.",
         "sports"
        ],
        [
         "Ad469118",
         "https://www.cnet.com/a/img/resize/a51721727ac6b71b8d078d611ca37505b9006739/hub/2024/10/16/ae3b5078-3ced-47c9-91dd-6b5b1b1a5809/connections-sports-edition-6832.jpg?auto=webp&fit=crop&height=675&width=1200",
         "Today's NYT Connections: Sports Edition Hints and Answers for Nov. 28, #66",
         "https://www.cnet.com/tech/gaming/todays-nyt-connections-sports-edition-hints-and-answers-for-nov-28-66/",
         "Here's today's Connections: Sports Edition answer and hints for groups. These clues will help you solve The New York Times' popular puzzle game, Connections: Sports Edition, every day.",
         "sports"
        ],
        [
         "Ad469118",
         "https://www.cnet.com/a/img/resize/a51721727ac6b71b8d078d611ca37505b9006739/hub/2024/10/16/ae3b5078-3ced-47c9-91dd-6b5b1b1a5809/connections-sports-edition-6832.jpg?auto=webp&fit=crop&height=675&width=1200",
         "Today's NYT Connections: Sports Edition Hints and Answers for Nov. 20, #58",
         "https://www.cnet.com/tech/gaming/todays-nyt-connections-sports-edition-hints-and-answers-for-nov-20-58/",
         "Here's today's Connections: Sports Edition answer and hints for groups. These clues will help you solve The New York Times' popular puzzle game, Connections: Sports Edition, every day.",
         "sports"
        ],
        [
         "Ad469118",
         "https://www.cnet.com/a/img/resize/a51721727ac6b71b8d078d611ca37505b9006739/hub/2024/10/16/ae3b5078-3ced-47c9-91dd-6b5b1b1a5809/connections-sports-edition-6832.jpg?auto=webp&fit=crop&height=675&width=1200",
         "Today's NYT Connections: Sports Edition Hints and Answers for Nov. 29, #67",
         "https://www.cnet.com/tech/gaming/todays-nyt-connections-sports-edition-hints-and-answers-for-nov-29-67/",
         "Here's today's Connections: Sports Edition answer and hints for groups. These clues will help you solve The New York Times' popular puzzle game, Connections: Sports Edition, every day.",
         "sports"
        ],
        [
         "Ad469118",
         "https://www.cnet.com/a/img/resize/a51721727ac6b71b8d078d611ca37505b9006739/hub/2024/10/16/ae3b5078-3ced-47c9-91dd-6b5b1b1a5809/connections-sports-edition-6832.jpg?auto=webp&fit=crop&height=675&width=1200",
         "Today's NYT Connections: Sports Edition Hints and Answers for Nov. 13, #51",
         "https://www.cnet.com/tech/gaming/todays-nyt-connections-sports-edition-hints-and-answers-for-nov-13-51/",
         "Here's today's Connections: Sports Edition answer and hints for groups. These clues will help you solve The New York Times' popular puzzle game, Connections: Sports Edition, every day.",
         "sports"
        ],
        [
         "Ad469118",
         "https://www.cnet.com/a/img/resize/a51721727ac6b71b8d078d611ca37505b9006739/hub/2024/10/16/ae3b5078-3ced-47c9-91dd-6b5b1b1a5809/connections-sports-edition-6832.jpg?auto=webp&fit=crop&height=675&width=1200",
         "Today's NYT Connections: Sports Edition Hints and Answers for Nov. 26, #64",
         "https://www.cnet.com/tech/gaming/todays-nyt-connections-sports-edition-hints-and-answers-for-nov-26-64/",
         "Here's today's Connections: Sports Edition answer and hints for groups. These clues will help you solve The New York Times' popular puzzle game, Connections: Sports Edition, every day.",
         "sports"
        ],
        [
         "Ad469118",
         "https://www.cnet.com/a/img/resize/a51721727ac6b71b8d078d611ca37505b9006739/hub/2024/10/16/ae3b5078-3ced-47c9-91dd-6b5b1b1a5809/connections-sports-edition-6832.jpg?auto=webp&fit=crop&height=675&width=1200",
         "Today's NYT Connections: Sports Edition Hints and Answers for Nov. 14, #52",
         "https://www.cnet.com/tech/gaming/todays-nyt-connections-sports-edition-hints-and-answers-for-nov-14-52/",
         "Here's today's Connections: Sports Edition answer and hints for groups. These clues will help you solve The New York Times' popular puzzle game, Connections: Sports Edition, every day.",
         "sports"
        ],
        [
         "Ad469118",
         "https://images.macrumors.com/t/KecnknybEVYQAn1VyV4jgWWR9Rg=/2500x/article-new/2024/06/visionOS-2-on-Apple-Vision-Pro-Feature.jpg",
         "visionOS 2.2 Adds Support for Watching Five Sports Games at Once With Multiview",
         "https://www.macrumors.com/2024/12/05/visionos-2-2-multiview-support/",
         "With the visionOS 2.2 update that's set to come out next week, Apple is introducing the promised Multiview feature that will let sports fans watch up to five games at once.\n\n\n\n\n\nThe Multiview feature for the Vision Pro works with MLS and MLB games, but other …",
         "sports"
        ],
        [
         "Ad469118",
         "https://www.cnet.com/a/img/resize/534e96a76cc95ffb8bf0a8f1dc59b9595df1b150/hub/2024/12/04/bb03defb-1804-4f01-9d62-d0f0d96fb5ae/gettyimages-2168981593.jpg?auto=webp&fit=crop&height=675&width=1200",
         "Premier League Soccer: Livestream Aston Villa vs. Brentford From Anywhere",
         "https://www.cnet.com/tech/services-and-software/premier-league-soccer-livestream-aston-villa-vs-brentford-from-anywhere/",
         "The Bees look to push further up the table against the out-of-form Villains.",
         "sports"
        ],
        [
         "Ad469118",
         "https://www.cnet.com/a/img/resize/947139a0cde855ff52a4d83c3263e7bf8ca0c451/hub/2024/11/13/b855031a-670e-45f8-ac94-4c71951764db/tyson-vs-paul-netflix-2.jpg?auto=webp&fit=crop&height=675&width=1200",
         "When to Stream the Mike Tyson vs. Jake Paul Boxing Match on Netflix",
         "https://www.cnet.com/tech/services-and-software/when-to-stream-the-mike-tyson-vs-jake-paul-boxing-match-on-netflix/",
         "The sports event will air live on the streaming service, and you can watch the weigh-in tonight.",
         "sports"
        ],
        [
         "Ad469118",
         "https://i.abcnewsfe.com/a/d944e838-b9a5-4e47-aa03-ec6bd5e692e4/linda-mcmahon-gty-jef-241120_1732130473470_hpMain_16x9.jpg?w=1600",
         "Linda McMahon's professional qualifications as Trump's choice for Dept. of Education",
         "https://abcnews.go.com/Politics/linda-mcmahons-background-trumps-pick-education-secretary/story?id=116058197",
         "Linda McMahon's background -- in both education and as a co-founder of sports entertainment company World Wrestling Entertainment, Inc. -- has come under scrutiny.",
         "sports"
        ],
        [
         "Ad469118",
         "https://i.abcnewsfe.com/a/d944e838-b9a5-4e47-aa03-ec6bd5e692e4/linda-mcmahon-gty-jef-241120_1732130473470_hpMain_16x9.jpg?w=1600",
         "Linda McMahon's professional qualifications as Trump's choice for Dept. of Education",
         "https://abcnews.go.com/Politics/linda-mcmahons-background-trumps-pick-education-secretary/story?id=116058197",
         "Linda McMahon's background -- in both education and as a co-founder of sports entertainment company World Wrestling Entertainment, Inc. -- has come under scrutiny.",
         "entertainment"
        ],
        [
         "Ad469118",
         "https://gizmodo.com/app/uploads/2024/11/airpods-pro-2-apple.jpg",
         "Apple’s AirPods Pro 2 Are Almost 40% Off, And This Is Not a Mistake In Pricing",
         "https://gizmodo.com/apples-airpods-pro-2-are-almost-40-off-and-this-is-not-a-mistake-pricing-2000528073",
         "At this price, it's truly a great deal.",
         "technology"
        ],
        [
         "Ad469118",
         "https://gizmodo.com/app/uploads/2024/11/airpods-pro-2-apple.jpg",
         "Apple’s AirPods Pro 2 Are Almost 40% Off, And This Is Not a Mistake In Pricing",
         "https://gizmodo.com/apples-airpods-pro-2-are-almost-40-off-and-this-is-not-a-mistake-in-pricing-2000528073",
         "At this price, it's truly a great deal.",
         "technology"
        ],
        [
         "Ad469118",
         "https://ichef.bbci.co.uk/news/1024/branded_sport/2db8/live/a5b50f80-b163-11ef-a0f2-fd81ae5962f4.jpg",
         "In Pictures: Sporting photos of the week",
         "https://www.bbc.com/sport/articles/cgm97pwx9l7o",
         "A selection of some of the most striking sports photographs taken around the world over the past seven days.",
         "sports"
        ],
        [
         "Ad469118",
         "https://ichef.bbci.co.uk/news/1024/branded_sport/28dd/live/9e6ed110-b0b0-11ef-8403-a73d519cc056.png",
         "Sports Personality shortlist announced on Monday",
         "https://www.bbc.com/sport/articles/c5ydl28lee1o",
         "The contenders for the 2024 BBC Sports Personality of the Year award will be announced on Monday.",
         "sports"
        ],
        [
         "Ad469118",
         null,
         "Luxury sports car splits in half during deadly collision in Texas, killing its 2 occupants",
         "https://consent.yahoo.com/v2/collectConsent?sessionId=1_cc-session_e76614a8-9fc9-49c1-9d04-2ddb0a3db31b",
         "",
         "sports"
        ],
        [
         "Ad469118",
         "https://media.wired.com/photos/673f641cc8e4183a9d1d5376/191:100/w_1280,c_limit/WW25-Technology-MW-Carmen-Casado.jpg",
         "The Beginning of the End of Big Tech",
         "https://www.wired.com/story/the-beginning-of-the-end-of-big-tech/",
         "From politicians to VC firms, everyone is falling out of love with the massive, money-oriented, global technology titans. In their place, we have the chance to build something open and trustworthy.",
         "technology"
        ],
        [
         "Ad469118",
         "https://i.insider.com/67357889fa0140cdd56343c2?width=1200&format=jpeg",
         "Saudi Arabia is trying to build a mega-city in the desert. Now, Neom is dialing back plans for its first stage.",
         "https://www.businessinsider.com/neom-refocuses-sports-athletics-world-cup-construction-slow-costly-ceo-2024-11",
         "The authoritarian country is spending billions on international athletics, from Formula 1 to combat sports, to boost its bottom line and image.",
         "sports"
        ],
        [
         "Ad469118",
         "https://gizmodo.com/app/uploads/2024/11/macbook-pro.jpg",
         "Apple Has Lost Its Mind: The Newest MacBook Pros M4 Are at a Record Low on Amazon",
         "https://gizmodo.com/apple-has-lost-its-mind-the-newest-macbook-pros-m4-are-at-a-record-low-on-amazon-2000531735",
         "We've never seen such a big discount on a MacBook Pro that was just released a month ago.",
         "technology"
        ],
        [
         "Ad469118",
         "https://www.cnet.com/a/img/resize/6e6108d88bd42f960c7c826d6acab661b3bdc551/hub/2024/11/22/11bb6017-b4f7-42f2-baad-8697a497ced0/gettyimages-2184772553.jpg?auto=webp&fit=crop&height=675&width=1200",
         "Premier League Soccer: Livestream Ipswich vs. Man United From Anywhere",
         "https://www.cnet.com/tech/services-and-software/premier-league-soccer-livestream-ipswich-vs-man-united-from-anywhere/",
         "It's Ruben Amorim's first game in charge of the Red Devils.",
         "sports"
        ],
        [
         "Ad469118",
         "https://venturebeat.com/wp-content/uploads/2024/11/fifa-rivals.jpg?w=1024?w=1200&strip=all",
         "Mythical Games teams with FIFA to make Web3 mobile soccer game FIFA Rivals",
         "https://venturebeat.com/games/mythical-games-teams-with-fifa-to-make-web3-mobile-soccer-game-fifa-rivals/",
         "FIFA and game maker Mythical Games are teaming up on FIFA Rivals, a Web3 mobile game that is licensed from the global sports group.",
         "sports"
        ],
        [
         "Ad469118",
         "https://platform.polygon.com/wp-content/uploads/sites/2/2024/10/ComicCon_Final.jpg?quality=90&strip=all&crop=0%2C10.732984293194%2C100%2C78.534031413613&w=1200",
         "Comic-Con-alternative CCXP has harnessed a growing phenomenon",
         "https://www.polygon.com/comics/473178/ccxp-is-the-new-comic-con",
         "Each time CCXP starts, nearly everyone in São Paulo feels it. A 40-minute drive to the São Paulo Expo convention center can suddenly take three hours with traffic. Some attendees travel over 1,800 miles to watch as many panels as possible at the entertainment…",
         "entertainment"
        ],
        [
         "Ad469118",
         "https://i.insider.com/6746345afa0140cdd565aace?width=1200&format=jpeg",
         "ExpressVPN Black Friday deals 2024: Over 50% off one and two-year plans",
         "https://www.businessinsider.com/guides/deals/expressvpn-black-friday-deals-2024-11",
         "The ExpressVPN Black Friday deals are here, and you can get up to six months free.",
         "entertainment"
        ],
        [
         "Ad469118",
         "https://www.journaldugeek.com/app/uploads/2024/11/Home-Sports.jpg",
         "Home Sports : Meta présente son Wii Sports en réalité mixte",
         "https://www.journaldugeek.com/2024/11/26/home-sports-meta-presente-wii-sports-realite-mixte/",
         "Les Meta Quest 3 et 3S vont accueillir un jeu en réalité mixte nommé Home Sports. Le titre développé par Resolution Games s'inspire de l'illustre Wii Sports.",
         "sports"
        ],
        [
         "Ad469118",
         "https://media.wired.com/photos/67463628671a7dccda4be1ef/191:100/w_1280,c_limit/Drake-Lawsuit-Kendrick-Culture-1368406520.jpg",
         "Drake May Soon Find Out If the Law Can Settle a Rap Beef",
         "https://www.wired.com/story/drake-kendrick-lamar-beef-legal-umg-spotify-iheartradio/",
         "Drake and Kendrick Lamar's ongoing feud has mostly been a war of words, fought online. With several court filings this week, Drake aimed to take it to a different venue.",
         "technology"
        ],
        [
         "Ad469118",
         "https://npr.brightspotcdn.com/dims3/default/strip/false/crop/6000x3375+0+313/resize/1400/quality/100/format/jpeg/?url=http%3A%2F%2Fnpr-brightspot.s3.amazonaws.com%2F60%2Fa8%2F2fad0eea4cf194dee626563c4456%2Fgettyimages-2184076331.jpg",
         "The NWSL rides a 'rocket ship' of interest in women's sports to a record-setting year",
         "https://www.npr.org/2024/11/16/g-s1-34468/nwsl-playoffs-attendance-ratings",
         "Across the board, 2024 was a record year for women's sports. The WNBA saw record audiences. In college basketball, the women's March Madness tournament outdrew the men's. The NWSL was no exception.",
         "sports"
        ],
        [
         "Ad469118",
         "https://gizmodo.com/app/uploads/2024/11/galaxy-buds3-pro.jpg",
         "The Galaxy Buds 3 Pro Are 56% Off, as Samsung Clears Its Stock on Day 1 of Black Friday",
         "https://gizmodo.com/the-galaxy-buds-3-pro-are-56-off-as-samsung-clears-its-stock-on-day-1-of-black-friday-2000528280",
         "For just $114, you can buy the Galaxy Buds 3 Pro which have been awarded Gizmodo Editor's Choice.",
         "technology"
        ],
        [
         "Ad469118",
         "https://platform.polygon.com/wp-content/uploads/sites/2/2024/11/shuhei-yoshida.jpg?quality=90&strip=all&crop=0,3.4613147178592,100,93.077370564282",
         "Shuhei Yoshida is the soul of PlayStation. What does his departure mean for Sony?",
         "https://www.polygon.com/analysis/486140/shuhei-yoshida-leaves-playstation-sony",
         "Shuhei Yoshida, the popular PlayStation executive, has announced that he will leave Sony Interactive Entertainment on Jan. 15, 2025. At that point, he’ll be just shy of his 32nd anniversary with the company, having joined in early 1993 when the first PlayStat…",
         "entertainment"
        ],
        [
         "Ad469118",
         "https://cdn.vox-cdn.com/thumbor/O9EYOriTeCNsR-duTY6Ip0x43AU=/0x0:7144x4762/1200x628/filters:focal(3572x2381:3573x2382)/cdn.vox-cdn.com/uploads/chorus_asset/file/25739364/2184281898.jpg",
         "NBA settles with WBD as it prepares to stream games on Amazon in 2025",
         "https://www.theverge.com/2024/11/18/24299485/nba-wbd-max-sports-live-streaming-amazon-2025",
         "Warner Bros. Discovery will settle its lawsuit against the NBA as it reaches a new deal that moves Inside the NBA to ESPN next year.",
         "sports"
        ],
        [
         "Ad469118",
         "https://gizmodo.com/app/uploads/2024/11/A-laboratory-worker.jpg",
         "Life Extension Could Be a Threat to Human Existence",
         "https://gizmodo.com/life-extension-could-be-a-threat-to-human-existence-2000529903",
         "Would higher taxes on Earth's elite be more beneficial to the global population's health than all the life-extension science Bezos billions can fund?",
         "technology"
        ],
        [
         "Ad469118",
         "https://gizmodo.com/app/uploads/2024/09/delta2.jpg",
         "The EcoFlow Delta 2 Battery Is $399 Down From $999, Amazon Is Going All In For Black Friday",
         "https://gizmodo.com/the-ecoflow-delta-2-battery-is-399-down-from-999-amazon-is-going-all-in-for-black-friday-2000532060",
         "This portable battery can save your life, and anyone can easily use it.",
         "technology"
        ],
        [
         "SU606820",
         "",
         "Why Soccer Players Are Training in the Dark",
         "https://www.wired.com/story/why-soccer-players-are-training-in-the-dark-okkolo-football-sunderland-leeds-united-neuroscience/",
         "Sports science company Okkulo has shown that its specially lit training environment can improve players’ visual-motor skills—and a growing number of sports are starting to test it out.",
         "sports"
        ],
        [
         "SU606820",
         "",
         "Why Soccer Players Are Training in the Dark",
         "https://www.wired.com/story/why-soccer-players-are-training-in-the-dark-okkolo-football-sunderland-leeds-united-neuroscience/",
         "Sports science company Okkulo has shown that its specially lit training environment can improve players’ visual-motor skills—and a growing number of sports are starting to test it out.",
         "technology"
        ],
        [
         "SU606820",
         "https://a1.espncdn.com/combiner/i?img=%2Fphoto%2F2018%2F1023%2Fr451750_640x360_16%2D9.jpg",
         "FanDuel, MLBPA settle player likenesses lawsuit",
         "https://www.espn.com/mlb/story/_/id/42409158/fanduel-settles-mlb-lawsuit-use-player-likenesses",
         "Major League Baseball's players union settled a lawsuit that accused sports betting giant FanDuel of using the names and likenesses of hundreds of MLB players on its betting platform without permission.",
         "sports"
        ],
        [
         "SU606820",
         "https://venturebeat.com/wp-content/uploads/2024/11/Ascend-23-Loupe.png?w=1024?w=1200&strip=all",
         "Live commerce is the new sports bar: Loupe is the preferred late-night hangout for sports fans and collectors",
         "https://venturebeat.com/business/live-commerce-is-the-new-sports-bar-loupe-is-the-preferred-late-night-hangout-for-sports-fans-and-collectors/",
         "CONTRIBUTOR CONTENT: Live commerce and the sports collectibles industries are both booming. There’s one place that sports fans are all going after work and no, it’s not the nearest sports bar. At night, fans are flocking to Loupe, where they can extend the ga…",
         "sports"
        ],
        [
         "SU606820",
         "https://content.artofmanliness.com/uploads/2024/11/gamble.jpg",
         "Podcast #1,044: What Sports Betting Is Really Doing to Players, Games, and Fans",
         "https://www.artofmanliness.com/character/behavior/podcast-1044-what-sports-betting-is-really-doing-to-players-games-and-fans/",
         "Sports gambling has exploded in America. You can’t watch a game today without being bombarded by ads from betting companies, often co-branded with the major sports leagues themselves. It’s a dramatic shift from just seven years ago, when these same leagues we…",
         "sports"
        ],
        [
         "SU606820",
         "https://gizmodo.com/app/uploads/2024/12/J-Studios.jpg",
         "Landlords Are Using AI to Raise Rents—and Cities Are Starting to Push Back",
         "https://gizmodo.com/landlords-are-using-ai-to-raise-rents-and-cities-are-starting-to-push-back-2000535519",
         "AI is a plaque upon housing in America.",
         "technology"
        ],
        [
         "SU606820",
         "https://gizmodo.com/app/uploads/2024/12/OpenAI-CEO-Sam-Altman-on-Fox-News.jpg",
         "OpenAI Continues Its Mission of ‘Ethical’ AI by Partnering With a Killer Robot Company",
         "https://gizmodo.com/openai-continues-its-mission-of-ethical-ai-by-partnering-with-a-killer-robot-company-2000534515",
         "It's a weird look for a company that has claimed that it wants to make AI \"safe for everyone.\"",
         "technology"
        ],
        [
         "SU606820",
         null,
         "Meta wants its Llama AI in Britain’s public healthcare system",
         "https://consent.yahoo.com/v2/collectConsent?sessionId=1_cc-session_b19bd6f4-2654-465b-abec-7e69582cd26b",
         "Meta is making a pitch to get its AI into the UK’s public health system. The Guardian reported on Tuesday that the company held a hackathon in Europe, tasking over 200 developers to use its Llama AI to improve the country’s health services. The company awarde…",
         "health"
        ],
        [
         "SU606820",
         "https://static1.anpoimages.com/wordpress/wp-content/uploads/wm/2024/02/img_1576.jpg",
         "ESPN brings sports to Disney Plus, completing the bundle with Hulu",
         "https://www.androidpolice.com/you-can-now-access-espn-content-from-disney-app/",
         "Now Disney+ has something for sports fans once the kids are asleep",
         "sports"
        ],
        [
         "SU606820",
         "https://ichef.bbci.co.uk/news/1024/branded_news/ba3b/live/a86ea4d0-b743-11ef-b631-b5f63aa48be1.jpg",
         "Increased vet burden creates animal welfare concerns",
         "https://www.bbc.com/news/articles/c1d34ezvxp2o",
         "While the number of vets in Wales has increased, the number of pets has at a far higher pace.",
         "health"
        ],
        [
         "SU606820",
         "https://ichef.bbci.co.uk/news/1024/branded_news/33d2/live/c76fa200-a1b1-11ef-897a-cfb3ce396193.jpg",
         "One in three T-level students drop out of health course",
         "https://www.bbc.com/news/articles/cy4g04j1l9xo",
         "Many health and science T-level students dropped out after an exam board sent out botched exam papers in 2022.",
         "health"
        ],
        [
         "SU606820",
         "https://i.insider.com/673e2500192f525898599dfd?width=1200&format=jpeg",
         "A FIRE blogger decided to test the benefits of the popular triple-tax advantaged HSA. He explains why it wasn't worth the hassle and wants to switch health insurance plans in 2025.",
         "https://www.businessinsider.com/financial-independence-blogger-switched-to-hdhp-hsa-health-insurance-plan-2024-11",
         "Andre Nader switched from an EPO health insurance plan to an HDHP to take advantage of an HSA. Despite the tax benefits, it wasn't worth it for him.",
         "health"
        ],
        [
         "SU606820",
         "https://a1.espncdn.com/combiner/i?img=%2Fphoto%2F2024%2F1117%2Fr1415930_1296x729_16%2D9.jpg",
         "'Inside the NBA' moving to ESPN, ABC next season",
         "https://www.espn.com/nba/story/_/id/42464696/inside-nba-appear-espn-abc-next-season",
         "\"Inside the NBA,\" which has won 21 Sports Emmy Awards, will appear on ESPN and ABC starting next season through a partnership with TNT Sports and the NBA.",
         "sports"
        ],
        [
         "SU606820",
         "https://ichef.bbci.co.uk/news/1024/branded_news/4a6e/live/9fe2dfe0-a10c-11ef-9d70-9564a3cc52f2.jpg",
         "Number of homeless people in Wales at record high",
         "https://www.bbc.com/news/articles/cm27e2gn515o",
         "Charmaine, 38, has been waiting to move for two years and it is affecting her mental health.",
         "health"
        ],
        [
         "SU606820",
         "https://i.insider.com/674113b1ede4eeae39292e6b?width=1200&format=jpeg",
         "Are seed oils toxic? It's complicated — here's what you need to know about the war over dietary fats",
         "https://www.businessinsider.com/are-seed-oils-dangerous-for-your-health-inflammation-evidence-2024-11",
         "Some health influencers say golden-hued vegetable oils like canola are bad for you. It's complicated. Here's the science.",
         "health"
        ],
        [
         "SU606820",
         "https://cdn.vox-cdn.com/thumbor/E2RoDalncTnPdUrncx4kP01lnYw=/0x0:1440x810/1200x628/filters:focal(720x405:721x406)/cdn.vox-cdn.com/uploads/chorus_asset/file/25756939/Home_Sports.jpg",
         "Meta’s mixed-reality attempt at a Wii Sports knockoff is coming",
         "https://www.theverge.com/2024/11/25/24305847/meta-quest-home-sports-vr-mr-tennis-bowling-hockey-game",
         "Home Sports is a cartoonish collection of games like bowling, badminton, and mini-golf, that can be played on Meta’s Quest 3 and 3S headsets.",
         "sports"
        ],
        [
         "SU606820",
         "https://cdn.vox-cdn.com/thumbor/E2RoDalncTnPdUrncx4kP01lnYw=/0x0:1440x810/1200x628/filters:focal(720x405:721x406)/cdn.vox-cdn.com/uploads/chorus_asset/file/25756939/Home_Sports.jpg",
         "Meta’s mixed-reality attempt at a Wii Sports knockoff is coming",
         "https://www.theverge.com/2024/11/25/24305847/meta-quest-home-sports-vr-mr-tennis-bowling-hockey-game",
         "Home Sports is a cartoonish collection of games like bowling, badminton, and mini-golf, that can be played on Meta’s Quest 3 and 3S headsets.",
         "entertainment"
        ],
        [
         "SU606820",
         "https://gizmodo.com/app/uploads/2024/11/Wegovy-1.jpg",
         "A Staggering Number of U.S. Adults Are Eligible for Ozempic, Study Finds",
         "https://gizmodo.com/a-staggering-number-of-u-s-adults-are-eligible-for-ozempic-study-finds-2000526418",
         "A groundbreaking Harvard study reveals that semaglutide could benefit more people in the U.S. than ever imagined.",
         "health"
        ],
        [
         "SU606820",
         "https://seths.blog/wp-content/uploads/2018/06/seth_godin_ogimages_v02_18061316.jpg",
         "When the media is ready (Bongo part 2)",
         "https://seths.blog/2024/11/when-the-media-is-ready-bongo-part-2/",
         "Media isn’t a magazine or a website. It’s a system. We can learn to see the system and contribute to it with leverage. There are three elements to consider in a media system that’s worth a professional creator’s time: Systems are changed by technology. When d…",
         "technology"
        ],
        [
         "SU606820",
         "https://ichef.bbci.co.uk/news/1024/branded_news/cd4e/live/e10b0380-b1bf-11ef-8613-eb846c2a010c.jpg",
         "Hospice leaders warn hundreds of beds out of use",
         "https://www.bbc.com/news/articles/clykz68zexpo",
         "A lack of funding and staff are blamed as hospices close beds permanently or take them out of use.",
         "health"
        ],
        [
         "SU606820",
         "https://content.artofmanliness.com/uploads/2024/11/run-thumb-2.jpg",
         "Podcast #1,040: Tribal Runners, Weekend Warriors, and Our Changing Relationship to Endurance Sports",
         "https://www.artofmanliness.com/health-fitness/fitness/podcast-1040-tribal-runners-weekend-warriors-and-our-changing-relationship-to-endurance-sports/",
         "Endurance activities, like distance running, have existed since ancient times. But humans’ relationship to those pursuits has changed, according to time and place. In the West, we’ve currently turned endurance sports into a science — tracking every metric and…",
         "sports"
        ],
        [
         "SU606820",
         "https://gizmodo.com/app/uploads/2024/11/wallace-and-gromit-vengeance-most-fowl-set-visit-interview-aardman.jpg",
         "How Aardman Mixed Past and Future in Its Return to Wallace and Gromit",
         "https://gizmodo.com/wallace-and-gromit-vengeance-most-fowl-netflix-set-visit-nick-park-merlin-crossingham-2000527162",
         "Ahead of its release on Netflix January 3, io9 visited the set of Vengeance Most Fowl to see why now is Aardman's time to return to Wallace and Gromit.",
         "technology"
        ],
        [
         "SU606820",
         "https://www.cnet.com/a/img/resize/a51721727ac6b71b8d078d611ca37505b9006739/hub/2024/10/16/ae3b5078-3ced-47c9-91dd-6b5b1b1a5809/connections-sports-edition-6832.jpg?auto=webp&fit=crop&height=675&width=1200",
         "Today's NYT Connections: Sports Edition Hints and Answers for Dec. 3, #71",
         "https://www.cnet.com/tech/gaming/todays-nyt-connections-sports-edition-hints-and-answers-for-dec-3-71/",
         "Here's today's Connections: Sports Edition answer and hints for groups. These clues will help you solve The New York Times' popular puzzle game, Connections: Sports Edition, every day.",
         "sports"
        ],
        [
         "SU606820",
         "https://www.cnet.com/a/img/resize/a51721727ac6b71b8d078d611ca37505b9006739/hub/2024/10/16/ae3b5078-3ced-47c9-91dd-6b5b1b1a5809/connections-sports-edition-6832.jpg?auto=webp&fit=crop&height=675&width=1200",
         "Today's NYT Connections: Sports Edition Hints and Answers for Dec. 5, #73",
         "https://www.cnet.com/tech/gaming/todays-nyt-connections-sports-edition-hints-and-answers-for-dec-5-73/",
         "Here's today's Connections: Sports Edition answer and hints for groups. These clues will help you solve The New York Times' popular puzzle game, Connections: Sports Edition, every day.",
         "sports"
        ],
        [
         "SU606820",
         "https://www.cnet.com/a/img/resize/a51721727ac6b71b8d078d611ca37505b9006739/hub/2024/10/16/ae3b5078-3ced-47c9-91dd-6b5b1b1a5809/connections-sports-edition-6832.jpg?auto=webp&fit=crop&height=675&width=1200",
         "Today's NYT Connections: Sports Edition Hints and Answers for Dec. 4, #72",
         "https://www.cnet.com/tech/gaming/todays-nyt-connections-sports-edition-hints-and-answers-for-dec-4-72/",
         "Here's today's Connections: Sports Edition answer and hints for groups. These clues will help you solve The New York Times' popular puzzle game, Connections: Sports Edition, every day.",
         "sports"
        ],
        [
         "SU606820",
         "https://www.cnet.com/a/img/resize/a51721727ac6b71b8d078d611ca37505b9006739/hub/2024/10/16/ae3b5078-3ced-47c9-91dd-6b5b1b1a5809/connections-sports-edition-6832.jpg?auto=webp&fit=crop&height=675&width=1200",
         "Today's NYT Connections: Sports Edition Hints and Answers for Dec. 6, #74",
         "https://www.cnet.com/tech/gaming/todays-nyt-connections-sports-edition-hints-and-answers-for-dec-6-74/",
         "Here's today's Connections: Sports Edition answer and hints for groups. These clues will help you solve The New York Times' popular puzzle game, Connections: Sports Edition, every day.",
         "sports"
        ],
        [
         "SU606820",
         "https://www.cnet.com/a/img/resize/a51721727ac6b71b8d078d611ca37505b9006739/hub/2024/10/16/ae3b5078-3ced-47c9-91dd-6b5b1b1a5809/connections-sports-edition-6832.jpg?auto=webp&fit=crop&height=675&width=1200",
         "Today's NYT Connections: Sports Edition Hints and Answers for Nov. 17, #55",
         "https://www.cnet.com/tech/gaming/todays-nyt-connections-sports-edition-hints-and-answers-for-nov-17-55/",
         "Here's today's Connections: Sports Edition answer and hints for groups. These clues will help you solve The New York Times' popular puzzle game, Connections: Sports Edition, every day.",
         "sports"
        ],
        [
         "SU606820",
         "https://www.cnet.com/a/img/resize/a51721727ac6b71b8d078d611ca37505b9006739/hub/2024/10/16/ae3b5078-3ced-47c9-91dd-6b5b1b1a5809/connections-sports-edition-6832.jpg?auto=webp&fit=crop&height=675&width=1200",
         "Today's NYT Connections: Sports Edition Hints and Answers for Nov. 15, #53",
         "https://www.cnet.com/tech/gaming/todays-nyt-connections-sports-edition-hints-and-answers-for-nov-15-53/",
         "Here's today's Connections: Sports Edition answer and hints for groups. These clues will help you solve The New York Times' popular puzzle game, Connections: Sports Edition, every day.",
         "sports"
        ],
        [
         "SU606820",
         "https://www.cnet.com/a/img/resize/a51721727ac6b71b8d078d611ca37505b9006739/hub/2024/10/16/ae3b5078-3ced-47c9-91dd-6b5b1b1a5809/connections-sports-edition-6832.jpg?auto=webp&fit=crop&height=675&width=1200",
         "Today's NYT Connections: Sports Edition Hints and Answers for Nov. 25, #63",
         "https://www.cnet.com/tech/gaming/todays-nyt-connections-sports-edition-hints-and-answers-for-nov-25-63/",
         "Here's today's Connections: Sports Edition answer and hints for groups. These clues will help you solve The New York Times' popular puzzle game, Connections: Sports Edition, every day.",
         "sports"
        ],
        [
         "SU606820",
         "https://www.cnet.com/a/img/resize/a51721727ac6b71b8d078d611ca37505b9006739/hub/2024/10/16/ae3b5078-3ced-47c9-91dd-6b5b1b1a5809/connections-sports-edition-6832.jpg?auto=webp&fit=crop&height=675&width=1200",
         "Today's NYT Connections: Sports Edition Hints and Answers for Nov. 30, #68",
         "https://www.cnet.com/tech/gaming/todays-nyt-connections-sports-edition-hints-and-answers-for-nov-30-68/",
         "Here's today's Connections: Sports Edition answer and hints for groups. These clues will help you solve The New York Times' popular puzzle game, Connections: Sports Edition, every day.",
         "sports"
        ],
        [
         "SU606820",
         "https://www.cnet.com/a/img/resize/a51721727ac6b71b8d078d611ca37505b9006739/hub/2024/10/16/ae3b5078-3ced-47c9-91dd-6b5b1b1a5809/connections-sports-edition-6832.jpg?auto=webp&fit=crop&height=675&width=1200",
         "Today's NYT Connections: Sports Edition Hints and Answers for Nov. 24, #62",
         "https://www.cnet.com/tech/gaming/todays-nyt-connections-sports-edition-hints-and-answers-for-nov-24-62/",
         "Here's today's Connections: Sports Edition answer and hints for groups. These clues will help you solve The New York Times' popular puzzle game, Connections: Sports Edition, every day.",
         "sports"
        ],
        [
         "SU606820",
         "https://www.cnet.com/a/img/resize/a51721727ac6b71b8d078d611ca37505b9006739/hub/2024/10/16/ae3b5078-3ced-47c9-91dd-6b5b1b1a5809/connections-sports-edition-6832.jpg?auto=webp&fit=crop&height=675&width=1200",
         "Today's NYT Connections: Sports Edition Hints and Answers for Nov. 26, #64",
         "https://www.cnet.com/tech/gaming/todays-nyt-connections-sports-edition-hints-and-answers-for-nov-26-64/",
         "Here's today's Connections: Sports Edition answer and hints for groups. These clues will help you solve The New York Times' popular puzzle game, Connections: Sports Edition, every day.",
         "sports"
        ],
        [
         "SU606820",
         "https://www.cnet.com/a/img/resize/a51721727ac6b71b8d078d611ca37505b9006739/hub/2024/10/16/ae3b5078-3ced-47c9-91dd-6b5b1b1a5809/connections-sports-edition-6832.jpg?auto=webp&fit=crop&height=675&width=1200",
         "Today's NYT Connections: Sports Edition Hints and Answers for Nov. 20, #58",
         "https://www.cnet.com/tech/gaming/todays-nyt-connections-sports-edition-hints-and-answers-for-nov-20-58/",
         "Here's today's Connections: Sports Edition answer and hints for groups. These clues will help you solve The New York Times' popular puzzle game, Connections: Sports Edition, every day.",
         "sports"
        ],
        [
         "SU606820",
         "https://www.cnet.com/a/img/resize/a51721727ac6b71b8d078d611ca37505b9006739/hub/2024/10/16/ae3b5078-3ced-47c9-91dd-6b5b1b1a5809/connections-sports-edition-6832.jpg?auto=webp&fit=crop&height=675&width=1200",
         "Today's NYT Connections: Sports Edition Hints and Answers for Nov. 28, #66",
         "https://www.cnet.com/tech/gaming/todays-nyt-connections-sports-edition-hints-and-answers-for-nov-28-66/",
         "Here's today's Connections: Sports Edition answer and hints for groups. These clues will help you solve The New York Times' popular puzzle game, Connections: Sports Edition, every day.",
         "sports"
        ],
        [
         "SU606820",
         "https://www.cnet.com/a/img/resize/a51721727ac6b71b8d078d611ca37505b9006739/hub/2024/10/16/ae3b5078-3ced-47c9-91dd-6b5b1b1a5809/connections-sports-edition-6832.jpg?auto=webp&fit=crop&height=675&width=1200",
         "Today's NYT Connections: Sports Edition Hints and Answers for Nov. 13, #51",
         "https://www.cnet.com/tech/gaming/todays-nyt-connections-sports-edition-hints-and-answers-for-nov-13-51/",
         "Here's today's Connections: Sports Edition answer and hints for groups. These clues will help you solve The New York Times' popular puzzle game, Connections: Sports Edition, every day.",
         "sports"
        ],
        [
         "SU606820",
         "https://www.cnet.com/a/img/resize/a51721727ac6b71b8d078d611ca37505b9006739/hub/2024/10/16/ae3b5078-3ced-47c9-91dd-6b5b1b1a5809/connections-sports-edition-6832.jpg?auto=webp&fit=crop&height=675&width=1200",
         "Today's NYT Connections: Sports Edition Hints and Answers for Nov. 29, #67",
         "https://www.cnet.com/tech/gaming/todays-nyt-connections-sports-edition-hints-and-answers-for-nov-29-67/",
         "Here's today's Connections: Sports Edition answer and hints for groups. These clues will help you solve The New York Times' popular puzzle game, Connections: Sports Edition, every day.",
         "sports"
        ],
        [
         "SU606820",
         "https://www.cnet.com/a/img/resize/a51721727ac6b71b8d078d611ca37505b9006739/hub/2024/10/16/ae3b5078-3ced-47c9-91dd-6b5b1b1a5809/connections-sports-edition-6832.jpg?auto=webp&fit=crop&height=675&width=1200",
         "Today's NYT Connections: Sports Edition Hints and Answers for Nov. 14, #52",
         "https://www.cnet.com/tech/gaming/todays-nyt-connections-sports-edition-hints-and-answers-for-nov-14-52/",
         "Here's today's Connections: Sports Edition answer and hints for groups. These clues will help you solve The New York Times' popular puzzle game, Connections: Sports Edition, every day.",
         "sports"
        ],
        [
         "SU606820",
         "https://gizmodo.com/app/uploads/2024/09/airtags-apple.jpg",
         "Amazon Is Clearing Out AirTags This Cyber Monday, Now at a Record Low Price Until They Sell Out",
         "https://gizmodo.com/amazon-is-clearing-out-airtags-this-cyber-monday-now-at-a-record-low-price-until-they-sell-out-2000532478",
         "AirTags are the perfect gift for the holiday season.",
         "technology"
        ],
        [
         "SU606820",
         "https://cdn.vox-cdn.com/thumbor/YavtHu47GBXbFJeKLrxkZwo474E=/0x0:2040x1360/1200x628/filters:focal(1020x680:1021x681)/cdn.vox-cdn.com/uploads/chorus_asset/file/24774110/STK156_Instagram_threads_1.jpg",
         "Threads’ custom feeds are already rolling out",
         "https://www.theverge.com/2024/11/20/24301587/threads-custom-feeds-rolling-out",
         "Just five days after Meta started testing custom feeds in Threads, the company is already rolling them out to everyone. Bluesky also has custom feeds.",
         "technology"
        ],
        [
         "SU606820",
         "https://ichef.bbci.co.uk/news/1024/branded_sport/28dd/live/9e6ed110-b0b0-11ef-8403-a73d519cc056.png",
         "Sports Personality shortlist announced on Monday",
         "https://www.bbc.com/sport/articles/c5ydl28lee1o",
         "The contenders for the 2024 BBC Sports Personality of the Year award will be announced on Monday.",
         "sports"
        ],
        [
         "SU606820",
         "https://images.macrumors.com/t/KecnknybEVYQAn1VyV4jgWWR9Rg=/2500x/article-new/2024/06/visionOS-2-on-Apple-Vision-Pro-Feature.jpg",
         "visionOS 2.2 Adds Support for Watching Five Sports Games at Once With Multiview",
         "https://www.macrumors.com/2024/12/05/visionos-2-2-multiview-support/",
         "With the visionOS 2.2 update that's set to come out next week, Apple is introducing the promised Multiview feature that will let sports fans watch up to five games at once.\n\n\n\n\n\nThe Multiview feature for the Vision Pro works with MLS and MLB games, but other …",
         "sports"
        ],
        [
         "SU606820",
         "https://images.macrumors.com/t/gSfA9gdPJTtAYv_7hjK9YByevcM=/2500x/article-new/2024/07/Safari-Technology-Preview-Updated-Feature-1.jpg",
         "Apple Releases Safari Technology Preview 208 With Bug Fixes and Performance Improvements",
         "https://www.macrumors.com/2024/11/21/apple-releases-safari-technology-preview-208/",
         "Apple today released a new update for Safari Technology Preview, the experimental browser that was first introduced in March 2016. Apple designed ‌Safari Technology Preview‌ to allow users to test features that are planned for future release versions of the S…",
         "technology"
        ],
        [
         "SU606820",
         "https://ichef.bbci.co.uk/news/1024/branded_news/c449/live/45b11db0-ab30-11ef-8d14-b38ce06af7f3.jpg",
         "New cash for job centres in plan to boost workforce",
         "https://www.bbc.com/news/articles/cqxwv3n87g4o",
         "The government reveals a £240m investment plan to increase the number of people working in Britain.",
         "health"
        ],
        [
         "SU606820",
         "https://gizmodo.com/app/uploads/2024/12/The-Enron-sign.jpg",
         "Is Enron Coming Back as a Crypto Company?",
         "https://gizmodo.com/is-enron-coming-back-as-a-crypto-company-2000533233",
         "The scandal ridden company is said to be mounting a comeback, but evidence points in the direction of a large practical joke.",
         "technology"
        ],
        [
         "SU606820",
         "https://gizmodo.com/app/uploads/2024/12/The-Enron-sign.jpg",
         "Is Enron Coming Back as a Crypto Company?",
         "https://gizmodo.com/is-enron-coming-back-as-a-crypto-company-2000533233",
         "The scandal ridden company is said to be mounting a comeback, but evidence points in the direction of a large practical joke.",
         "entertainment"
        ],
        [
         "SU606820",
         "https://cdn.vox-cdn.com/thumbor/etyf6_gaUPmtbLsBh7itwYBd39E=/0x0:2040x1360/1200x628/filters:focal(1020x680:1021x681)/cdn.vox-cdn.com/uploads/chorus_asset/file/25728924/STK133_BLUESKY__B.jpg",
         "Bluesky has been acting up today",
         "https://www.theverge.com/2024/11/14/24296537/bluesky-acting-up-outage-down",
         "Bluesky is growing quickly in popularity, but if you’re trying to use it today, the site might be acting up. For a little while, my feeds and notifications were very slow to load on the web and mobile while logged in.",
         "technology"
        ],
        [
         "SU606820",
         null,
         "Luxury sports car splits in half during deadly collision in Texas, killing its 2 occupants",
         "https://consent.yahoo.com/v2/collectConsent?sessionId=1_cc-session_e76614a8-9fc9-49c1-9d04-2ddb0a3db31b",
         "",
         "sports"
        ],
        [
         "SU606820",
         "https://www.cnet.com/a/img/resize/534e96a76cc95ffb8bf0a8f1dc59b9595df1b150/hub/2024/12/04/bb03defb-1804-4f01-9d62-d0f0d96fb5ae/gettyimages-2168981593.jpg?auto=webp&fit=crop&height=675&width=1200",
         "Premier League Soccer: Livestream Aston Villa vs. Brentford From Anywhere",
         "https://www.cnet.com/tech/services-and-software/premier-league-soccer-livestream-aston-villa-vs-brentford-from-anywhere/",
         "The Bees look to push further up the table against the out-of-form Villains.",
         "sports"
        ],
        [
         "SU606820",
         "https://www.cnet.com/a/img/resize/947139a0cde855ff52a4d83c3263e7bf8ca0c451/hub/2024/11/13/b855031a-670e-45f8-ac94-4c71951764db/tyson-vs-paul-netflix-2.jpg?auto=webp&fit=crop&height=675&width=1200",
         "When to Stream the Mike Tyson vs. Jake Paul Boxing Match on Netflix",
         "https://www.cnet.com/tech/services-and-software/when-to-stream-the-mike-tyson-vs-jake-paul-boxing-match-on-netflix/",
         "The sports event will air live on the streaming service, and you can watch the weigh-in tonight.",
         "sports"
        ],
        [
         "SU606820",
         "https://ichef.bbci.co.uk/news/1024/branded_sport/2db8/live/a5b50f80-b163-11ef-a0f2-fd81ae5962f4.jpg",
         "In Pictures: Sporting photos of the week",
         "https://www.bbc.com/sport/articles/cgm97pwx9l7o",
         "A selection of some of the most striking sports photographs taken around the world over the past seven days.",
         "sports"
        ],
        [
         "SU606820",
         "https://www.journaldugeek.com/app/uploads/2024/11/Home-Sports.jpg",
         "Home Sports : Meta présente son Wii Sports en réalité mixte",
         "https://www.journaldugeek.com/2024/11/26/home-sports-meta-presente-wii-sports-realite-mixte/",
         "Les Meta Quest 3 et 3S vont accueillir un jeu en réalité mixte nommé Home Sports. Le titre développé par Resolution Games s'inspire de l'illustre Wii Sports.",
         "sports"
        ],
        [
         "SU606820",
         "https://i.insider.com/675328938fb3f94e5073e40b?width=1200&format=jpeg",
         "Retailers are saying shoppers are 'pressured,' 'stretched,' and 'cautious' — but still spending",
         "https://www.businessinsider.com/shoppers-pressured-stretched-and-cautious-but-still-spending-2024-12",
         "Walmart, Target, and more have used similar descriptions of US consumer health right now, while also noting that sales continue to beat expectations.",
         "health"
        ],
        [
         "SU606820",
         "https://i.abcnewsfe.com/a/d944e838-b9a5-4e47-aa03-ec6bd5e692e4/linda-mcmahon-gty-jef-241120_1732130473470_hpMain_16x9.jpg?w=1600",
         "Linda McMahon's professional qualifications as Trump's choice for Dept. of Education",
         "https://abcnews.go.com/Politics/linda-mcmahons-background-trumps-pick-education-secretary/story?id=116058197",
         "Linda McMahon's background -- in both education and as a co-founder of sports entertainment company World Wrestling Entertainment, Inc. -- has come under scrutiny.",
         "entertainment"
        ],
        [
         "SU606820",
         "https://i.abcnewsfe.com/a/d944e838-b9a5-4e47-aa03-ec6bd5e692e4/linda-mcmahon-gty-jef-241120_1732130473470_hpMain_16x9.jpg?w=1600",
         "Linda McMahon's professional qualifications as Trump's choice for Dept. of Education",
         "https://abcnews.go.com/Politics/linda-mcmahons-background-trumps-pick-education-secretary/story?id=116058197",
         "Linda McMahon's background -- in both education and as a co-founder of sports entertainment company World Wrestling Entertainment, Inc. -- has come under scrutiny.",
         "sports"
        ],
        [
         "SU606820",
         "https://npr.brightspotcdn.com/dims3/default/strip/false/crop/7792x4383+0+416/resize/1400/quality/100/format/jpeg/?url=http%3A%2F%2Fnpr-brightspot.s3.amazonaws.com%2Fd0%2F97%2Fff24f3f043c2b15963c6f7ce2b3f%2Fap24340755092282.jpg",
         "Police are still looking for the suspect in the shooting of the UnitedHealthcare CEO",
         "https://www.npr.org/2024/12/06/nx-s1-5219927/unitedhealthcare-ceo-shooting-new-york",
         "The manhunt for the person who fatally shot the head of one of the country's largest health insurers in New York City entered its third day Friday as police parsed newly discovered clues.",
         "health"
        ],
        [
         "SU606820",
         "https://i.insider.com/67357889fa0140cdd56343c2?width=1200&format=jpeg",
         "Saudi Arabia is trying to build a mega-city in the desert. Now, Neom is dialing back plans for its first stage.",
         "https://www.businessinsider.com/neom-refocuses-sports-athletics-world-cup-construction-slow-costly-ceo-2024-11",
         "The authoritarian country is spending billions on international athletics, from Formula 1 to combat sports, to boost its bottom line and image.",
         "sports"
        ],
        [
         "SU606820",
         "https://venturebeat.com/wp-content/uploads/2024/11/fifa-rivals.jpg?w=1024?w=1200&strip=all",
         "Mythical Games teams with FIFA to make Web3 mobile soccer game FIFA Rivals",
         "https://venturebeat.com/games/mythical-games-teams-with-fifa-to-make-web3-mobile-soccer-game-fifa-rivals/",
         "FIFA and game maker Mythical Games are teaming up on FIFA Rivals, a Web3 mobile game that is licensed from the global sports group.",
         "sports"
        ],
        [
         "SU606820",
         "https://ichef.bbci.co.uk/news/1024/branded_news/3e69/live/2cef6190-ad71-11ef-967f-cbb1965d6a73.jpg",
         "Angry doctors owed thousands refuse to work",
         "https://www.bbc.com/news/articles/cz6jy7d0wjzo",
         "There are concerns about staffing and supply shortages at GP surgeries linked to a management company.",
         "health"
        ],
        [
         "SU606820",
         "https://www.cnet.com/a/img/resize/6e6108d88bd42f960c7c826d6acab661b3bdc551/hub/2024/11/22/11bb6017-b4f7-42f2-baad-8697a497ced0/gettyimages-2184772553.jpg?auto=webp&fit=crop&height=675&width=1200",
         "Premier League Soccer: Livestream Ipswich vs. Man United From Anywhere",
         "https://www.cnet.com/tech/services-and-software/premier-league-soccer-livestream-ipswich-vs-man-united-from-anywhere/",
         "It's Ruben Amorim's first game in charge of the Red Devils.",
         "sports"
        ],
        [
         "SU606820",
         "https://media.wired.com/photos/67069550cb5bb55be44eb19e/191:100/w_1280,c_limit/100924_Stem%20Cell%20Harvesting-1.jpg",
         "Bone Marrow Donors Can Be Hard to Find. One Company Is Turning to Cadavers",
         "https://www.wired.com/story/stem-cell-donation-deceased-ossium-bone-marrow-cancer-leukemia/",
         "San Francisco–based Ossium Health has carried out three transplants for cancer patients using stem cells from deceased donors’ blood marrow in recent months.",
         "health"
        ],
        [
         "PA285472",
         "",
         "Why Soccer Players Are Training in the Dark",
         "https://www.wired.com/story/why-soccer-players-are-training-in-the-dark-okkolo-football-sunderland-leeds-united-neuroscience/",
         "Sports science company Okkulo has shown that its specially lit training environment can improve players’ visual-motor skills—and a growing number of sports are starting to test it out.",
         "sports"
        ],
        [
         "PA285472",
         "",
         "Why Soccer Players Are Training in the Dark",
         "https://www.wired.com/story/why-soccer-players-are-training-in-the-dark-okkolo-football-sunderland-leeds-united-neuroscience/",
         "Sports science company Okkulo has shown that its specially lit training environment can improve players’ visual-motor skills—and a growing number of sports are starting to test it out.",
         "technology"
        ],
        [
         "PA285472",
         "https://a1.espncdn.com/combiner/i?img=%2Fphoto%2F2018%2F1023%2Fr451750_640x360_16%2D9.jpg",
         "FanDuel, MLBPA settle player likenesses lawsuit",
         "https://www.espn.com/mlb/story/_/id/42409158/fanduel-settles-mlb-lawsuit-use-player-likenesses",
         "Major League Baseball's players union settled a lawsuit that accused sports betting giant FanDuel of using the names and likenesses of hundreds of MLB players on its betting platform without permission.",
         "sports"
        ],
        [
         "PA285472",
         "https://venturebeat.com/wp-content/uploads/2024/11/Ascend-23-Loupe.png?w=1024?w=1200&strip=all",
         "Live commerce is the new sports bar: Loupe is the preferred late-night hangout for sports fans and collectors",
         "https://venturebeat.com/business/live-commerce-is-the-new-sports-bar-loupe-is-the-preferred-late-night-hangout-for-sports-fans-and-collectors/",
         "CONTRIBUTOR CONTENT: Live commerce and the sports collectibles industries are both booming. There’s one place that sports fans are all going after work and no, it’s not the nearest sports bar. At night, fans are flocking to Loupe, where they can extend the ga…",
         "sports"
        ],
        [
         "PA285472",
         "https://content.artofmanliness.com/uploads/2024/11/gamble.jpg",
         "Podcast #1,044: What Sports Betting Is Really Doing to Players, Games, and Fans",
         "https://www.artofmanliness.com/character/behavior/podcast-1044-what-sports-betting-is-really-doing-to-players-games-and-fans/",
         "Sports gambling has exploded in America. You can’t watch a game today without being bombarded by ads from betting companies, often co-branded with the major sports leagues themselves. It’s a dramatic shift from just seven years ago, when these same leagues we…",
         "sports"
        ],
        [
         "PA285472",
         "https://gizmodo.com/app/uploads/2024/12/J-Studios.jpg",
         "Landlords Are Using AI to Raise Rents—and Cities Are Starting to Push Back",
         "https://gizmodo.com/landlords-are-using-ai-to-raise-rents-and-cities-are-starting-to-push-back-2000535519",
         "AI is a plaque upon housing in America.",
         "technology"
        ],
        [
         "PA285472",
         "https://gizmodo.com/app/uploads/2024/12/OpenAI-CEO-Sam-Altman-on-Fox-News.jpg",
         "OpenAI Continues Its Mission of ‘Ethical’ AI by Partnering With a Killer Robot Company",
         "https://gizmodo.com/openai-continues-its-mission-of-ethical-ai-by-partnering-with-a-killer-robot-company-2000534515",
         "It's a weird look for a company that has claimed that it wants to make AI \"safe for everyone.\"",
         "technology"
        ],
        [
         "PA285472",
         null,
         "Meta wants its Llama AI in Britain’s public healthcare system",
         "https://consent.yahoo.com/v2/collectConsent?sessionId=1_cc-session_b19bd6f4-2654-465b-abec-7e69582cd26b",
         "Meta is making a pitch to get its AI into the UK’s public health system. The Guardian reported on Tuesday that the company held a hackathon in Europe, tasking over 200 developers to use its Llama AI to improve the country’s health services. The company awarde…",
         "health"
        ],
        [
         "PA285472",
         "https://static1.anpoimages.com/wordpress/wp-content/uploads/wm/2024/02/img_1576.jpg",
         "ESPN brings sports to Disney Plus, completing the bundle with Hulu",
         "https://www.androidpolice.com/you-can-now-access-espn-content-from-disney-app/",
         "Now Disney+ has something for sports fans once the kids are asleep",
         "sports"
        ],
        [
         "PA285472",
         "https://ichef.bbci.co.uk/news/1024/branded_news/ba3b/live/a86ea4d0-b743-11ef-b631-b5f63aa48be1.jpg",
         "Increased vet burden creates animal welfare concerns",
         "https://www.bbc.com/news/articles/c1d34ezvxp2o",
         "While the number of vets in Wales has increased, the number of pets has at a far higher pace.",
         "health"
        ],
        [
         "PA285472",
         "https://ichef.bbci.co.uk/news/1024/branded_news/33d2/live/c76fa200-a1b1-11ef-897a-cfb3ce396193.jpg",
         "One in three T-level students drop out of health course",
         "https://www.bbc.com/news/articles/cy4g04j1l9xo",
         "Many health and science T-level students dropped out after an exam board sent out botched exam papers in 2022.",
         "health"
        ],
        [
         "PA285472",
         "https://i.insider.com/673e2500192f525898599dfd?width=1200&format=jpeg",
         "A FIRE blogger decided to test the benefits of the popular triple-tax advantaged HSA. He explains why it wasn't worth the hassle and wants to switch health insurance plans in 2025.",
         "https://www.businessinsider.com/financial-independence-blogger-switched-to-hdhp-hsa-health-insurance-plan-2024-11",
         "Andre Nader switched from an EPO health insurance plan to an HDHP to take advantage of an HSA. Despite the tax benefits, it wasn't worth it for him.",
         "health"
        ],
        [
         "PA285472",
         "https://a1.espncdn.com/combiner/i?img=%2Fphoto%2F2024%2F1117%2Fr1415930_1296x729_16%2D9.jpg",
         "'Inside the NBA' moving to ESPN, ABC next season",
         "https://www.espn.com/nba/story/_/id/42464696/inside-nba-appear-espn-abc-next-season",
         "\"Inside the NBA,\" which has won 21 Sports Emmy Awards, will appear on ESPN and ABC starting next season through a partnership with TNT Sports and the NBA.",
         "sports"
        ],
        [
         "PA285472",
         "https://ichef.bbci.co.uk/news/1024/branded_news/4a6e/live/9fe2dfe0-a10c-11ef-9d70-9564a3cc52f2.jpg",
         "Number of homeless people in Wales at record high",
         "https://www.bbc.com/news/articles/cm27e2gn515o",
         "Charmaine, 38, has been waiting to move for two years and it is affecting her mental health.",
         "health"
        ],
        [
         "PA285472",
         "https://i.insider.com/674113b1ede4eeae39292e6b?width=1200&format=jpeg",
         "Are seed oils toxic? It's complicated — here's what you need to know about the war over dietary fats",
         "https://www.businessinsider.com/are-seed-oils-dangerous-for-your-health-inflammation-evidence-2024-11",
         "Some health influencers say golden-hued vegetable oils like canola are bad for you. It's complicated. Here's the science.",
         "health"
        ],
        [
         "PA285472",
         "https://cdn.vox-cdn.com/thumbor/E2RoDalncTnPdUrncx4kP01lnYw=/0x0:1440x810/1200x628/filters:focal(720x405:721x406)/cdn.vox-cdn.com/uploads/chorus_asset/file/25756939/Home_Sports.jpg",
         "Meta’s mixed-reality attempt at a Wii Sports knockoff is coming",
         "https://www.theverge.com/2024/11/25/24305847/meta-quest-home-sports-vr-mr-tennis-bowling-hockey-game",
         "Home Sports is a cartoonish collection of games like bowling, badminton, and mini-golf, that can be played on Meta’s Quest 3 and 3S headsets.",
         "sports"
        ],
        [
         "PA285472",
         "https://cdn.vox-cdn.com/thumbor/E2RoDalncTnPdUrncx4kP01lnYw=/0x0:1440x810/1200x628/filters:focal(720x405:721x406)/cdn.vox-cdn.com/uploads/chorus_asset/file/25756939/Home_Sports.jpg",
         "Meta’s mixed-reality attempt at a Wii Sports knockoff is coming",
         "https://www.theverge.com/2024/11/25/24305847/meta-quest-home-sports-vr-mr-tennis-bowling-hockey-game",
         "Home Sports is a cartoonish collection of games like bowling, badminton, and mini-golf, that can be played on Meta’s Quest 3 and 3S headsets.",
         "entertainment"
        ],
        [
         "PA285472",
         "https://gizmodo.com/app/uploads/2024/11/Wegovy-1.jpg",
         "A Staggering Number of U.S. Adults Are Eligible for Ozempic, Study Finds",
         "https://gizmodo.com/a-staggering-number-of-u-s-adults-are-eligible-for-ozempic-study-finds-2000526418",
         "A groundbreaking Harvard study reveals that semaglutide could benefit more people in the U.S. than ever imagined.",
         "health"
        ],
        [
         "PA285472",
         "https://seths.blog/wp-content/uploads/2018/06/seth_godin_ogimages_v02_18061316.jpg",
         "When the media is ready (Bongo part 2)",
         "https://seths.blog/2024/11/when-the-media-is-ready-bongo-part-2/",
         "Media isn’t a magazine or a website. It’s a system. We can learn to see the system and contribute to it with leverage. There are three elements to consider in a media system that’s worth a professional creator’s time: Systems are changed by technology. When d…",
         "technology"
        ],
        [
         "PA285472",
         "https://ichef.bbci.co.uk/news/1024/branded_news/cd4e/live/e10b0380-b1bf-11ef-8613-eb846c2a010c.jpg",
         "Hospice leaders warn hundreds of beds out of use",
         "https://www.bbc.com/news/articles/clykz68zexpo",
         "A lack of funding and staff are blamed as hospices close beds permanently or take them out of use.",
         "health"
        ],
        [
         "PA285472",
         "https://content.artofmanliness.com/uploads/2024/11/run-thumb-2.jpg",
         "Podcast #1,040: Tribal Runners, Weekend Warriors, and Our Changing Relationship to Endurance Sports",
         "https://www.artofmanliness.com/health-fitness/fitness/podcast-1040-tribal-runners-weekend-warriors-and-our-changing-relationship-to-endurance-sports/",
         "Endurance activities, like distance running, have existed since ancient times. But humans’ relationship to those pursuits has changed, according to time and place. In the West, we’ve currently turned endurance sports into a science — tracking every metric and…",
         "sports"
        ],
        [
         "PA285472",
         "https://gizmodo.com/app/uploads/2024/11/wallace-and-gromit-vengeance-most-fowl-set-visit-interview-aardman.jpg",
         "How Aardman Mixed Past and Future in Its Return to Wallace and Gromit",
         "https://gizmodo.com/wallace-and-gromit-vengeance-most-fowl-netflix-set-visit-nick-park-merlin-crossingham-2000527162",
         "Ahead of its release on Netflix January 3, io9 visited the set of Vengeance Most Fowl to see why now is Aardman's time to return to Wallace and Gromit.",
         "technology"
        ],
        [
         "PA285472",
         "https://www.cnet.com/a/img/resize/a51721727ac6b71b8d078d611ca37505b9006739/hub/2024/10/16/ae3b5078-3ced-47c9-91dd-6b5b1b1a5809/connections-sports-edition-6832.jpg?auto=webp&fit=crop&height=675&width=1200",
         "Today's NYT Connections: Sports Edition Hints and Answers for Dec. 3, #71",
         "https://www.cnet.com/tech/gaming/todays-nyt-connections-sports-edition-hints-and-answers-for-dec-3-71/",
         "Here's today's Connections: Sports Edition answer and hints for groups. These clues will help you solve The New York Times' popular puzzle game, Connections: Sports Edition, every day.",
         "sports"
        ],
        [
         "PA285472",
         "https://www.cnet.com/a/img/resize/a51721727ac6b71b8d078d611ca37505b9006739/hub/2024/10/16/ae3b5078-3ced-47c9-91dd-6b5b1b1a5809/connections-sports-edition-6832.jpg?auto=webp&fit=crop&height=675&width=1200",
         "Today's NYT Connections: Sports Edition Hints and Answers for Dec. 5, #73",
         "https://www.cnet.com/tech/gaming/todays-nyt-connections-sports-edition-hints-and-answers-for-dec-5-73/",
         "Here's today's Connections: Sports Edition answer and hints for groups. These clues will help you solve The New York Times' popular puzzle game, Connections: Sports Edition, every day.",
         "sports"
        ],
        [
         "PA285472",
         "https://www.cnet.com/a/img/resize/a51721727ac6b71b8d078d611ca37505b9006739/hub/2024/10/16/ae3b5078-3ced-47c9-91dd-6b5b1b1a5809/connections-sports-edition-6832.jpg?auto=webp&fit=crop&height=675&width=1200",
         "Today's NYT Connections: Sports Edition Hints and Answers for Dec. 4, #72",
         "https://www.cnet.com/tech/gaming/todays-nyt-connections-sports-edition-hints-and-answers-for-dec-4-72/",
         "Here's today's Connections: Sports Edition answer and hints for groups. These clues will help you solve The New York Times' popular puzzle game, Connections: Sports Edition, every day.",
         "sports"
        ],
        [
         "PA285472",
         "https://www.cnet.com/a/img/resize/a51721727ac6b71b8d078d611ca37505b9006739/hub/2024/10/16/ae3b5078-3ced-47c9-91dd-6b5b1b1a5809/connections-sports-edition-6832.jpg?auto=webp&fit=crop&height=675&width=1200",
         "Today's NYT Connections: Sports Edition Hints and Answers for Dec. 6, #74",
         "https://www.cnet.com/tech/gaming/todays-nyt-connections-sports-edition-hints-and-answers-for-dec-6-74/",
         "Here's today's Connections: Sports Edition answer and hints for groups. These clues will help you solve The New York Times' popular puzzle game, Connections: Sports Edition, every day.",
         "sports"
        ],
        [
         "PA285472",
         "https://www.cnet.com/a/img/resize/a51721727ac6b71b8d078d611ca37505b9006739/hub/2024/10/16/ae3b5078-3ced-47c9-91dd-6b5b1b1a5809/connections-sports-edition-6832.jpg?auto=webp&fit=crop&height=675&width=1200",
         "Today's NYT Connections: Sports Edition Hints and Answers for Nov. 17, #55",
         "https://www.cnet.com/tech/gaming/todays-nyt-connections-sports-edition-hints-and-answers-for-nov-17-55/",
         "Here's today's Connections: Sports Edition answer and hints for groups. These clues will help you solve The New York Times' popular puzzle game, Connections: Sports Edition, every day.",
         "sports"
        ],
        [
         "PA285472",
         "https://www.cnet.com/a/img/resize/a51721727ac6b71b8d078d611ca37505b9006739/hub/2024/10/16/ae3b5078-3ced-47c9-91dd-6b5b1b1a5809/connections-sports-edition-6832.jpg?auto=webp&fit=crop&height=675&width=1200",
         "Today's NYT Connections: Sports Edition Hints and Answers for Nov. 15, #53",
         "https://www.cnet.com/tech/gaming/todays-nyt-connections-sports-edition-hints-and-answers-for-nov-15-53/",
         "Here's today's Connections: Sports Edition answer and hints for groups. These clues will help you solve The New York Times' popular puzzle game, Connections: Sports Edition, every day.",
         "sports"
        ],
        [
         "PA285472",
         "https://www.cnet.com/a/img/resize/a51721727ac6b71b8d078d611ca37505b9006739/hub/2024/10/16/ae3b5078-3ced-47c9-91dd-6b5b1b1a5809/connections-sports-edition-6832.jpg?auto=webp&fit=crop&height=675&width=1200",
         "Today's NYT Connections: Sports Edition Hints and Answers for Nov. 25, #63",
         "https://www.cnet.com/tech/gaming/todays-nyt-connections-sports-edition-hints-and-answers-for-nov-25-63/",
         "Here's today's Connections: Sports Edition answer and hints for groups. These clues will help you solve The New York Times' popular puzzle game, Connections: Sports Edition, every day.",
         "sports"
        ],
        [
         "PA285472",
         "https://www.cnet.com/a/img/resize/a51721727ac6b71b8d078d611ca37505b9006739/hub/2024/10/16/ae3b5078-3ced-47c9-91dd-6b5b1b1a5809/connections-sports-edition-6832.jpg?auto=webp&fit=crop&height=675&width=1200",
         "Today's NYT Connections: Sports Edition Hints and Answers for Nov. 30, #68",
         "https://www.cnet.com/tech/gaming/todays-nyt-connections-sports-edition-hints-and-answers-for-nov-30-68/",
         "Here's today's Connections: Sports Edition answer and hints for groups. These clues will help you solve The New York Times' popular puzzle game, Connections: Sports Edition, every day.",
         "sports"
        ],
        [
         "PA285472",
         "https://www.cnet.com/a/img/resize/a51721727ac6b71b8d078d611ca37505b9006739/hub/2024/10/16/ae3b5078-3ced-47c9-91dd-6b5b1b1a5809/connections-sports-edition-6832.jpg?auto=webp&fit=crop&height=675&width=1200",
         "Today's NYT Connections: Sports Edition Hints and Answers for Nov. 24, #62",
         "https://www.cnet.com/tech/gaming/todays-nyt-connections-sports-edition-hints-and-answers-for-nov-24-62/",
         "Here's today's Connections: Sports Edition answer and hints for groups. These clues will help you solve The New York Times' popular puzzle game, Connections: Sports Edition, every day.",
         "sports"
        ],
        [
         "PA285472",
         "https://www.cnet.com/a/img/resize/a51721727ac6b71b8d078d611ca37505b9006739/hub/2024/10/16/ae3b5078-3ced-47c9-91dd-6b5b1b1a5809/connections-sports-edition-6832.jpg?auto=webp&fit=crop&height=675&width=1200",
         "Today's NYT Connections: Sports Edition Hints and Answers for Nov. 26, #64",
         "https://www.cnet.com/tech/gaming/todays-nyt-connections-sports-edition-hints-and-answers-for-nov-26-64/",
         "Here's today's Connections: Sports Edition answer and hints for groups. These clues will help you solve The New York Times' popular puzzle game, Connections: Sports Edition, every day.",
         "sports"
        ],
        [
         "PA285472",
         "https://www.cnet.com/a/img/resize/a51721727ac6b71b8d078d611ca37505b9006739/hub/2024/10/16/ae3b5078-3ced-47c9-91dd-6b5b1b1a5809/connections-sports-edition-6832.jpg?auto=webp&fit=crop&height=675&width=1200",
         "Today's NYT Connections: Sports Edition Hints and Answers for Nov. 20, #58",
         "https://www.cnet.com/tech/gaming/todays-nyt-connections-sports-edition-hints-and-answers-for-nov-20-58/",
         "Here's today's Connections: Sports Edition answer and hints for groups. These clues will help you solve The New York Times' popular puzzle game, Connections: Sports Edition, every day.",
         "sports"
        ],
        [
         "PA285472",
         "https://www.cnet.com/a/img/resize/a51721727ac6b71b8d078d611ca37505b9006739/hub/2024/10/16/ae3b5078-3ced-47c9-91dd-6b5b1b1a5809/connections-sports-edition-6832.jpg?auto=webp&fit=crop&height=675&width=1200",
         "Today's NYT Connections: Sports Edition Hints and Answers for Nov. 28, #66",
         "https://www.cnet.com/tech/gaming/todays-nyt-connections-sports-edition-hints-and-answers-for-nov-28-66/",
         "Here's today's Connections: Sports Edition answer and hints for groups. These clues will help you solve The New York Times' popular puzzle game, Connections: Sports Edition, every day.",
         "sports"
        ],
        [
         "PA285472",
         "https://www.cnet.com/a/img/resize/a51721727ac6b71b8d078d611ca37505b9006739/hub/2024/10/16/ae3b5078-3ced-47c9-91dd-6b5b1b1a5809/connections-sports-edition-6832.jpg?auto=webp&fit=crop&height=675&width=1200",
         "Today's NYT Connections: Sports Edition Hints and Answers for Nov. 13, #51",
         "https://www.cnet.com/tech/gaming/todays-nyt-connections-sports-edition-hints-and-answers-for-nov-13-51/",
         "Here's today's Connections: Sports Edition answer and hints for groups. These clues will help you solve The New York Times' popular puzzle game, Connections: Sports Edition, every day.",
         "sports"
        ],
        [
         "PA285472",
         "https://www.cnet.com/a/img/resize/a51721727ac6b71b8d078d611ca37505b9006739/hub/2024/10/16/ae3b5078-3ced-47c9-91dd-6b5b1b1a5809/connections-sports-edition-6832.jpg?auto=webp&fit=crop&height=675&width=1200",
         "Today's NYT Connections: Sports Edition Hints and Answers for Nov. 29, #67",
         "https://www.cnet.com/tech/gaming/todays-nyt-connections-sports-edition-hints-and-answers-for-nov-29-67/",
         "Here's today's Connections: Sports Edition answer and hints for groups. These clues will help you solve The New York Times' popular puzzle game, Connections: Sports Edition, every day.",
         "sports"
        ],
        [
         "PA285472",
         "https://www.cnet.com/a/img/resize/a51721727ac6b71b8d078d611ca37505b9006739/hub/2024/10/16/ae3b5078-3ced-47c9-91dd-6b5b1b1a5809/connections-sports-edition-6832.jpg?auto=webp&fit=crop&height=675&width=1200",
         "Today's NYT Connections: Sports Edition Hints and Answers for Nov. 14, #52",
         "https://www.cnet.com/tech/gaming/todays-nyt-connections-sports-edition-hints-and-answers-for-nov-14-52/",
         "Here's today's Connections: Sports Edition answer and hints for groups. These clues will help you solve The New York Times' popular puzzle game, Connections: Sports Edition, every day.",
         "sports"
        ],
        [
         "PA285472",
         "https://gizmodo.com/app/uploads/2024/09/airtags-apple.jpg",
         "Amazon Is Clearing Out AirTags This Cyber Monday, Now at a Record Low Price Until They Sell Out",
         "https://gizmodo.com/amazon-is-clearing-out-airtags-this-cyber-monday-now-at-a-record-low-price-until-they-sell-out-2000532478",
         "AirTags are the perfect gift for the holiday season.",
         "technology"
        ],
        [
         "PA285472",
         "https://cdn.vox-cdn.com/thumbor/YavtHu47GBXbFJeKLrxkZwo474E=/0x0:2040x1360/1200x628/filters:focal(1020x680:1021x681)/cdn.vox-cdn.com/uploads/chorus_asset/file/24774110/STK156_Instagram_threads_1.jpg",
         "Threads’ custom feeds are already rolling out",
         "https://www.theverge.com/2024/11/20/24301587/threads-custom-feeds-rolling-out",
         "Just five days after Meta started testing custom feeds in Threads, the company is already rolling them out to everyone. Bluesky also has custom feeds.",
         "technology"
        ],
        [
         "PA285472",
         "https://ichef.bbci.co.uk/news/1024/branded_sport/28dd/live/9e6ed110-b0b0-11ef-8403-a73d519cc056.png",
         "Sports Personality shortlist announced on Monday",
         "https://www.bbc.com/sport/articles/c5ydl28lee1o",
         "The contenders for the 2024 BBC Sports Personality of the Year award will be announced on Monday.",
         "sports"
        ],
        [
         "PA285472",
         "https://images.macrumors.com/t/KecnknybEVYQAn1VyV4jgWWR9Rg=/2500x/article-new/2024/06/visionOS-2-on-Apple-Vision-Pro-Feature.jpg",
         "visionOS 2.2 Adds Support for Watching Five Sports Games at Once With Multiview",
         "https://www.macrumors.com/2024/12/05/visionos-2-2-multiview-support/",
         "With the visionOS 2.2 update that's set to come out next week, Apple is introducing the promised Multiview feature that will let sports fans watch up to five games at once.\n\n\n\n\n\nThe Multiview feature for the Vision Pro works with MLS and MLB games, but other …",
         "sports"
        ],
        [
         "PA285472",
         "https://images.macrumors.com/t/gSfA9gdPJTtAYv_7hjK9YByevcM=/2500x/article-new/2024/07/Safari-Technology-Preview-Updated-Feature-1.jpg",
         "Apple Releases Safari Technology Preview 208 With Bug Fixes and Performance Improvements",
         "https://www.macrumors.com/2024/11/21/apple-releases-safari-technology-preview-208/",
         "Apple today released a new update for Safari Technology Preview, the experimental browser that was first introduced in March 2016. Apple designed ‌Safari Technology Preview‌ to allow users to test features that are planned for future release versions of the S…",
         "technology"
        ],
        [
         "PA285472",
         "https://ichef.bbci.co.uk/news/1024/branded_news/c449/live/45b11db0-ab30-11ef-8d14-b38ce06af7f3.jpg",
         "New cash for job centres in plan to boost workforce",
         "https://www.bbc.com/news/articles/cqxwv3n87g4o",
         "The government reveals a £240m investment plan to increase the number of people working in Britain.",
         "health"
        ],
        [
         "PA285472",
         "https://gizmodo.com/app/uploads/2024/12/The-Enron-sign.jpg",
         "Is Enron Coming Back as a Crypto Company?",
         "https://gizmodo.com/is-enron-coming-back-as-a-crypto-company-2000533233",
         "The scandal ridden company is said to be mounting a comeback, but evidence points in the direction of a large practical joke.",
         "technology"
        ],
        [
         "PA285472",
         "https://gizmodo.com/app/uploads/2024/12/The-Enron-sign.jpg",
         "Is Enron Coming Back as a Crypto Company?",
         "https://gizmodo.com/is-enron-coming-back-as-a-crypto-company-2000533233",
         "The scandal ridden company is said to be mounting a comeback, but evidence points in the direction of a large practical joke.",
         "entertainment"
        ],
        [
         "PA285472",
         "https://cdn.vox-cdn.com/thumbor/etyf6_gaUPmtbLsBh7itwYBd39E=/0x0:2040x1360/1200x628/filters:focal(1020x680:1021x681)/cdn.vox-cdn.com/uploads/chorus_asset/file/25728924/STK133_BLUESKY__B.jpg",
         "Bluesky has been acting up today",
         "https://www.theverge.com/2024/11/14/24296537/bluesky-acting-up-outage-down",
         "Bluesky is growing quickly in popularity, but if you’re trying to use it today, the site might be acting up. For a little while, my feeds and notifications were very slow to load on the web and mobile while logged in.",
         "technology"
        ],
        [
         "PA285472",
         null,
         "Luxury sports car splits in half during deadly collision in Texas, killing its 2 occupants",
         "https://consent.yahoo.com/v2/collectConsent?sessionId=1_cc-session_e76614a8-9fc9-49c1-9d04-2ddb0a3db31b",
         "",
         "sports"
        ],
        [
         "PA285472",
         "https://www.cnet.com/a/img/resize/534e96a76cc95ffb8bf0a8f1dc59b9595df1b150/hub/2024/12/04/bb03defb-1804-4f01-9d62-d0f0d96fb5ae/gettyimages-2168981593.jpg?auto=webp&fit=crop&height=675&width=1200",
         "Premier League Soccer: Livestream Aston Villa vs. Brentford From Anywhere",
         "https://www.cnet.com/tech/services-and-software/premier-league-soccer-livestream-aston-villa-vs-brentford-from-anywhere/",
         "The Bees look to push further up the table against the out-of-form Villains.",
         "sports"
        ],
        [
         "PA285472",
         "https://www.cnet.com/a/img/resize/947139a0cde855ff52a4d83c3263e7bf8ca0c451/hub/2024/11/13/b855031a-670e-45f8-ac94-4c71951764db/tyson-vs-paul-netflix-2.jpg?auto=webp&fit=crop&height=675&width=1200",
         "When to Stream the Mike Tyson vs. Jake Paul Boxing Match on Netflix",
         "https://www.cnet.com/tech/services-and-software/when-to-stream-the-mike-tyson-vs-jake-paul-boxing-match-on-netflix/",
         "The sports event will air live on the streaming service, and you can watch the weigh-in tonight.",
         "sports"
        ],
        [
         "PA285472",
         "https://ichef.bbci.co.uk/news/1024/branded_sport/2db8/live/a5b50f80-b163-11ef-a0f2-fd81ae5962f4.jpg",
         "In Pictures: Sporting photos of the week",
         "https://www.bbc.com/sport/articles/cgm97pwx9l7o",
         "A selection of some of the most striking sports photographs taken around the world over the past seven days.",
         "sports"
        ],
        [
         "PA285472",
         "https://www.journaldugeek.com/app/uploads/2024/11/Home-Sports.jpg",
         "Home Sports : Meta présente son Wii Sports en réalité mixte",
         "https://www.journaldugeek.com/2024/11/26/home-sports-meta-presente-wii-sports-realite-mixte/",
         "Les Meta Quest 3 et 3S vont accueillir un jeu en réalité mixte nommé Home Sports. Le titre développé par Resolution Games s'inspire de l'illustre Wii Sports.",
         "sports"
        ],
        [
         "PA285472",
         "https://i.insider.com/675328938fb3f94e5073e40b?width=1200&format=jpeg",
         "Retailers are saying shoppers are 'pressured,' 'stretched,' and 'cautious' — but still spending",
         "https://www.businessinsider.com/shoppers-pressured-stretched-and-cautious-but-still-spending-2024-12",
         "Walmart, Target, and more have used similar descriptions of US consumer health right now, while also noting that sales continue to beat expectations.",
         "health"
        ],
        [
         "PA285472",
         "https://i.abcnewsfe.com/a/d944e838-b9a5-4e47-aa03-ec6bd5e692e4/linda-mcmahon-gty-jef-241120_1732130473470_hpMain_16x9.jpg?w=1600",
         "Linda McMahon's professional qualifications as Trump's choice for Dept. of Education",
         "https://abcnews.go.com/Politics/linda-mcmahons-background-trumps-pick-education-secretary/story?id=116058197",
         "Linda McMahon's background -- in both education and as a co-founder of sports entertainment company World Wrestling Entertainment, Inc. -- has come under scrutiny.",
         "entertainment"
        ],
        [
         "PA285472",
         "https://i.abcnewsfe.com/a/d944e838-b9a5-4e47-aa03-ec6bd5e692e4/linda-mcmahon-gty-jef-241120_1732130473470_hpMain_16x9.jpg?w=1600",
         "Linda McMahon's professional qualifications as Trump's choice for Dept. of Education",
         "https://abcnews.go.com/Politics/linda-mcmahons-background-trumps-pick-education-secretary/story?id=116058197",
         "Linda McMahon's background -- in both education and as a co-founder of sports entertainment company World Wrestling Entertainment, Inc. -- has come under scrutiny.",
         "sports"
        ],
        [
         "PA285472",
         "https://npr.brightspotcdn.com/dims3/default/strip/false/crop/7792x4383+0+416/resize/1400/quality/100/format/jpeg/?url=http%3A%2F%2Fnpr-brightspot.s3.amazonaws.com%2Fd0%2F97%2Fff24f3f043c2b15963c6f7ce2b3f%2Fap24340755092282.jpg",
         "Police are still looking for the suspect in the shooting of the UnitedHealthcare CEO",
         "https://www.npr.org/2024/12/06/nx-s1-5219927/unitedhealthcare-ceo-shooting-new-york",
         "The manhunt for the person who fatally shot the head of one of the country's largest health insurers in New York City entered its third day Friday as police parsed newly discovered clues.",
         "health"
        ],
        [
         "PA285472",
         "https://i.insider.com/67357889fa0140cdd56343c2?width=1200&format=jpeg",
         "Saudi Arabia is trying to build a mega-city in the desert. Now, Neom is dialing back plans for its first stage.",
         "https://www.businessinsider.com/neom-refocuses-sports-athletics-world-cup-construction-slow-costly-ceo-2024-11",
         "The authoritarian country is spending billions on international athletics, from Formula 1 to combat sports, to boost its bottom line and image.",
         "sports"
        ],
        [
         "PA285472",
         "https://venturebeat.com/wp-content/uploads/2024/11/fifa-rivals.jpg?w=1024?w=1200&strip=all",
         "Mythical Games teams with FIFA to make Web3 mobile soccer game FIFA Rivals",
         "https://venturebeat.com/games/mythical-games-teams-with-fifa-to-make-web3-mobile-soccer-game-fifa-rivals/",
         "FIFA and game maker Mythical Games are teaming up on FIFA Rivals, a Web3 mobile game that is licensed from the global sports group.",
         "sports"
        ],
        [
         "PA285472",
         "https://ichef.bbci.co.uk/news/1024/branded_news/3e69/live/2cef6190-ad71-11ef-967f-cbb1965d6a73.jpg",
         "Angry doctors owed thousands refuse to work",
         "https://www.bbc.com/news/articles/cz6jy7d0wjzo",
         "There are concerns about staffing and supply shortages at GP surgeries linked to a management company.",
         "health"
        ],
        [
         "PA285472",
         "https://www.cnet.com/a/img/resize/6e6108d88bd42f960c7c826d6acab661b3bdc551/hub/2024/11/22/11bb6017-b4f7-42f2-baad-8697a497ced0/gettyimages-2184772553.jpg?auto=webp&fit=crop&height=675&width=1200",
         "Premier League Soccer: Livestream Ipswich vs. Man United From Anywhere",
         "https://www.cnet.com/tech/services-and-software/premier-league-soccer-livestream-ipswich-vs-man-united-from-anywhere/",
         "It's Ruben Amorim's first game in charge of the Red Devils.",
         "sports"
        ],
        [
         "PA285472",
         "https://media.wired.com/photos/67069550cb5bb55be44eb19e/191:100/w_1280,c_limit/100924_Stem%20Cell%20Harvesting-1.jpg",
         "Bone Marrow Donors Can Be Hard to Find. One Company Is Turning to Cadavers",
         "https://www.wired.com/story/stem-cell-donation-deceased-ossium-bone-marrow-cancer-leukemia/",
         "San Francisco–based Ossium Health has carried out three transplants for cancer patients using stem cells from deceased donors’ blood marrow in recent months.",
         "health"
        ]
       ],
       "datasetInfos": [],
       "dbfsResultPath": null,
       "isJsonSchema": true,
       "metadata": {},
       "overflow": false,
       "plotOptions": {
        "customPlotOptions": {},
        "displayType": "table",
        "pivotAggregation": null,
        "pivotColumns": null,
        "xColumns": null,
        "yColumns": null
       },
       "removedWidgets": [],
       "schema": [
        {
         "metadata": "{}",
         "name": "UserID",
         "type": "\"string\""
        },
        {
         "metadata": "{}",
         "name": "articleImage",
         "type": "\"string\""
        },
        {
         "metadata": "{}",
         "name": "articleTitle",
         "type": "\"string\""
        },
        {
         "metadata": "{}",
         "name": "articleUrl",
         "type": "\"string\""
        },
        {
         "metadata": "{}",
         "name": "description",
         "type": "\"string\""
        },
        {
         "metadata": "{}",
         "name": "genre",
         "type": "\"string\""
        }
       ],
       "type": "table"
      }
     },
     "output_type": "display_data"
    }
   ],
   "source": [
    "recommendations = {}\n",
    "user_ids = users_data.select(\"UserID\").distinct().rdd.flatMap(lambda x: x).collect()\n",
    "\n",
    "for user_id in user_ids:\n",
    "    recommendations[user_id] = generate_recommendations(user_id, users_data, global_article_data)\n",
    "\n",
    "# Combine all recommendations into a single DataFrame\n",
    "recommendations_df = spark.createDataFrame([], global_article_data.schema)\n",
    "\n",
    "# Ensure recommendations_df has a 'UserID' column if it doesn't exist\n",
    "if 'UserID' not in recommendations_df.columns:\n",
    "    recommendations_df = recommendations_df.withColumn(\"UserID\", lit(None))  # Or some default value\n",
    "\n",
    "# Combine recommendations from each user\n",
    "for user_id, recs in recommendations.items():\n",
    "    # Add UserID column to each recommendation batch\n",
    "    recs_with_user = recs.withColumn(\"UserID\", lit(user_id))\n",
    "    \n",
    "    # Ensure recs_with_user has the correct schema (6 columns: 'UserID', 'articleImage', 'articleTitle', 'articleUrl', 'description', 'genre')\n",
    "    recs_with_user = recs_with_user.select(\"UserID\", \"articleImage\", \"articleTitle\", \"articleUrl\", \"description\", \"genre\")\n",
    "    \n",
    "    # Union the current recommendations with the main recommendations DataFrame\n",
    "    recommendations_df = recommendations_df.union(recs_with_user)\n",
    "\n",
    "# Select desired co\n",
    "recommendations_df = recommendations_df.select(\"UserID\", \"articleImage\", \"articleTitle\", \"articleUrl\", \"description\", \"genre\")\n",
    "\n",
    "# Display the recommendations\n",
    "recommendations_df.show()"
   ]
  },
  {
   "cell_type": "code",
   "execution_count": null,
   "metadata": {
    "application/vnd.databricks.v1+cell": {
     "cellMetadata": {
      "byteLimit": 2048000,
      "rowLimit": 10000
     },
     "inputWidgets": {},
     "nuid": "de39361f-f97d-469c-9321-a2086c2998ba",
     "showTitle": false,
     "tableResultSettingsMap": {},
     "title": ""
    }
   },
   "outputs": [],
   "source": [
    "table_id = \"dcsc-proj-442903.trail_dcsc.recommended_data\""
   ]
  },
  {
   "cell_type": "code",
   "execution_count": null,
   "metadata": {
    "application/vnd.databricks.v1+cell": {
     "cellMetadata": {
      "byteLimit": 2048000,
      "rowLimit": 10000
     },
     "inputWidgets": {},
     "nuid": "b063f284-1874-4650-a6e2-ac46378c9e08",
     "showTitle": false,
     "tableResultSettingsMap": {},
     "title": ""
    }
   },
   "outputs": [
    {
     "data": {
      "text/plain": [
       "LoadJob<project=dcsc-proj-442903, location=US, id=030cbe3f-35af-42fb-9a1b-f8c95c39664b>"
      ]
     },
     "execution_count": 97,
     "metadata": {},
     "output_type": "execute_result"
    }
   ],
   "source": [
    "client.load_table_from_dataframe(recommendations_df,table_id)"
   ]
  }
 ],
 "metadata": {
  "application/vnd.databricks.v1+notebook": {
   "computePreferences": null,
   "dashboards": [],
   "environmentMetadata": {
    "base_environment": "",
    "client": "1"
   },
   "language": "python",
   "notebookMetadata": {
    "pythonIndentUnit": 4
   },
   "notebookName": "Untitled Notebook 2024-11-28 22:56:19",
   "widgets": {}
  },
  "language_info": {
   "name": "python"
  }
 },
 "nbformat": 4,
 "nbformat_minor": 0
}
